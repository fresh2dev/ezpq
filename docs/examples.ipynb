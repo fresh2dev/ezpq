{
 "cells": [
  {
   "cell_type": "markdown",
   "metadata": {},
   "source": [
    "# `ezpq` Examples"
   ]
  },
  {
   "cell_type": "code",
   "execution_count": 1,
   "metadata": {
    "inputHidden": false,
    "outputHidden": false
   },
   "outputs": [],
   "source": [
    "%matplotlib inline"
   ]
  },
  {
   "cell_type": "code",
   "execution_count": 2,
   "metadata": {},
   "outputs": [],
   "source": [
    "import sys\n",
    "import os"
   ]
  },
  {
   "cell_type": "code",
   "execution_count": 3,
   "metadata": {},
   "outputs": [],
   "source": [
    "if os.path.exists('../ezpq/__init__.py'):\n",
    "    sys.path.insert(0, '../')\n",
    "import ezpq"
   ]
  },
  {
   "cell_type": "code",
   "execution_count": 4,
   "metadata": {
    "inputHidden": false,
    "outputHidden": false
   },
   "outputs": [],
   "source": [
    "import os\n",
    "import time\n",
    "import random\n",
    "import logging as log\n",
    "import multiprocessing as mp\n",
    "import threading\n",
    "logger = log.getLogger()\n",
    "logger.setLevel(log.INFO)\n",
    "# logger.setLevel(log.DEBUG) # uncomment to view verbose output"
   ]
  },
  {
   "cell_type": "code",
   "execution_count": 5,
   "metadata": {},
   "outputs": [],
   "source": [
    "import pandas as pd\n",
    "from datetime import datetime"
   ]
  },
  {
   "cell_type": "code",
   "execution_count": 6,
   "metadata": {
    "inputHidden": false,
    "outputHidden": false
   },
   "outputs": [],
   "source": [
    "# Context manager to time functions\n",
    "class MyTimer():\n",
    "    '''https://www.blog.pythonlibrary.org/2016/05/24/python-101-an-intro-to-benchmarking-your-code/'''\n",
    "    def __init__(self):\n",
    "        self.start = time.time()\n",
    "\n",
    "    def __enter__(self):\n",
    "        return self\n",
    "\n",
    "    def __exit__(self, exc_type, exc_val, exc_tb):\n",
    "        end = time.time()\n",
    "        runtime = round(end - self.start, 3)\n",
    "        msg = 'Runtime: {time}'\n",
    "        print(msg.format(time=runtime))"
   ]
  },
  {
   "cell_type": "markdown",
   "metadata": {},
   "source": [
    "## Elementary example\n",
    "\n",
    "I'll start with a step-by-step example to illustrate the basic operations. The code below is what we want to optimize. It simply loops 10 times, sleeping 1 second each time, for a total of 10 seconds."
   ]
  },
  {
   "cell_type": "markdown",
   "metadata": {
    "inputHidden": false,
    "outputHidden": false
   },
   "source": [
    "```python\n",
    "for _ in range(10):\n",
    "    time.sleep(1)\n",
    "```"
   ]
  },
  {
   "cell_type": "markdown",
   "metadata": {},
   "source": [
    "Create the Queue with *n* workers."
   ]
  },
  {
   "cell_type": "code",
   "execution_count": 7,
   "metadata": {},
   "outputs": [],
   "source": [
    "Q = ezpq.Queue(n_workers=5)"
   ]
  },
  {
   "cell_type": "markdown",
   "metadata": {},
   "source": [
    "Put jobs in the Queue."
   ]
  },
  {
   "cell_type": "code",
   "execution_count": 8,
   "metadata": {},
   "outputs": [],
   "source": [
    "for _ in range(10):\n",
    "    Q.put(time.sleep, 1)"
   ]
  },
  {
   "cell_type": "markdown",
   "metadata": {},
   "source": [
    "size() will count all jobs in the waiting, working, and completed queues."
   ]
  },
  {
   "cell_type": "code",
   "execution_count": 9,
   "metadata": {},
   "outputs": [
    {
     "data": {
      "text/plain": [
       "10"
      ]
     },
     "execution_count": 9,
     "metadata": {},
     "output_type": "execute_result"
    }
   ],
   "source": [
    "Q.size()"
   ]
  },
  {
   "cell_type": "markdown",
   "metadata": {},
   "source": [
    "Create a list to store job data (runtime and output)."
   ]
  },
  {
   "cell_type": "code",
   "execution_count": 10,
   "metadata": {},
   "outputs": [],
   "source": [
    "results = list()"
   ]
  },
  {
   "cell_type": "markdown",
   "metadata": {},
   "source": [
    "`get()` is used to pop the highest priority job from the *completed* queue. The result must be stored or it will be lost.\n",
    "\n",
    "When no output is available and `wait` is true, the operation will wait for the next job to finish."
   ]
  },
  {
   "cell_type": "code",
   "execution_count": 11,
   "metadata": {},
   "outputs": [],
   "source": [
    "done = Q.get(wait=True) # get() returns a dict\n",
    "\n",
    "results.append(done) # append dictionary to results list."
   ]
  },
  {
   "cell_type": "markdown",
   "metadata": {},
   "source": [
    "Count remaining jobs after the operation above."
   ]
  },
  {
   "cell_type": "code",
   "execution_count": 12,
   "metadata": {},
   "outputs": [
    {
     "data": {
      "text/plain": [
       "9"
      ]
     },
     "execution_count": 12,
     "metadata": {},
     "output_type": "execute_result"
    }
   ],
   "source": [
    "Q.size()"
   ]
  },
  {
   "cell_type": "markdown",
   "metadata": {},
   "source": [
    "`collect()` is used to repeatedly `get()` all completed jobs.\n",
    "\n",
    "`collect()` does not support the `wait` parameter;\n",
    "\n",
    "Instead, wait for all running and queued jobs to complete with `wait()` before calling `collect()`."
   ]
  },
  {
   "cell_type": "code",
   "execution_count": 13,
   "metadata": {},
   "outputs": [],
   "source": [
    "Q.wait()\n",
    "\n",
    "done_list = Q.collect() # collect() returns a list\n",
    "\n",
    "results.extend(done_list) # extend result list "
   ]
  },
  {
   "cell_type": "markdown",
   "metadata": {},
   "source": [
    "Verify no jobs remain."
   ]
  },
  {
   "cell_type": "code",
   "execution_count": 14,
   "metadata": {},
   "outputs": [
    {
     "data": {
      "text/plain": [
       "0"
      ]
     },
     "execution_count": 14,
     "metadata": {},
     "output_type": "execute_result"
    }
   ],
   "source": [
    "Q.size()"
   ]
  },
  {
   "cell_type": "markdown",
   "metadata": {},
   "source": [
    "Dispose of the `ezpq`. This will ensure all jobs are stopped and data is discarded."
   ]
  },
  {
   "cell_type": "code",
   "execution_count": 15,
   "metadata": {},
   "outputs": [],
   "source": [
    "Q.dispose()"
   ]
  },
  {
   "cell_type": "markdown",
   "metadata": {},
   "source": [
    "Now, inspect a single job result."
   ]
  },
  {
   "cell_type": "code",
   "execution_count": 16,
   "metadata": {},
   "outputs": [
    {
     "data": {
      "text/plain": [
       "{'qid': '50630fdf',\n",
       " 'id': 1,\n",
       " 'name': 1,\n",
       " 'priority': 100,\n",
       " 'lane': None,\n",
       " 'timeout': 0,\n",
       " 'function': 'sleep',\n",
       " 'args': [1],\n",
       " 'kwargs': None,\n",
       " 'submitted': datetime.datetime(2019, 2, 18, 20, 20, 17, 663244),\n",
       " 'started': datetime.datetime(2019, 2, 18, 20, 20, 17, 758352),\n",
       " 'ended': datetime.datetime(2019, 2, 18, 20, 20, 18, 763252),\n",
       " 'processed': datetime.datetime(2019, 2, 18, 20, 20, 18, 860747),\n",
       " 'exitcode': 0,\n",
       " 'cancelled': False,\n",
       " 'runtime': 1.0048999786376953,\n",
       " 'output': None,\n",
       " 'exception': None,\n",
       " 'callback': None}"
      ]
     },
     "execution_count": 16,
     "metadata": {},
     "output_type": "execute_result"
    }
   ],
   "source": [
    "results[0]"
   ]
  },
  {
   "cell_type": "markdown",
   "metadata": {},
   "source": [
    "Create a pandas dataframe for a grid view of the results."
   ]
  },
  {
   "cell_type": "code",
   "execution_count": 17,
   "metadata": {},
   "outputs": [
    {
     "data": {
      "text/html": [
       "<div>\n",
       "<style scoped>\n",
       "    .dataframe tbody tr th:only-of-type {\n",
       "        vertical-align: middle;\n",
       "    }\n",
       "\n",
       "    .dataframe tbody tr th {\n",
       "        vertical-align: top;\n",
       "    }\n",
       "\n",
       "    .dataframe thead th {\n",
       "        text-align: right;\n",
       "    }\n",
       "</style>\n",
       "<table border=\"1\" class=\"dataframe\">\n",
       "  <thead>\n",
       "    <tr style=\"text-align: right;\">\n",
       "      <th></th>\n",
       "      <th>args</th>\n",
       "      <th>callback</th>\n",
       "      <th>cancelled</th>\n",
       "      <th>ended</th>\n",
       "      <th>exception</th>\n",
       "      <th>exitcode</th>\n",
       "      <th>function</th>\n",
       "      <th>id</th>\n",
       "      <th>kwargs</th>\n",
       "      <th>lane</th>\n",
       "      <th>name</th>\n",
       "      <th>output</th>\n",
       "      <th>priority</th>\n",
       "      <th>processed</th>\n",
       "      <th>qid</th>\n",
       "      <th>runtime</th>\n",
       "      <th>started</th>\n",
       "      <th>submitted</th>\n",
       "      <th>timeout</th>\n",
       "    </tr>\n",
       "  </thead>\n",
       "  <tbody>\n",
       "    <tr>\n",
       "      <th>0</th>\n",
       "      <td>[1]</td>\n",
       "      <td>None</td>\n",
       "      <td>False</td>\n",
       "      <td>2019-02-18 20:20:18.763252</td>\n",
       "      <td>None</td>\n",
       "      <td>0</td>\n",
       "      <td>sleep</td>\n",
       "      <td>1</td>\n",
       "      <td>None</td>\n",
       "      <td>None</td>\n",
       "      <td>1</td>\n",
       "      <td>None</td>\n",
       "      <td>100</td>\n",
       "      <td>2019-02-18 20:20:18.860747</td>\n",
       "      <td>50630fdf</td>\n",
       "      <td>1.004900</td>\n",
       "      <td>2019-02-18 20:20:17.758352</td>\n",
       "      <td>2019-02-18 20:20:17.663244</td>\n",
       "      <td>0</td>\n",
       "    </tr>\n",
       "    <tr>\n",
       "      <th>1</th>\n",
       "      <td>[1]</td>\n",
       "      <td>None</td>\n",
       "      <td>False</td>\n",
       "      <td>2019-02-18 20:20:18.767614</td>\n",
       "      <td>None</td>\n",
       "      <td>0</td>\n",
       "      <td>sleep</td>\n",
       "      <td>2</td>\n",
       "      <td>None</td>\n",
       "      <td>None</td>\n",
       "      <td>2</td>\n",
       "      <td>None</td>\n",
       "      <td>100</td>\n",
       "      <td>2019-02-18 20:20:18.861133</td>\n",
       "      <td>50630fdf</td>\n",
       "      <td>1.004243</td>\n",
       "      <td>2019-02-18 20:20:17.763371</td>\n",
       "      <td>2019-02-18 20:20:17.663274</td>\n",
       "      <td>0</td>\n",
       "    </tr>\n",
       "    <tr>\n",
       "      <th>2</th>\n",
       "      <td>[1]</td>\n",
       "      <td>None</td>\n",
       "      <td>False</td>\n",
       "      <td>2019-02-18 20:20:18.773731</td>\n",
       "      <td>None</td>\n",
       "      <td>0</td>\n",
       "      <td>sleep</td>\n",
       "      <td>3</td>\n",
       "      <td>None</td>\n",
       "      <td>None</td>\n",
       "      <td>3</td>\n",
       "      <td>None</td>\n",
       "      <td>100</td>\n",
       "      <td>2019-02-18 20:20:18.861372</td>\n",
       "      <td>50630fdf</td>\n",
       "      <td>1.004808</td>\n",
       "      <td>2019-02-18 20:20:17.768923</td>\n",
       "      <td>2019-02-18 20:20:17.663301</td>\n",
       "      <td>0</td>\n",
       "    </tr>\n",
       "    <tr>\n",
       "      <th>3</th>\n",
       "      <td>[1]</td>\n",
       "      <td>None</td>\n",
       "      <td>False</td>\n",
       "      <td>2019-02-18 20:20:18.778162</td>\n",
       "      <td>None</td>\n",
       "      <td>0</td>\n",
       "      <td>sleep</td>\n",
       "      <td>4</td>\n",
       "      <td>None</td>\n",
       "      <td>None</td>\n",
       "      <td>4</td>\n",
       "      <td>None</td>\n",
       "      <td>100</td>\n",
       "      <td>2019-02-18 20:20:18.861594</td>\n",
       "      <td>50630fdf</td>\n",
       "      <td>1.004613</td>\n",
       "      <td>2019-02-18 20:20:17.773550</td>\n",
       "      <td>2019-02-18 20:20:17.663330</td>\n",
       "      <td>0</td>\n",
       "    </tr>\n",
       "    <tr>\n",
       "      <th>4</th>\n",
       "      <td>[1]</td>\n",
       "      <td>None</td>\n",
       "      <td>False</td>\n",
       "      <td>2019-02-18 20:20:18.801069</td>\n",
       "      <td>None</td>\n",
       "      <td>0</td>\n",
       "      <td>sleep</td>\n",
       "      <td>5</td>\n",
       "      <td>None</td>\n",
       "      <td>None</td>\n",
       "      <td>5</td>\n",
       "      <td>None</td>\n",
       "      <td>100</td>\n",
       "      <td>2019-02-18 20:20:18.861894</td>\n",
       "      <td>50630fdf</td>\n",
       "      <td>1.006149</td>\n",
       "      <td>2019-02-18 20:20:17.794920</td>\n",
       "      <td>2019-02-18 20:20:17.663351</td>\n",
       "      <td>0</td>\n",
       "    </tr>\n",
       "  </tbody>\n",
       "</table>\n",
       "</div>"
      ],
      "text/plain": [
       "  args callback  cancelled                      ended exception  exitcode  \\\n",
       "0  [1]     None      False 2019-02-18 20:20:18.763252      None         0   \n",
       "1  [1]     None      False 2019-02-18 20:20:18.767614      None         0   \n",
       "2  [1]     None      False 2019-02-18 20:20:18.773731      None         0   \n",
       "3  [1]     None      False 2019-02-18 20:20:18.778162      None         0   \n",
       "4  [1]     None      False 2019-02-18 20:20:18.801069      None         0   \n",
       "\n",
       "  function  id kwargs  lane  name output  priority                  processed  \\\n",
       "0    sleep   1   None  None     1   None       100 2019-02-18 20:20:18.860747   \n",
       "1    sleep   2   None  None     2   None       100 2019-02-18 20:20:18.861133   \n",
       "2    sleep   3   None  None     3   None       100 2019-02-18 20:20:18.861372   \n",
       "3    sleep   4   None  None     4   None       100 2019-02-18 20:20:18.861594   \n",
       "4    sleep   5   None  None     5   None       100 2019-02-18 20:20:18.861894   \n",
       "\n",
       "        qid   runtime                    started                  submitted  \\\n",
       "0  50630fdf  1.004900 2019-02-18 20:20:17.758352 2019-02-18 20:20:17.663244   \n",
       "1  50630fdf  1.004243 2019-02-18 20:20:17.763371 2019-02-18 20:20:17.663274   \n",
       "2  50630fdf  1.004808 2019-02-18 20:20:17.768923 2019-02-18 20:20:17.663301   \n",
       "3  50630fdf  1.004613 2019-02-18 20:20:17.773550 2019-02-18 20:20:17.663330   \n",
       "4  50630fdf  1.006149 2019-02-18 20:20:17.794920 2019-02-18 20:20:17.663351   \n",
       "\n",
       "   timeout  \n",
       "0        0  \n",
       "1        0  \n",
       "2        0  \n",
       "3        0  \n",
       "4        0  "
      ]
     },
     "execution_count": 17,
     "metadata": {},
     "output_type": "execute_result"
    }
   ],
   "source": [
    "df = pd.DataFrame(results)\n",
    "\n",
    "df.head()"
   ]
  },
  {
   "cell_type": "markdown",
   "metadata": {},
   "source": [
    "Lastly, visualize the steps."
   ]
  },
  {
   "cell_type": "code",
   "execution_count": 18,
   "metadata": {},
   "outputs": [
    {
     "data": {
      "image/png": "[encoded data removed]",
      "text/plain": [
       "<Figure size 640x480 with 1 Axes>"
      ]
     },
     "metadata": {},
     "output_type": "display_data"
    },
    {
     "data": {
      "text/plain": [
       "<ggplot: (-9223363254811479629)>"
      ]
     },
     "execution_count": 18,
     "metadata": {},
     "output_type": "execute_result"
    }
   ],
   "source": [
    "ezpq.Plot(results).build()"
   ]
  },
  {
   "cell_type": "markdown",
   "metadata": {},
   "source": [
    "In the chart above, the colored lines overlap because the jobs were run in parallel. Contrast that with the following example using serial processing."
   ]
  },
  {
   "cell_type": "markdown",
   "metadata": {},
   "source": [
    "## Practical Examples"
   ]
  },
  {
   "cell_type": "markdown",
   "metadata": {},
   "source": [
    "Shared parameters; adjust as desired."
   ]
  },
  {
   "cell_type": "code",
   "execution_count": 19,
   "metadata": {
    "inputHidden": false,
    "outputHidden": false
   },
   "outputs": [],
   "source": [
    "n_workers = 10 # number of workers to process the queue.\n",
    "n_inputs  = 50 # number of inputs to the queue.\n",
    "job_time  = 1  # number of seconds each input will 'sleep'"
   ]
  },
  {
   "cell_type": "markdown",
   "metadata": {},
   "source": [
    "---"
   ]
  },
  {
   "cell_type": "code",
   "execution_count": 20,
   "metadata": {
    "inputHidden": false,
    "outputHidden": false
   },
   "outputs": [
    {
     "data": {
      "application/vnd.jupyter.widget-view+json": {
       "model_id": "f3ad832275004ee0bb2d0388a5992673",
       "version_major": 2,
       "version_minor": 0
      },
      "text/plain": [
       "HBox(children=(IntProgress(value=0, max=50), HTML(value='')))"
      ]
     },
     "metadata": {},
     "output_type": "display_data"
    },
    {
     "name": "stdout",
     "output_type": "stream",
     "text": [
      "\n"
     ]
    },
    {
     "data": {
      "text/html": [
       "<div>\n",
       "<style scoped>\n",
       "    .dataframe tbody tr th:only-of-type {\n",
       "        vertical-align: middle;\n",
       "    }\n",
       "\n",
       "    .dataframe tbody tr th {\n",
       "        vertical-align: top;\n",
       "    }\n",
       "\n",
       "    .dataframe thead th {\n",
       "        text-align: right;\n",
       "    }\n",
       "</style>\n",
       "<table border=\"1\" class=\"dataframe\">\n",
       "  <thead>\n",
       "    <tr style=\"text-align: right;\">\n",
       "      <th></th>\n",
       "      <th>args</th>\n",
       "      <th>callback</th>\n",
       "      <th>cancelled</th>\n",
       "      <th>ended</th>\n",
       "      <th>exception</th>\n",
       "      <th>exitcode</th>\n",
       "      <th>function</th>\n",
       "      <th>id</th>\n",
       "      <th>kwargs</th>\n",
       "      <th>lane</th>\n",
       "      <th>name</th>\n",
       "      <th>output</th>\n",
       "      <th>priority</th>\n",
       "      <th>processed</th>\n",
       "      <th>qid</th>\n",
       "      <th>runtime</th>\n",
       "      <th>started</th>\n",
       "      <th>submitted</th>\n",
       "      <th>timeout</th>\n",
       "    </tr>\n",
       "  </thead>\n",
       "  <tbody>\n",
       "    <tr>\n",
       "      <th>0</th>\n",
       "      <td>[1]</td>\n",
       "      <td>None</td>\n",
       "      <td>False</td>\n",
       "      <td>2019-02-18 20:20:22.972163</td>\n",
       "      <td>None</td>\n",
       "      <td>0</td>\n",
       "      <td>sleep</td>\n",
       "      <td>1</td>\n",
       "      <td>None</td>\n",
       "      <td>None</td>\n",
       "      <td>1</td>\n",
       "      <td>None</td>\n",
       "      <td>100</td>\n",
       "      <td>2019-02-18 20:20:23.069554</td>\n",
       "      <td>3bd621c4</td>\n",
       "      <td>1.004521</td>\n",
       "      <td>2019-02-18 20:20:21.967642</td>\n",
       "      <td>2019-02-18 20:20:21.862432</td>\n",
       "      <td>0</td>\n",
       "    </tr>\n",
       "    <tr>\n",
       "      <th>1</th>\n",
       "      <td>[1]</td>\n",
       "      <td>None</td>\n",
       "      <td>False</td>\n",
       "      <td>2019-02-18 20:20:22.978533</td>\n",
       "      <td>None</td>\n",
       "      <td>0</td>\n",
       "      <td>sleep</td>\n",
       "      <td>2</td>\n",
       "      <td>None</td>\n",
       "      <td>None</td>\n",
       "      <td>2</td>\n",
       "      <td>None</td>\n",
       "      <td>100</td>\n",
       "      <td>2019-02-18 20:20:23.069994</td>\n",
       "      <td>3bd621c4</td>\n",
       "      <td>1.004548</td>\n",
       "      <td>2019-02-18 20:20:21.973985</td>\n",
       "      <td>2019-02-18 20:20:21.862470</td>\n",
       "      <td>0</td>\n",
       "    </tr>\n",
       "    <tr>\n",
       "      <th>2</th>\n",
       "      <td>[1]</td>\n",
       "      <td>None</td>\n",
       "      <td>False</td>\n",
       "      <td>2019-02-18 20:20:22.986742</td>\n",
       "      <td>None</td>\n",
       "      <td>0</td>\n",
       "      <td>sleep</td>\n",
       "      <td>3</td>\n",
       "      <td>None</td>\n",
       "      <td>None</td>\n",
       "      <td>3</td>\n",
       "      <td>None</td>\n",
       "      <td>100</td>\n",
       "      <td>2019-02-18 20:20:23.070316</td>\n",
       "      <td>3bd621c4</td>\n",
       "      <td>1.005369</td>\n",
       "      <td>2019-02-18 20:20:21.981373</td>\n",
       "      <td>2019-02-18 20:20:21.862491</td>\n",
       "      <td>0</td>\n",
       "    </tr>\n",
       "    <tr>\n",
       "      <th>3</th>\n",
       "      <td>[1]</td>\n",
       "      <td>None</td>\n",
       "      <td>False</td>\n",
       "      <td>2019-02-18 20:20:22.994291</td>\n",
       "      <td>None</td>\n",
       "      <td>0</td>\n",
       "      <td>sleep</td>\n",
       "      <td>4</td>\n",
       "      <td>None</td>\n",
       "      <td>None</td>\n",
       "      <td>4</td>\n",
       "      <td>None</td>\n",
       "      <td>100</td>\n",
       "      <td>2019-02-18 20:20:23.070578</td>\n",
       "      <td>3bd621c4</td>\n",
       "      <td>1.005236</td>\n",
       "      <td>2019-02-18 20:20:21.989055</td>\n",
       "      <td>2019-02-18 20:20:21.862505</td>\n",
       "      <td>0</td>\n",
       "    </tr>\n",
       "    <tr>\n",
       "      <th>4</th>\n",
       "      <td>[1]</td>\n",
       "      <td>None</td>\n",
       "      <td>False</td>\n",
       "      <td>2019-02-18 20:20:22.999577</td>\n",
       "      <td>None</td>\n",
       "      <td>0</td>\n",
       "      <td>sleep</td>\n",
       "      <td>5</td>\n",
       "      <td>None</td>\n",
       "      <td>None</td>\n",
       "      <td>5</td>\n",
       "      <td>None</td>\n",
       "      <td>100</td>\n",
       "      <td>2019-02-18 20:20:23.070843</td>\n",
       "      <td>3bd621c4</td>\n",
       "      <td>1.003640</td>\n",
       "      <td>2019-02-18 20:20:21.995937</td>\n",
       "      <td>2019-02-18 20:20:21.862532</td>\n",
       "      <td>0</td>\n",
       "    </tr>\n",
       "  </tbody>\n",
       "</table>\n",
       "</div>"
      ],
      "text/plain": [
       "  args callback  cancelled                      ended exception  exitcode  \\\n",
       "0  [1]     None      False 2019-02-18 20:20:22.972163      None         0   \n",
       "1  [1]     None      False 2019-02-18 20:20:22.978533      None         0   \n",
       "2  [1]     None      False 2019-02-18 20:20:22.986742      None         0   \n",
       "3  [1]     None      False 2019-02-18 20:20:22.994291      None         0   \n",
       "4  [1]     None      False 2019-02-18 20:20:22.999577      None         0   \n",
       "\n",
       "  function  id kwargs  lane  name output  priority                  processed  \\\n",
       "0    sleep   1   None  None     1   None       100 2019-02-18 20:20:23.069554   \n",
       "1    sleep   2   None  None     2   None       100 2019-02-18 20:20:23.069994   \n",
       "2    sleep   3   None  None     3   None       100 2019-02-18 20:20:23.070316   \n",
       "3    sleep   4   None  None     4   None       100 2019-02-18 20:20:23.070578   \n",
       "4    sleep   5   None  None     5   None       100 2019-02-18 20:20:23.070843   \n",
       "\n",
       "        qid   runtime                    started                  submitted  \\\n",
       "0  3bd621c4  1.004521 2019-02-18 20:20:21.967642 2019-02-18 20:20:21.862432   \n",
       "1  3bd621c4  1.004548 2019-02-18 20:20:21.973985 2019-02-18 20:20:21.862470   \n",
       "2  3bd621c4  1.005369 2019-02-18 20:20:21.981373 2019-02-18 20:20:21.862491   \n",
       "3  3bd621c4  1.005236 2019-02-18 20:20:21.989055 2019-02-18 20:20:21.862505   \n",
       "4  3bd621c4  1.003640 2019-02-18 20:20:21.995937 2019-02-18 20:20:21.862532   \n",
       "\n",
       "   timeout  \n",
       "0        0  \n",
       "1        0  \n",
       "2        0  \n",
       "3        0  \n",
       "4        0  "
      ]
     },
     "execution_count": 20,
     "metadata": {},
     "output_type": "execute_result"
    }
   ],
   "source": [
    "with ezpq.Queue(n_workers=n_workers) as Q: # create an ezpq.Queue() with 10 workers.    \n",
    "    for i in range(n_inputs): # create 50 jobs, each sleeping for 1 second.\n",
    "        Q.put(function=time.sleep, args=job_time)\n",
    "    \n",
    "    Q.waitpb() # wait for all jobs to complete.\n",
    "    \n",
    "    results = Q.collect() # collect completed jobs from queue.\n",
    "    \n",
    "df = pd.DataFrame(results)\n",
    "\n",
    "df.head()"
   ]
  },
  {
   "cell_type": "code",
   "execution_count": 21,
   "metadata": {
    "inputHidden": false,
    "outputHidden": false
   },
   "outputs": [
    {
     "name": "stderr",
     "output_type": "stream",
     "text": [
      "/home/donald/envs/mypy36/lib/python3.6/site-packages/plotnine/ggplot.py:706: UserWarning: Saving 6.4 x 4.8 in image.\n",
      "  from_inches(height, units), units))\n",
      "/home/donald/envs/mypy36/lib/python3.6/site-packages/plotnine/ggplot.py:707: UserWarning: Filename: imgs/50x1x10.png\n",
      "  warn('Filename: {}'.format(filename))\n"
     ]
    },
    {
     "data": {
      "image/png": "[encoded data removed]",
      "text/plain": [
       "<Figure size 640x480 with 1 Axes>"
      ]
     },
     "metadata": {},
     "output_type": "display_data"
    },
    {
     "data": {
      "text/plain": [
       "<ggplot: (-9223363254735900167)>"
      ]
     },
     "execution_count": 21,
     "metadata": {},
     "output_type": "execute_result"
    }
   ],
   "source": [
    "title='{} inputs, {}s job time, {} workers (parallel).'.format(n_inputs, job_time, n_workers)\n",
    "\n",
    "plt = ezpq.Plot(results).build(title=title)\n",
    "\n",
    "plt.save('imgs/{}x{}x{}.png'.format(n_inputs, job_time, n_workers))\n",
    "plt"
   ]
  },
  {
   "cell_type": "markdown",
   "metadata": {},
   "source": [
    "## Job Priority"
   ]
  },
  {
   "cell_type": "markdown",
   "metadata": {},
   "source": [
    "Jobs are prioritized by (1) custom priority and (2) arrival time. By using a priority queue for both pending and completed jobs, you can be sure that higher priority jobs are executed and retrieved sooner.\n",
    "\n",
    "The default priority value is 100. Lower values take higher priority."
   ]
  },
  {
   "cell_type": "code",
   "execution_count": 22,
   "metadata": {
    "inputHidden": false,
    "outputHidden": false
   },
   "outputs": [
    {
     "data": {
      "application/vnd.jupyter.widget-view+json": {
       "model_id": "6d9dfdca9a5948b996aa7ff469e7703a",
       "version_major": 2,
       "version_minor": 0
      },
      "text/plain": [
       "HBox(children=(IntProgress(value=0, max=50), HTML(value='')))"
      ]
     },
     "metadata": {},
     "output_type": "display_data"
    },
    {
     "name": "stdout",
     "output_type": "stream",
     "text": [
      "\n"
     ]
    },
    {
     "name": "stderr",
     "output_type": "stream",
     "text": [
      "/home/donald/envs/mypy36/lib/python3.6/site-packages/plotnine/ggplot.py:706: UserWarning: Saving 6.4 x 4.8 in image.\n",
      "  from_inches(height, units), units))\n",
      "/home/donald/envs/mypy36/lib/python3.6/site-packages/plotnine/ggplot.py:707: UserWarning: Filename: imgs/100x1x10_priority.png\n",
      "  warn('Filename: {}'.format(filename))\n"
     ]
    },
    {
     "data": {
      "image/png": "[encoded data removed]",
      "text/plain": [
       "<Figure size 640x480 with 1 Axes>"
      ]
     },
     "metadata": {},
     "output_type": "display_data"
    },
    {
     "data": {
      "text/plain": [
       "<ggplot: (8782118559268)>"
      ]
     },
     "execution_count": 22,
     "metadata": {},
     "output_type": "execute_result"
    }
   ],
   "source": [
    "with ezpq.Queue(n_workers=n_workers) as Q:\n",
    "\n",
    "    for i in range(n_inputs):\n",
    "        Q.put(function=time.sleep, args=job_time,\n",
    "              priority=int((i+1) % 10 != 0)+1) # prioritize numbers divisible by ten.\n",
    "\n",
    "    Q.waitpb()\n",
    "\n",
    "    results = Q.collect()\n",
    "\n",
    "title = '{} inputs, {}s job time, {} workers (prioritized).'.format(n_inputs, job_time, n_workers)\n",
    "\n",
    "plt = ezpq.Plot(results).build(title=title, color_by='priority')\n",
    "\n",
    "plt.save('imgs/100x1x10_priority.png')\n",
    "plt"
   ]
  },
  {
   "cell_type": "markdown",
   "metadata": {},
   "source": [
    "## Threads\n",
    "\n",
    "By default, `ezpq.Queue` uses `multiprocessing.Process` to spawn new jobs. However, you can use `threading.Thread` instead by specifying `job_runner=Thread` when creating the Queue. Some of the differences between processes and threads are explained [here](https://medium.com/@bfortuner/python-multithreading-vs-multiprocessing-73072ce5600b).\n",
    "\n",
    "> Note that, inherently, `Thread` loses the ability to enforce a timeout, to kill jobs, or to obtain exit codes.\n",
    "\n",
    "Aside from that, there's no difference in how you interact with ezpq.\n",
    "\n",
    "In addition to using Threads, the example below varies the job time between 0-2 seconds."
   ]
  },
  {
   "cell_type": "code",
   "execution_count": 23,
   "metadata": {
    "inputHidden": false,
    "outputHidden": false
   },
   "outputs": [
    {
     "data": {
      "application/vnd.jupyter.widget-view+json": {
       "model_id": "ecb60e878f194caf8f1e9a9d1aa2dfd5",
       "version_major": 2,
       "version_minor": 0
      },
      "text/plain": [
       "HBox(children=(IntProgress(value=0, max=50), HTML(value='')))"
      ]
     },
     "metadata": {},
     "output_type": "display_data"
    },
    {
     "name": "stdout",
     "output_type": "stream",
     "text": [
      "\n"
     ]
    },
    {
     "name": "stderr",
     "output_type": "stream",
     "text": [
      "/home/donald/envs/mypy36/lib/python3.6/site-packages/plotnine/ggplot.py:706: UserWarning: Saving 6.4 x 4.8 in image.\n",
      "  from_inches(height, units), units))\n",
      "/home/donald/envs/mypy36/lib/python3.6/site-packages/plotnine/ggplot.py:707: UserWarning: Filename: imgs/100xNx10.png\n",
      "  warn('Filename: {}'.format(filename))\n"
     ]
    },
    {
     "data": {
      "image/png": "[encoded data removed]",
      "text/plain": [
       "<Figure size 640x480 with 1 Axes>"
      ]
     },
     "metadata": {},
     "output_type": "display_data"
    },
    {
     "data": {
      "text/plain": [
       "<ggplot: (-9223363254735900356)>"
      ]
     },
     "execution_count": 23,
     "metadata": {},
     "output_type": "execute_result"
    }
   ],
   "source": [
    "from threading import Thread\n",
    "\n",
    "with ezpq.Queue(n_workers=n_workers, job_runner=Thread) as Q:\n",
    "\n",
    "    for i in range(n_inputs):\n",
    "        sleep_sec = random.randint(0, job_time*2000) / 1000 # sleep for random time between 0-2s (avg=1s).\n",
    "        \n",
    "        Q.put(function=time.sleep, args=sleep_sec)\n",
    "\n",
    "    Q.waitpb()\n",
    "\n",
    "    results = Q.collect()\n",
    "\n",
    "title = '{} inputs, 0-2s job time, {} workers (threads).'.format(n_inputs, job_time, n_workers)\n",
    "plt = ezpq.Plot(results).build(title=title)\n",
    "\n",
    "plt.save('imgs/100xNx10.png')\n",
    "plt"
   ]
  },
  {
   "cell_type": "markdown",
   "metadata": {},
   "source": [
    "## Timeout\n",
    "\n",
    "> Recall that you can only use timeout when using processes, not threads."
   ]
  },
  {
   "cell_type": "code",
   "execution_count": 24,
   "metadata": {
    "inputHidden": false,
    "outputHidden": false
   },
   "outputs": [],
   "source": [
    "n_inputs = 50\n",
    "job_time = 1"
   ]
  },
  {
   "cell_type": "code",
   "execution_count": 25,
   "metadata": {
    "inputHidden": false,
    "outputHidden": false
   },
   "outputs": [
    {
     "data": {
      "application/vnd.jupyter.widget-view+json": {
       "model_id": "4361a5fe28944ba784565f1febad695f",
       "version_major": 2,
       "version_minor": 0
      },
      "text/plain": [
       "HBox(children=(IntProgress(value=0, max=50), HTML(value='')))"
      ]
     },
     "metadata": {},
     "output_type": "display_data"
    },
    {
     "name": "stdout",
     "output_type": "stream",
     "text": [
      "\n"
     ]
    },
    {
     "name": "stderr",
     "output_type": "stream",
     "text": [
      "/home/donald/envs/mypy36/lib/python3.6/site-packages/plotnine/ggplot.py:706: UserWarning: Saving 6.4 x 4.8 in image.\n",
      "  from_inches(height, units), units))\n",
      "/home/donald/envs/mypy36/lib/python3.6/site-packages/plotnine/ggplot.py:707: UserWarning: Filename: imgs/50xNx10_timeouts.png\n",
      "  warn('Filename: {}'.format(filename))\n"
     ]
    },
    {
     "data": {
      "image/png": "[encoded data removed]",
      "text/plain": [
       "<Figure size 640x480 with 1 Axes>"
      ]
     },
     "metadata": {},
     "output_type": "display_data"
    },
    {
     "data": {
      "text/plain": [
       "<ggplot: (-9223363254813039721)>"
      ]
     },
     "execution_count": 25,
     "metadata": {},
     "output_type": "execute_result"
    }
   ],
   "source": [
    "with ezpq.Queue(n_workers=n_workers) as Q:\n",
    "\n",
    "    for i in range(n_inputs):\n",
    "        sleep_sec = random.randint(0, job_time*2000) / 1000 # sleep between 0s and 2s (avg=1s).\n",
    "\n",
    "        Q.put(function=time.sleep, args=sleep_sec,\n",
    "              timeout=job_time*1.8) # 1.8 < 2; timeout will occur on ~10% of jobs.\n",
    "\n",
    "    Q.waitpb()\n",
    "\n",
    "    results = Q.collect()\n",
    "    \n",
    "title = '{} inputs, 0-2s job time, {} workers (timeout=1.8s).'.format(n_inputs, job_time, n_workers)\n",
    "\n",
    "plt = ezpq.Plot(results).build(color_by='cancelled',\n",
    "                               color_pal=['blue', 'red'],\n",
    "                               title=title)\n",
    "\n",
    "plt.save('imgs/{}xNx{}_timeouts.png'.format(n_inputs, n_workers))\n",
    "plt"
   ]
  },
  {
   "cell_type": "markdown",
   "metadata": {},
   "source": [
    "## Logging\n",
    "\n",
    "Writing to a log is as simple as adding `log_file='/path/to/file.csv'`. \n",
    "\n",
    "The example below illustrates a simply real-world use case. The goal is to obtain the total count and size of files within various folders. One process will be spawned to enumerate each folder. By doing so in parallel, the entire operation only takes as long as the single-most long operation."
   ]
  },
  {
   "cell_type": "markdown",
   "metadata": {},
   "source": [
    "Define the function to enumerate the files."
   ]
  },
  {
   "cell_type": "code",
   "execution_count": 26,
   "metadata": {
    "inputHidden": false,
    "outputHidden": false
   },
   "outputs": [],
   "source": [
    "import os, fnmatch\n",
    "def enum_files(path, pattern):\n",
    "    '''https://stackoverflow.com/a/1724723'''\n",
    "    n, size = 0, 0\n",
    "    for root, dirs, files in os.walk(path, followlinks=True):\n",
    "        for name in files:\n",
    "            if pattern is None or fnmatch.fnmatch(name, pattern):\n",
    "                n += 1\n",
    "                size += os.path.getsize( os.path.join(root, name) )\n",
    "                \n",
    "    return (n, size)\n",
    "\n",
    "root_dir = os.environ['HOME']\n",
    "\n",
    "include_dirs = [os.path.join(root_dir, x)\n",
    "                for x in ['bin', 'Desktop', 'Documents', 'Downloads', 'Music', 'Pictures']]"
   ]
  },
  {
   "cell_type": "code",
   "execution_count": 27,
   "metadata": {},
   "outputs": [],
   "source": [
    "log_file = 'ezpq_log.csv'\n",
    "\n",
    "# first, remove existing log file.\n",
    "if os.path.exists(log_file):\n",
    "    os.unlink(log_file)"
   ]
  },
  {
   "cell_type": "markdown",
   "metadata": {},
   "source": [
    "Each result will be written to a CSV file and discarded. Afterward, we'll read the CSV back in and draw a plot.\n",
    "\n",
    "Notice there is no call to `get()` or `collect()`. Because `auto_remove=True`, jobs are discarded; there is no completed queue to pull from."
   ]
  },
  {
   "cell_type": "code",
   "execution_count": 28,
   "metadata": {
    "inputHidden": false,
    "outputHidden": false
   },
   "outputs": [
    {
     "data": {
      "application/vnd.jupyter.widget-view+json": {
       "model_id": "bbd4261aefaf473ebef5582808ccf030",
       "version_major": 2,
       "version_minor": 0
      },
      "text/plain": [
       "HBox(children=(IntProgress(value=0, max=6), HTML(value='')))"
      ]
     },
     "metadata": {},
     "output_type": "display_data"
    },
    {
     "name": "stderr",
     "output_type": "stream",
     "text": [
      "Process 3:\n",
      "Traceback (most recent call last):\n",
      "  File \"/usr/lib/python3.6/multiprocessing/process.py\", line 258, in _bootstrap\n",
      "    self.run()\n",
      "  File \"/usr/lib/python3.6/multiprocessing/process.py\", line 93, in run\n",
      "    self._target(*self._args, **self._kwargs)\n",
      "  File \"../ezpq/Queue.py\", line 587, in _job_wrap\n",
      "    raise ex_obj\n",
      "  File \"../ezpq/Queue.py\", line 578, in _job_wrap\n",
      "    out = _job.function(*args, **kwargs)\n",
      "  File \"<ipython-input-26-ca195106171a>\", line 9, in enum_files\n",
      "    size += os.path.getsize( os.path.join(root, name) )\n",
      "  File \"/usr/lib/python3.6/genericpath.py\", line 50, in getsize\n",
      "    return os.stat(filename).st_size\n",
      "FileNotFoundError: [Errno 2] No such file or directory: '/home/donald/Documents/Dropbox/pwsh/pskafka/kafkacat-1.4.0RC1/tmp-bootstrap/usr/local/lib/librdkafka++.so'\n"
     ]
    },
    {
     "name": "stdout",
     "output_type": "stream",
     "text": [
      "\n"
     ]
    }
   ],
   "source": [
    "with ezpq.Queue(n_workers = len(include_dirs),\n",
    "                log_file=log_file, auto_remove=True) as Q:\n",
    "\n",
    "    for path in include_dirs:\n",
    "        Q.put(name=path,\n",
    "              function=enum_files,\n",
    "              kwargs={'path': path, 'pattern': '*'})\n",
    "\n",
    "    Q.waitpb()"
   ]
  },
  {
   "cell_type": "markdown",
   "metadata": {},
   "source": [
    "Read the CSV file back in with pandas."
   ]
  },
  {
   "cell_type": "code",
   "execution_count": 29,
   "metadata": {},
   "outputs": [
    {
     "data": {
      "text/html": [
       "<div>\n",
       "<style scoped>\n",
       "    .dataframe tbody tr th:only-of-type {\n",
       "        vertical-align: middle;\n",
       "    }\n",
       "\n",
       "    .dataframe tbody tr th {\n",
       "        vertical-align: top;\n",
       "    }\n",
       "\n",
       "    .dataframe thead th {\n",
       "        text-align: right;\n",
       "    }\n",
       "</style>\n",
       "<table border=\"1\" class=\"dataframe\">\n",
       "  <thead>\n",
       "    <tr style=\"text-align: right;\">\n",
       "      <th></th>\n",
       "      <th>qid</th>\n",
       "      <th>id</th>\n",
       "      <th>name</th>\n",
       "      <th>priority</th>\n",
       "      <th>lane</th>\n",
       "      <th>timeout</th>\n",
       "      <th>function</th>\n",
       "      <th>args</th>\n",
       "      <th>kwargs</th>\n",
       "      <th>submitted</th>\n",
       "      <th>started</th>\n",
       "      <th>ended</th>\n",
       "      <th>processed</th>\n",
       "      <th>exitcode</th>\n",
       "      <th>cancelled</th>\n",
       "      <th>runtime</th>\n",
       "      <th>output</th>\n",
       "      <th>exception</th>\n",
       "      <th>callback</th>\n",
       "    </tr>\n",
       "  </thead>\n",
       "  <tbody>\n",
       "    <tr>\n",
       "      <th>0</th>\n",
       "      <td>141e2d04</td>\n",
       "      <td>1</td>\n",
       "      <td>/home/donald/bin</td>\n",
       "      <td>100</td>\n",
       "      <td>NaN</td>\n",
       "      <td>0</td>\n",
       "      <td>enum_files</td>\n",
       "      <td>NaN</td>\n",
       "      <td>{'path': '/home/donald/bin', 'pattern': '*'}</td>\n",
       "      <td>2019-02-18 20:21:14.791565</td>\n",
       "      <td>2019-02-18 20:21:14.897535</td>\n",
       "      <td>2019-02-18 20:21:14.901591</td>\n",
       "      <td>2019-02-18 20:21:14.993735</td>\n",
       "      <td>0</td>\n",
       "      <td>False</td>\n",
       "      <td>0.004056</td>\n",
       "      <td>(3, 83860646)</td>\n",
       "      <td>NaN</td>\n",
       "      <td>NaN</td>\n",
       "    </tr>\n",
       "    <tr>\n",
       "      <th>1</th>\n",
       "      <td>141e2d04</td>\n",
       "      <td>2</td>\n",
       "      <td>/home/donald/Desktop</td>\n",
       "      <td>100</td>\n",
       "      <td>NaN</td>\n",
       "      <td>0</td>\n",
       "      <td>enum_files</td>\n",
       "      <td>NaN</td>\n",
       "      <td>{'path': '/home/donald/Desktop', 'pattern': '*'}</td>\n",
       "      <td>2019-02-18 20:21:14.791587</td>\n",
       "      <td>2019-02-18 20:21:14.903832</td>\n",
       "      <td>2019-02-18 20:21:14.908947</td>\n",
       "      <td>2019-02-18 20:21:14.994798</td>\n",
       "      <td>0</td>\n",
       "      <td>False</td>\n",
       "      <td>0.005115</td>\n",
       "      <td>(17, 1162796)</td>\n",
       "      <td>NaN</td>\n",
       "      <td>NaN</td>\n",
       "    </tr>\n",
       "    <tr>\n",
       "      <th>2</th>\n",
       "      <td>141e2d04</td>\n",
       "      <td>5</td>\n",
       "      <td>/home/donald/Music</td>\n",
       "      <td>100</td>\n",
       "      <td>NaN</td>\n",
       "      <td>0</td>\n",
       "      <td>enum_files</td>\n",
       "      <td>NaN</td>\n",
       "      <td>{'path': '/home/donald/Music', 'pattern': '*'}</td>\n",
       "      <td>2019-02-18 20:21:14.791620</td>\n",
       "      <td>2019-02-18 20:21:14.926363</td>\n",
       "      <td>2019-02-18 20:21:14.930386</td>\n",
       "      <td>2019-02-18 20:21:14.995248</td>\n",
       "      <td>0</td>\n",
       "      <td>False</td>\n",
       "      <td>0.004023</td>\n",
       "      <td>(0, 0)</td>\n",
       "      <td>NaN</td>\n",
       "      <td>NaN</td>\n",
       "    </tr>\n",
       "    <tr>\n",
       "      <th>3</th>\n",
       "      <td>141e2d04</td>\n",
       "      <td>3</td>\n",
       "      <td>/home/donald/Documents</td>\n",
       "      <td>100</td>\n",
       "      <td>NaN</td>\n",
       "      <td>0</td>\n",
       "      <td>enum_files</td>\n",
       "      <td>NaN</td>\n",
       "      <td>{'path': '/home/donald/Documents', 'pattern': ...</td>\n",
       "      <td>2019-02-18 20:21:14.791596</td>\n",
       "      <td>2019-02-18 20:21:14.910665</td>\n",
       "      <td>2019-02-18 20:21:15.001843</td>\n",
       "      <td>2019-02-18 20:21:15.093378</td>\n",
       "      <td>1</td>\n",
       "      <td>False</td>\n",
       "      <td>0.091178</td>\n",
       "      <td>NaN</td>\n",
       "      <td>Traceback (most recent call last):\\n  File \".....</td>\n",
       "      <td>NaN</td>\n",
       "    </tr>\n",
       "    <tr>\n",
       "      <th>4</th>\n",
       "      <td>141e2d04</td>\n",
       "      <td>4</td>\n",
       "      <td>/home/donald/Downloads</td>\n",
       "      <td>100</td>\n",
       "      <td>NaN</td>\n",
       "      <td>0</td>\n",
       "      <td>enum_files</td>\n",
       "      <td>NaN</td>\n",
       "      <td>{'path': '/home/donald/Downloads', 'pattern': ...</td>\n",
       "      <td>2019-02-18 20:21:14.791607</td>\n",
       "      <td>2019-02-18 20:21:14.917641</td>\n",
       "      <td>2019-02-18 20:21:15.071268</td>\n",
       "      <td>2019-02-18 20:21:15.093854</td>\n",
       "      <td>0</td>\n",
       "      <td>False</td>\n",
       "      <td>0.153627</td>\n",
       "      <td>(4523, 6313058280)</td>\n",
       "      <td>NaN</td>\n",
       "      <td>NaN</td>\n",
       "    </tr>\n",
       "  </tbody>\n",
       "</table>\n",
       "</div>"
      ],
      "text/plain": [
       "        qid  id                    name  priority  lane  timeout    function  \\\n",
       "0  141e2d04   1        /home/donald/bin       100   NaN        0  enum_files   \n",
       "1  141e2d04   2    /home/donald/Desktop       100   NaN        0  enum_files   \n",
       "2  141e2d04   5      /home/donald/Music       100   NaN        0  enum_files   \n",
       "3  141e2d04   3  /home/donald/Documents       100   NaN        0  enum_files   \n",
       "4  141e2d04   4  /home/donald/Downloads       100   NaN        0  enum_files   \n",
       "\n",
       "   args                                             kwargs  \\\n",
       "0   NaN       {'path': '/home/donald/bin', 'pattern': '*'}   \n",
       "1   NaN   {'path': '/home/donald/Desktop', 'pattern': '*'}   \n",
       "2   NaN     {'path': '/home/donald/Music', 'pattern': '*'}   \n",
       "3   NaN  {'path': '/home/donald/Documents', 'pattern': ...   \n",
       "4   NaN  {'path': '/home/donald/Downloads', 'pattern': ...   \n",
       "\n",
       "                   submitted                    started  \\\n",
       "0 2019-02-18 20:21:14.791565 2019-02-18 20:21:14.897535   \n",
       "1 2019-02-18 20:21:14.791587 2019-02-18 20:21:14.903832   \n",
       "2 2019-02-18 20:21:14.791620 2019-02-18 20:21:14.926363   \n",
       "3 2019-02-18 20:21:14.791596 2019-02-18 20:21:14.910665   \n",
       "4 2019-02-18 20:21:14.791607 2019-02-18 20:21:14.917641   \n",
       "\n",
       "                       ended                  processed  exitcode  cancelled  \\\n",
       "0 2019-02-18 20:21:14.901591 2019-02-18 20:21:14.993735         0      False   \n",
       "1 2019-02-18 20:21:14.908947 2019-02-18 20:21:14.994798         0      False   \n",
       "2 2019-02-18 20:21:14.930386 2019-02-18 20:21:14.995248         0      False   \n",
       "3 2019-02-18 20:21:15.001843 2019-02-18 20:21:15.093378         1      False   \n",
       "4 2019-02-18 20:21:15.071268 2019-02-18 20:21:15.093854         0      False   \n",
       "\n",
       "    runtime              output  \\\n",
       "0  0.004056       (3, 83860646)   \n",
       "1  0.005115       (17, 1162796)   \n",
       "2  0.004023              (0, 0)   \n",
       "3  0.091178                 NaN   \n",
       "4  0.153627  (4523, 6313058280)   \n",
       "\n",
       "                                           exception  callback  \n",
       "0                                                NaN       NaN  \n",
       "1                                                NaN       NaN  \n",
       "2                                                NaN       NaN  \n",
       "3  Traceback (most recent call last):\\n  File \".....       NaN  \n",
       "4                                                NaN       NaN  "
      ]
     },
     "execution_count": 29,
     "metadata": {},
     "output_type": "execute_result"
    }
   ],
   "source": [
    "date_cols = ['submitted', 'started', 'ended', 'processed']\n",
    "\n",
    "results\n",
    "\n",
    "df = pd.read_csv(log_file, parse_dates=date_cols)\n",
    "\n",
    "os.unlink(log_file)\n",
    "\n",
    "df.head()"
   ]
  },
  {
   "cell_type": "code",
   "execution_count": 30,
   "metadata": {},
   "outputs": [
    {
     "data": {
      "image/png": "[encoded data removed]",
      "text/plain": [
       "<Figure size 640x480 with 1 Axes>"
      ]
     },
     "metadata": {},
     "output_type": "display_data"
    },
    {
     "data": {
      "text/plain": [
       "<ggplot: (-9223363254736182896)>"
      ]
     },
     "execution_count": 30,
     "metadata": {},
     "output_type": "execute_result"
    }
   ],
   "source": [
    "# ezpq.Plot requires a dictionary of job data records.\n",
    "records = df.to_dict(orient='records')\n",
    "\n",
    "plt = ezpq.Plot(records).build(color_by='name', bar_width=5)\n",
    "\n",
    "# plt.save('...')\n",
    "plt"
   ]
  },
  {
   "cell_type": "markdown",
   "metadata": {},
   "source": [
    "## Callback\n",
    "\n",
    "If instantiated with a callback, `ezpq.Queue` will pass a dictionary of job data as the single argument to the callback function. It does this synchronously, so the callback must not take too much time."
   ]
  },
  {
   "cell_type": "code",
   "execution_count": 31,
   "metadata": {
    "inputHidden": false,
    "outputHidden": false
   },
   "outputs": [],
   "source": [
    "def slow_callback(x):\n",
    "    time.sleep(0.5)"
   ]
  },
  {
   "cell_type": "code",
   "execution_count": 32,
   "metadata": {
    "inputHidden": false,
    "outputHidden": false
   },
   "outputs": [
    {
     "data": {
      "application/vnd.jupyter.widget-view+json": {
       "model_id": "7302cd202fc24d008dc238022747528e",
       "version_major": 2,
       "version_minor": 0
      },
      "text/plain": [
       "HBox(children=(IntProgress(value=0, max=50), HTML(value='')))"
      ]
     },
     "metadata": {},
     "output_type": "display_data"
    },
    {
     "name": "stdout",
     "output_type": "stream",
     "text": [
      "\n"
     ]
    }
   ],
   "source": [
    "with ezpq.Queue(n_workers=n_workers, callback=slow_callback, poll=1) as Q:\n",
    "    for _ in range(n_inputs):\n",
    "        Q.put(time.sleep, 1)\n",
    "    Q.waitpb()\n",
    "    results = Q.collect()"
   ]
  },
  {
   "cell_type": "code",
   "execution_count": 33,
   "metadata": {
    "inputHidden": false,
    "outputHidden": false
   },
   "outputs": [
    {
     "data": {
      "image/png": "[encoded data removed]",
      "text/plain": [
       "<Figure size 640x480 with 1 Axes>"
      ]
     },
     "metadata": {},
     "output_type": "display_data"
    },
    {
     "data": {
      "text/plain": [
       "<ggplot: (-9223363254735934022)>"
      ]
     },
     "execution_count": 33,
     "metadata": {},
     "output_type": "execute_result"
    }
   ],
   "source": [
    "ezpq.Plot(results).build(show_legend=False)"
   ]
  },
  {
   "cell_type": "markdown",
   "metadata": {},
   "source": [
    "## Error Handling"
   ]
  },
  {
   "cell_type": "code",
   "execution_count": 34,
   "metadata": {},
   "outputs": [],
   "source": [
    "def reciprocal(x):\n",
    "    time.sleep(1)\n",
    "    return 1/x\n",
    "\n",
    "with ezpq.Queue(n_workers=5, job_runner=threading.Thread) as Q:\n",
    "    for _ in range(20):\n",
    "        Q.put(reciprocal, random.randint(0, 5), suppress_errors=True)\n",
    "    Q.wait()\n",
    "    output = Q.collect()"
   ]
  },
  {
   "cell_type": "code",
   "execution_count": 35,
   "metadata": {},
   "outputs": [
    {
     "data": {
      "text/plain": [
       "[{'qid': '873bf141',\n",
       "  'id': 5,\n",
       "  'name': 5,\n",
       "  'priority': 100,\n",
       "  'lane': None,\n",
       "  'timeout': 0,\n",
       "  'function': 'reciprocal',\n",
       "  'args': [0],\n",
       "  'kwargs': None,\n",
       "  'submitted': datetime.datetime(2019, 2, 18, 20, 21, 55, 726351),\n",
       "  'started': datetime.datetime(2019, 2, 18, 20, 21, 55, 827401),\n",
       "  'ended': datetime.datetime(2019, 2, 18, 20, 21, 56, 828921),\n",
       "  'processed': datetime.datetime(2019, 2, 18, 20, 21, 56, 830606),\n",
       "  'exitcode': -1,\n",
       "  'cancelled': False,\n",
       "  'runtime': 1.0015199184417725,\n",
       "  'output': None,\n",
       "  'exception': 'Traceback (most recent call last):\\n  File \"../ezpq/Queue.py\", line 578, in _job_wrap\\n    out = _job.function(*args, **kwargs)\\n  File \"<ipython-input-34-1f5b7afc1e87>\", line 3, in reciprocal\\n    return 1/x\\nZeroDivisionError: division by zero\\n',\n",
       "  'callback': None},\n",
       " {'qid': '873bf141',\n",
       "  'id': 6,\n",
       "  'name': 6,\n",
       "  'priority': 100,\n",
       "  'lane': None,\n",
       "  'timeout': 0,\n",
       "  'function': 'reciprocal',\n",
       "  'args': [0],\n",
       "  'kwargs': None,\n",
       "  'submitted': datetime.datetime(2019, 2, 18, 20, 21, 55, 726363),\n",
       "  'started': datetime.datetime(2019, 2, 18, 20, 21, 56, 830782),\n",
       "  'ended': datetime.datetime(2019, 2, 18, 20, 21, 57, 832082),\n",
       "  'processed': datetime.datetime(2019, 2, 18, 20, 21, 57, 834327),\n",
       "  'exitcode': -1,\n",
       "  'cancelled': False,\n",
       "  'runtime': 1.0012998580932617,\n",
       "  'output': None,\n",
       "  'exception': 'Traceback (most recent call last):\\n  File \"../ezpq/Queue.py\", line 578, in _job_wrap\\n    out = _job.function(*args, **kwargs)\\n  File \"<ipython-input-34-1f5b7afc1e87>\", line 3, in reciprocal\\n    return 1/x\\nZeroDivisionError: division by zero\\n',\n",
       "  'callback': None},\n",
       " {'qid': '873bf141',\n",
       "  'id': 15,\n",
       "  'name': 15,\n",
       "  'priority': 100,\n",
       "  'lane': None,\n",
       "  'timeout': 0,\n",
       "  'function': 'reciprocal',\n",
       "  'args': [0],\n",
       "  'kwargs': None,\n",
       "  'submitted': datetime.datetime(2019, 2, 18, 20, 21, 55, 726513),\n",
       "  'started': datetime.datetime(2019, 2, 18, 20, 21, 57, 835738),\n",
       "  'ended': datetime.datetime(2019, 2, 18, 20, 21, 58, 836210),\n",
       "  'processed': datetime.datetime(2019, 2, 18, 20, 21, 58, 838107),\n",
       "  'exitcode': -1,\n",
       "  'cancelled': False,\n",
       "  'runtime': 1.000471830368042,\n",
       "  'output': None,\n",
       "  'exception': 'Traceback (most recent call last):\\n  File \"../ezpq/Queue.py\", line 578, in _job_wrap\\n    out = _job.function(*args, **kwargs)\\n  File \"<ipython-input-34-1f5b7afc1e87>\", line 3, in reciprocal\\n    return 1/x\\nZeroDivisionError: division by zero\\n',\n",
       "  'callback': None},\n",
       " {'qid': '873bf141',\n",
       "  'id': 16,\n",
       "  'name': 16,\n",
       "  'priority': 100,\n",
       "  'lane': None,\n",
       "  'timeout': 0,\n",
       "  'function': 'reciprocal',\n",
       "  'args': [0],\n",
       "  'kwargs': None,\n",
       "  'submitted': datetime.datetime(2019, 2, 18, 20, 21, 55, 726524),\n",
       "  'started': datetime.datetime(2019, 2, 18, 20, 21, 58, 838259),\n",
       "  'ended': datetime.datetime(2019, 2, 18, 20, 21, 59, 839682),\n",
       "  'processed': datetime.datetime(2019, 2, 18, 20, 21, 59, 841945),\n",
       "  'exitcode': -1,\n",
       "  'cancelled': False,\n",
       "  'runtime': 1.0014238357543945,\n",
       "  'output': None,\n",
       "  'exception': 'Traceback (most recent call last):\\n  File \"../ezpq/Queue.py\", line 578, in _job_wrap\\n    out = _job.function(*args, **kwargs)\\n  File \"<ipython-input-34-1f5b7afc1e87>\", line 3, in reciprocal\\n    return 1/x\\nZeroDivisionError: division by zero\\n',\n",
       "  'callback': None}]"
      ]
     },
     "execution_count": 35,
     "metadata": {},
     "output_type": "execute_result"
    }
   ],
   "source": [
    "[x for x in output if x['exception'] is not None]"
   ]
  },
  {
   "cell_type": "code",
   "execution_count": 36,
   "metadata": {},
   "outputs": [],
   "source": [
    "# for x in output:\n",
    "#     if x['exception'] is not None:\n",
    "#         x['exitcode'] = 1\n",
    "#     else:\n",
    "#         x['exitcode'] = 0"
   ]
  },
  {
   "cell_type": "code",
   "execution_count": 37,
   "metadata": {},
   "outputs": [
    {
     "data": {
      "image/png": "[encoded data removed]",
      "text/plain": [
       "<Figure size 640x480 with 1 Axes>"
      ]
     },
     "metadata": {},
     "output_type": "display_data"
    },
    {
     "data": {
      "text/plain": [
       "<ggplot: (-9223363254736342398)>"
      ]
     },
     "execution_count": 37,
     "metadata": {},
     "output_type": "execute_result"
    }
   ],
   "source": [
    "ezpq.Plot(output).build(color_by='exitcode', color_pal=['red', 'green'])"
   ]
  },
  {
   "cell_type": "markdown",
   "metadata": {},
   "source": [
    "## Shared Objects"
   ]
  },
  {
   "cell_type": "code",
   "execution_count": 38,
   "metadata": {},
   "outputs": [],
   "source": [
    "def fibonacci(shared):\n",
    "    shared_clone = tuple(shared)\n",
    "    shared[0] = shared[1]\n",
    "    shared[1] = sum(shared_clone)\n",
    "    return shared[1]"
   ]
  },
  {
   "cell_type": "code",
   "execution_count": 39,
   "metadata": {},
   "outputs": [
    {
     "data": {
      "text/plain": [
       "[1,\n",
       " 2,\n",
       " 3,\n",
       " 5,\n",
       " 8,\n",
       " 13,\n",
       " 21,\n",
       " 34,\n",
       " 55,\n",
       " 89,\n",
       " 144,\n",
       " 233,\n",
       " 377,\n",
       " 610,\n",
       " 987,\n",
       " 1597,\n",
       " 2584,\n",
       " 4181,\n",
       " 6765,\n",
       " 10946]"
      ]
     },
     "execution_count": 39,
     "metadata": {},
     "output_type": "execute_result"
    }
   ],
   "source": [
    "import multiprocessing as mp\n",
    "mgr = mp.Manager()\n",
    "shared_list = mgr.list([0,1])\n",
    "\n",
    "with ezpq.Queue(n_workers=10) as Q:\n",
    "    for _ in range(20):\n",
    "        Q.put(fibonacci, args=shared_list)\n",
    "    Q.wait()\n",
    "    output = Q.collect()\n",
    "\n",
    "mgr.shutdown()\n",
    "    \n",
    "[x['output'] for x in output]"
   ]
  },
  {
   "cell_type": "markdown",
   "metadata": {},
   "source": [
    "# New in v0.2.0"
   ]
  },
  {
   "cell_type": "markdown",
   "metadata": {},
   "source": [
    "## `tqdm` Integration"
   ]
  },
  {
   "cell_type": "markdown",
   "metadata": {},
   "source": [
    "Add `show_progress=True` to `ezpq.Queue()`; this works for `map()` and the `@decorator`"
   ]
  },
  {
   "cell_type": "code",
   "execution_count": 40,
   "metadata": {},
   "outputs": [],
   "source": [
    "with ezpq.Queue(5, show_progress=True) as Q:\n",
    "    output = Q.map(time.sleep, range(5))"
   ]
  },
  {
   "cell_type": "code",
   "execution_count": 41,
   "metadata": {},
   "outputs": [
    {
     "data": {
      "application/vnd.jupyter.widget-view+json": {
       "model_id": "f21ab39826574cd0b41bd14d4fdbb18e",
       "version_major": 2,
       "version_minor": 0
      },
      "text/plain": [
       "HBox(children=(IntProgress(value=0, max=5), HTML(value='')))"
      ]
     },
     "metadata": {},
     "output_type": "display_data"
    },
    {
     "name": "stdout",
     "output_type": "stream",
     "text": [
      "\n"
     ]
    }
   ],
   "source": [
    "@ezpq.Queue(n_workers=5, show_progress=True)\n",
    "def time_sleep(x):\n",
    "    time.sleep(x)\n",
    "\n",
    "output = time_sleep(range(5))"
   ]
  },
  {
   "cell_type": "markdown",
   "metadata": {},
   "source": [
    "Or add `show_progress=True` to `ezpq.map()`"
   ]
  },
  {
   "cell_type": "code",
   "execution_count": 42,
   "metadata": {},
   "outputs": [
    {
     "data": {
      "application/vnd.jupyter.widget-view+json": {
       "model_id": "cc51eb73e523441f836b1840dc76551c",
       "version_major": 2,
       "version_minor": 0
      },
      "text/plain": [
       "HBox(children=(IntProgress(value=0, max=5), HTML(value='')))"
      ]
     },
     "metadata": {},
     "output_type": "display_data"
    },
    {
     "name": "stdout",
     "output_type": "stream",
     "text": [
      "\n"
     ]
    }
   ],
   "source": [
    "with ezpq.Queue(5) as Q:\n",
    "    output = Q.map(time.sleep, range(5), show_progress=True)"
   ]
  },
  {
   "cell_type": "markdown",
   "metadata": {},
   "source": [
    "Or add `show_progress=True` to `ezpq.Queue.wait()`"
   ]
  },
  {
   "cell_type": "code",
   "execution_count": 43,
   "metadata": {},
   "outputs": [
    {
     "data": {
      "application/vnd.jupyter.widget-view+json": {
       "model_id": "beaf4092a03d406dac81d506653c5e39",
       "version_major": 2,
       "version_minor": 0
      },
      "text/plain": [
       "HBox(children=(IntProgress(value=0, max=5), HTML(value='')))"
      ]
     },
     "metadata": {},
     "output_type": "display_data"
    },
    {
     "name": "stdout",
     "output_type": "stream",
     "text": [
      "\n"
     ]
    }
   ],
   "source": [
    "with ezpq.Queue(5) as Q:\n",
    "    for i in range(5):\n",
    "        Q.put(time.sleep, i)\n",
    "    Q.wait(show_progress=True)\n",
    "    output = Q.collect()"
   ]
  },
  {
   "cell_type": "markdown",
   "metadata": {},
   "source": [
    "Or just call `ezpq.Queue.waitpb()` in place of `ezpq.Queue.wait()`."
   ]
  },
  {
   "cell_type": "code",
   "execution_count": 44,
   "metadata": {},
   "outputs": [],
   "source": [
    "from random import random"
   ]
  },
  {
   "cell_type": "code",
   "execution_count": 45,
   "metadata": {},
   "outputs": [
    {
     "data": {
      "application/vnd.jupyter.widget-view+json": {
       "model_id": "f27ed6344a8f4d03b692affa5817615b",
       "version_major": 2,
       "version_minor": 0
      },
      "text/plain": [
       "HBox(children=(IntProgress(value=0, max=50), HTML(value='')))"
      ]
     },
     "metadata": {},
     "output_type": "display_data"
    },
    {
     "name": "stdout",
     "output_type": "stream",
     "text": [
      "\n"
     ]
    }
   ],
   "source": [
    "with ezpq.Queue(5) as Q:\n",
    "    for i in range(50):\n",
    "        Q.put(time.sleep, random())\n",
    "    Q.waitpb()\n",
    "    output = Q.collect()"
   ]
  },
  {
   "cell_type": "markdown",
   "metadata": {},
   "source": [
    " "
   ]
  },
  {
   "cell_type": "markdown",
   "metadata": {},
   "source": [
    " "
   ]
  },
  {
   "cell_type": "markdown",
   "metadata": {},
   "source": [
    "## map"
   ]
  },
  {
   "cell_type": "code",
   "execution_count": 46,
   "metadata": {
    "scrolled": true
   },
   "outputs": [
    {
     "data": {
      "application/vnd.jupyter.widget-view+json": {
       "model_id": "3422853d24e74e37ac7c31e3a1c638b9",
       "version_major": 2,
       "version_minor": 0
      },
      "text/plain": [
       "HBox(children=(IntProgress(value=0, max=1000), HTML(value='')))"
      ]
     },
     "metadata": {},
     "output_type": "display_data"
    },
    {
     "name": "stdout",
     "output_type": "stream",
     "text": [
      "\n"
     ]
    },
    {
     "data": {
      "text/plain": [
       "['0^2 = 0',\n",
       " '1^2 = 1',\n",
       " '2^2 = 4',\n",
       " '3^2 = 9',\n",
       " '4^2 = 16',\n",
       " '5^2 = 25',\n",
       " '6^2 = 36',\n",
       " '7^2 = 49',\n",
       " '8^2 = 64',\n",
       " '9^2 = 81']"
      ]
     },
     "execution_count": 46,
     "metadata": {},
     "output_type": "execute_result"
    }
   ],
   "source": [
    "def my_pow(x, k):\n",
    "    return '{}^{} = {}'.format(x, k, x**k)\n",
    "\n",
    "with ezpq.Queue(10, show_progress=True) as Q:\n",
    "    output = Q.map(my_pow, iterable=range(1000), args=2, show_progress=True)\n",
    "    \n",
    "[x['output'] for x in output[:10]]"
   ]
  },
  {
   "cell_type": "markdown",
   "metadata": {},
   "source": [
    " "
   ]
  },
  {
   "cell_type": "markdown",
   "metadata": {},
   "source": [
    " "
   ]
  },
  {
   "cell_type": "markdown",
   "metadata": {},
   "source": [
    " "
   ]
  },
  {
   "cell_type": "markdown",
   "metadata": {},
   "source": [
    " "
   ]
  },
  {
   "cell_type": "markdown",
   "metadata": {},
   "source": [
    " "
   ]
  },
  {
   "cell_type": "markdown",
   "metadata": {},
   "source": [
    " "
   ]
  },
  {
   "cell_type": "markdown",
   "metadata": {},
   "source": [
    " "
   ]
  },
  {
   "cell_type": "markdown",
   "metadata": {},
   "source": [
    " "
   ]
  },
  {
   "cell_type": "markdown",
   "metadata": {},
   "source": [
    "## Synchronous Lanes"
   ]
  },
  {
   "cell_type": "code",
   "execution_count": 47,
   "metadata": {},
   "outputs": [],
   "source": [
    "jobs = {\n",
    "    'Lane 1': [1,2,3],\n",
    "    'Lane 2': [4,5,6],\n",
    "    'Lane 3': [7,8,9],\n",
    "    'Lane 4': [10,11,12],\n",
    "    'Lane 5': [13,14,15],\n",
    "    'Lane 6': [16,17,18]\n",
    "}"
   ]
  },
  {
   "cell_type": "code",
   "execution_count": 48,
   "metadata": {},
   "outputs": [
    {
     "data": {
      "application/vnd.jupyter.widget-view+json": {
       "model_id": "b1a67e1276c14d6986ef0f00225bb8ec",
       "version_major": 2,
       "version_minor": 0
      },
      "text/plain": [
       "HBox(children=(IntProgress(value=0, max=18), HTML(value='')))"
      ]
     },
     "metadata": {},
     "output_type": "display_data"
    },
    {
     "name": "stdout",
     "output_type": "stream",
     "text": [
      "\n"
     ]
    }
   ],
   "source": [
    "with ezpq.Queue(n_workers=3) as Q:\n",
    "    for lane in jobs.keys():\n",
    "        for job in jobs[lane]:\n",
    "            Q.put(time.sleep, args=1,\n",
    "                  lane=lane, name='Job '+str(job))\n",
    "    Q.waitpb()\n",
    "    output = Q.collect()"
   ]
  },
  {
   "cell_type": "code",
   "execution_count": 49,
   "metadata": {},
   "outputs": [
    {
     "data": {
      "image/png": "[encoded data removed]",
      "text/plain": [
       "<Figure size 640x480 with 1 Axes>"
      ]
     },
     "metadata": {},
     "output_type": "display_data"
    },
    {
     "data": {
      "text/plain": [
       "<ggplot: (-9223363254741570556)>"
      ]
     },
     "execution_count": 49,
     "metadata": {},
     "output_type": "execute_result"
    }
   ],
   "source": [
    "ezpq.Plot(output).build(color_by='lane',\n",
    "                        color_pal=['blue', 'red', 'green',\n",
    "                                   'purple', 'orange', 'brown'])"
   ]
  },
  {
   "cell_type": "markdown",
   "metadata": {},
   "source": [
    " "
   ]
  },
  {
   "cell_type": "markdown",
   "metadata": {},
   "source": [
    " "
   ]
  },
  {
   "cell_type": "markdown",
   "metadata": {},
   "source": [
    " "
   ]
  },
  {
   "cell_type": "markdown",
   "metadata": {},
   "source": [
    " "
   ]
  },
  {
   "cell_type": "markdown",
   "metadata": {},
   "source": [
    " "
   ]
  },
  {
   "cell_type": "markdown",
   "metadata": {},
   "source": [
    " "
   ]
  },
  {
   "cell_type": "markdown",
   "metadata": {},
   "source": [
    " "
   ]
  },
  {
   "cell_type": "markdown",
   "metadata": {},
   "source": [
    " "
   ]
  },
  {
   "cell_type": "markdown",
   "metadata": {},
   "source": [
    " "
   ]
  },
  {
   "cell_type": "markdown",
   "metadata": {},
   "source": [
    " "
   ]
  },
  {
   "cell_type": "markdown",
   "metadata": {},
   "source": [
    " "
   ]
  },
  {
   "cell_type": "markdown",
   "metadata": {},
   "source": [
    " "
   ]
  },
  {
   "cell_type": "markdown",
   "metadata": {},
   "source": [
    " "
   ]
  },
  {
   "cell_type": "markdown",
   "metadata": {},
   "source": [
    " "
   ]
  },
  {
   "cell_type": "markdown",
   "metadata": {},
   "source": [
    "Set the lane based on an expression."
   ]
  },
  {
   "cell_type": "code",
   "execution_count": 50,
   "metadata": {},
   "outputs": [
    {
     "data": {
      "application/vnd.jupyter.widget-view+json": {
       "model_id": "1e19f7d5676243a4a50b31e872bbe0b7",
       "version_major": 2,
       "version_minor": 0
      },
      "text/plain": [
       "HBox(children=(IntProgress(value=0, max=20), HTML(value='')))"
      ]
     },
     "metadata": {},
     "output_type": "display_data"
    },
    {
     "name": "stdout",
     "output_type": "stream",
     "text": [
      "\n"
     ]
    },
    {
     "data": {
      "image/png": "[encoded data removed]",
      "text/plain": [
       "<Figure size 640x480 with 1 Axes>"
      ]
     },
     "metadata": {},
     "output_type": "display_data"
    },
    {
     "data": {
      "text/plain": [
       "<ggplot: (8782041743571)>"
      ]
     },
     "execution_count": 50,
     "metadata": {},
     "output_type": "execute_result"
    }
   ],
   "source": [
    "with ezpq.Queue(5) as Q:\n",
    "    for i in range(20):\n",
    "        Q.put(time.sleep, random(),\n",
    "              lane = i % 5)\n",
    "        \n",
    "    Q.waitpb()\n",
    "    output = Q.collect()\n",
    "    \n",
    "ezpq.Plot(output).build(color_by='lane', theme='dark')"
   ]
  },
  {
   "cell_type": "markdown",
   "metadata": {},
   "source": [
    " "
   ]
  },
  {
   "cell_type": "markdown",
   "metadata": {},
   "source": [
    " "
   ]
  },
  {
   "cell_type": "markdown",
   "metadata": {},
   "source": [
    " "
   ]
  },
  {
   "cell_type": "markdown",
   "metadata": {},
   "source": [
    " "
   ]
  },
  {
   "cell_type": "markdown",
   "metadata": {},
   "source": [
    " "
   ]
  },
  {
   "cell_type": "markdown",
   "metadata": {},
   "source": [
    " "
   ]
  },
  {
   "cell_type": "markdown",
   "metadata": {},
   "source": [
    " "
   ]
  },
  {
   "cell_type": "markdown",
   "metadata": {},
   "source": [
    " "
   ]
  },
  {
   "cell_type": "markdown",
   "metadata": {},
   "source": [
    " "
   ]
  },
  {
   "cell_type": "markdown",
   "metadata": {},
   "source": [
    " "
   ]
  },
  {
   "cell_type": "markdown",
   "metadata": {},
   "source": [
    " "
   ]
  },
  {
   "cell_type": "markdown",
   "metadata": {},
   "source": [
    " "
   ]
  },
  {
   "cell_type": "markdown",
   "metadata": {},
   "source": [
    " "
   ]
  },
  {
   "cell_type": "markdown",
   "metadata": {},
   "source": [
    " "
   ]
  },
  {
   "cell_type": "markdown",
   "metadata": {},
   "source": [
    " "
   ]
  },
  {
   "cell_type": "markdown",
   "metadata": {},
   "source": [
    " "
   ]
  },
  {
   "cell_type": "markdown",
   "metadata": {},
   "source": [
    " "
   ]
  },
  {
   "cell_type": "markdown",
   "metadata": {},
   "source": [
    " "
   ]
  },
  {
   "cell_type": "markdown",
   "metadata": {},
   "source": [
    " "
   ]
  },
  {
   "cell_type": "markdown",
   "metadata": {},
   "source": [
    " "
   ]
  },
  {
   "cell_type": "markdown",
   "metadata": {},
   "source": [
    " "
   ]
  },
  {
   "cell_type": "markdown",
   "metadata": {},
   "source": [
    " "
   ]
  },
  {
   "cell_type": "markdown",
   "metadata": {},
   "source": [
    "## Plot Facetting"
   ]
  },
  {
   "cell_type": "code",
   "execution_count": 51,
   "metadata": {},
   "outputs": [
    {
     "data": {
      "application/vnd.jupyter.widget-view+json": {
       "model_id": "821725d7a29e487a874721c49a446d6b",
       "version_major": 2,
       "version_minor": 0
      },
      "text/plain": [
       "HBox(children=(IntProgress(value=0, max=20), HTML(value='')))"
      ]
     },
     "metadata": {},
     "output_type": "display_data"
    },
    {
     "name": "stdout",
     "output_type": "stream",
     "text": [
      "\n"
     ]
    },
    {
     "data": {
      "application/vnd.jupyter.widget-view+json": {
       "model_id": "6bb1082eb6bf4205848e512f9d7244f2",
       "version_major": 2,
       "version_minor": 0
      },
      "text/plain": [
       "HBox(children=(IntProgress(value=0, max=20), HTML(value='')))"
      ]
     },
     "metadata": {},
     "output_type": "display_data"
    },
    {
     "name": "stdout",
     "output_type": "stream",
     "text": [
      "\n"
     ]
    },
    {
     "data": {
      "application/vnd.jupyter.widget-view+json": {
       "model_id": "c3077386a89d4e6a856dd06a19ab70c6",
       "version_major": 2,
       "version_minor": 0
      },
      "text/plain": [
       "HBox(children=(IntProgress(value=0, max=20), HTML(value='')))"
      ]
     },
     "metadata": {},
     "output_type": "display_data"
    },
    {
     "name": "stdout",
     "output_type": "stream",
     "text": [
      "\n"
     ]
    }
   ],
   "source": [
    "all_output = list()\n",
    "\n",
    "for qid in [1, 2, 3]:\n",
    "    with ezpq.Queue(5, qid='queue_' + str(qid)) as Q:\n",
    "        for i in range(20):\n",
    "            lane = i % 5\n",
    "            Q.put(time.sleep, args=1,\n",
    "                  lane=lane, name='Job '+str(job))\n",
    "        Q.waitpb()\n",
    "        all_output.extend( Q.collect() )"
   ]
  },
  {
   "cell_type": "code",
   "execution_count": 52,
   "metadata": {},
   "outputs": [
    {
     "data": {
      "image/png": "[encoded data removed]",
      "text/plain": [
       "<Figure size 640x480 with 3 Axes>"
      ]
     },
     "metadata": {},
     "output_type": "display_data"
    },
    {
     "data": {
      "text/plain": [
       "<ggplot: (8782113290402)>"
      ]
     },
     "execution_count": 52,
     "metadata": {},
     "output_type": "execute_result"
    }
   ],
   "source": [
    "ezpq.Plot(all_output).build(facet_by='qid',\n",
    "                            color_by='lane',\n",
    "                            color_pal=['blue', 'orange', 'green',\n",
    "                                       'red', 'purple'])"
   ]
  },
  {
   "cell_type": "markdown",
   "metadata": {},
   "source": [
    "## Plot Themes & Colors"
   ]
  },
  {
   "cell_type": "code",
   "execution_count": 53,
   "metadata": {},
   "outputs": [
    {
     "data": {
      "image/png": "[encoded data removed]",
      "text/plain": [
       "<Figure size 640x480 with 3 Axes>"
      ]
     },
     "metadata": {},
     "output_type": "display_data"
    },
    {
     "data": {
      "text/plain": [
       "<ggplot: (-9223363254811682535)>"
      ]
     },
     "execution_count": 53,
     "metadata": {},
     "output_type": "execute_result"
    }
   ],
   "source": [
    "ezpq.Plot(all_output).build(facet_by='qid', theme='dark',\n",
    "                            color_by='lane',\n",
    "                            color_pal=['cyan', 'orange', 'lime',\n",
    "                                       'red', 'yellow'])"
   ]
  }
 ],
 "metadata": {
  "kernel_info": {
   "name": "mypy36"
  },
  "kernelspec": {
   "display_name": "Python 3",
   "language": "python",
   "name": "python3"
  },
  "language_info": {
   "codemirror_mode": {
    "name": "ipython",
    "version": 3
   },
   "file_extension": ".py",
   "mimetype": "text/x-python",
   "name": "python",
   "nbconvert_exporter": "python",
   "pygments_lexer": "ipython3",
   "version": "3.6.7"
  },
  "nteract": {
   "version": "0.12.3"
  }
 },
 "nbformat": 4,
 "nbformat_minor": 4
}
