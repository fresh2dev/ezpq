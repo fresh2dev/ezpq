{
  "cells": [
    {
      "cell_type": "markdown",
      "source": [
        "# `ezpq` Examples"
      ],
      "metadata": {}
    },
    {
      "cell_type": "code",
      "source": [
        "%matplotlib inline"
      ],
      "outputs": [],
      "execution_count": 1,
      "metadata": {
        "inputHidden": false,
        "outputHidden": false
      }
    },
    {
      "cell_type": "code",
      "source": [
        "import sys\n",
        "import os"
      ],
      "outputs": [],
      "execution_count": 2,
      "metadata": {}
    },
    {
      "cell_type": "code",
      "source": [
        "if os.path.exists('../ezpq/__init__.py'):\n",
        "    sys.path.insert(0, '../')\n",
        "import ezpq"
      ],
      "outputs": [],
      "execution_count": 3,
      "metadata": {}
    },
    {
      "cell_type": "code",
      "source": [
        "import os\n",
        "import time\n",
        "import random\n",
        "import logging as log\n",
        "import multiprocessing as mp\n",
        "import threading\n",
        "logger = log.getLogger()\n",
        "logger.setLevel(log.INFO)\n",
        "# logger.setLevel(log.DEBUG) # uncomment to view verbose output"
      ],
      "outputs": [],
      "execution_count": 4,
      "metadata": {
        "inputHidden": false,
        "outputHidden": false
      }
    },
    {
      "cell_type": "code",
      "source": [
        "import pandas as pd\n",
        "from datetime import datetime"
      ],
      "outputs": [],
      "execution_count": 5,
      "metadata": {}
    },
    {
      "cell_type": "code",
      "source": [
        "# Context manager to time functions\n",
        "class MyTimer():\n",
        "    '''https://www.blog.pythonlibrary.org/2016/05/24/python-101-an-intro-to-benchmarking-your-code/'''\n",
        "    def __init__(self):\n",
        "        self.start = time.time()\n",
        "\n",
        "    def __enter__(self):\n",
        "        return self\n",
        "\n",
        "    def __exit__(self, exc_type, exc_val, exc_tb):\n",
        "        end = time.time()\n",
        "        runtime = round(end - self.start, 3)\n",
        "        msg = 'Runtime: {time}'\n",
        "        print(msg.format(time=runtime))"
      ],
      "outputs": [],
      "execution_count": 6,
      "metadata": {
        "inputHidden": false,
        "outputHidden": false
      }
    },
    {
      "cell_type": "markdown",
      "source": [
        "## Elementary example\n",
        "\nI'll start with a step-by-step example to illustrate the basic operations. The code below is what we want to optimize. It simply loops 10 times, sleeping 1 second each time, for a total of 10 seconds."
      ],
      "metadata": {}
    },
    {
      "cell_type": "markdown",
      "source": [
        "```python\n",
        "for _ in range(10):\n",
        "    time.sleep(1)\n",
        "```"
      ],
      "metadata": {
        "inputHidden": false,
        "outputHidden": false
      }
    },
    {
      "cell_type": "markdown",
      "source": [
        "Create the Queue with *n* workers."
      ],
      "metadata": {}
    },
    {
      "cell_type": "code",
      "source": [
        "Q = ezpq.Queue(n_workers=5)"
      ],
      "outputs": [],
      "execution_count": 7,
      "metadata": {}
    },
    {
      "cell_type": "markdown",
      "source": [
        "Put jobs in the Queue."
      ],
      "metadata": {}
    },
    {
      "cell_type": "code",
      "source": [
        "for _ in range(10):\n",
        "    Q.put(time.sleep, 1)"
      ],
      "outputs": [],
      "execution_count": 8,
      "metadata": {}
    },
    {
      "cell_type": "markdown",
      "source": [
        "size() will count all jobs in the waiting, working, and completed queues."
      ],
      "metadata": {}
    },
    {
      "cell_type": "code",
      "source": [
        "Q.size()"
      ],
      "outputs": [
        {
          "output_type": "execute_result",
          "execution_count": 9,
          "data": {
            "text/plain": [
              "10"
            ]
          },
          "metadata": {}
        }
      ],
      "execution_count": 9,
      "metadata": {}
    },
    {
      "cell_type": "markdown",
      "source": [
        "Create a list to store job data (runtime and output)."
      ],
      "metadata": {}
    },
    {
      "cell_type": "code",
      "source": [
        "results = list()"
      ],
      "outputs": [],
      "execution_count": 10,
      "metadata": {}
    },
    {
      "cell_type": "markdown",
      "source": [
        "`get()` is used to pop the highest priority job from the *completed* queue. The result must be stored or it will be lost.\n",
        "\nWhen no output is available and `wait` is true, the operation will wait for the next job to finish."
      ],
      "metadata": {}
    },
    {
      "cell_type": "code",
      "source": [
        "done = Q.get(wait=True) # get() returns a dict\n",
        "\nresults.append(done) # append dictionary to results list."
      ],
      "outputs": [],
      "execution_count": 11,
      "metadata": {}
    },
    {
      "cell_type": "markdown",
      "source": [
        "Count remaining jobs after the operation above."
      ],
      "metadata": {}
    },
    {
      "cell_type": "code",
      "source": [
        "Q.size()"
      ],
      "outputs": [
        {
          "output_type": "execute_result",
          "execution_count": 12,
          "data": {
            "text/plain": [
              "9"
            ]
          },
          "metadata": {}
        }
      ],
      "execution_count": 12,
      "metadata": {}
    },
    {
      "cell_type": "markdown",
      "source": [
        "`collect()` is used to repeatedly `get()` all completed jobs.\n",
        "\n",
        "`collect()` does not support the `wait` parameter;\n",
        "\nInstead, wait for all running and queued jobs to complete with `wait()` before calling `collect()`."
      ],
      "metadata": {}
    },
    {
      "cell_type": "code",
      "source": [
        "Q.wait()\n",
        "\n",
        "done_list = Q.collect() # collect() returns a list\n",
        "\nresults.extend(done_list) # extend result list "
      ],
      "outputs": [],
      "execution_count": 13,
      "metadata": {}
    },
    {
      "cell_type": "markdown",
      "source": [
        "Verify no jobs remain."
      ],
      "metadata": {}
    },
    {
      "cell_type": "code",
      "source": [
        "Q.size()"
      ],
      "outputs": [
        {
          "output_type": "execute_result",
          "execution_count": 14,
          "data": {
            "text/plain": [
              "0"
            ]
          },
          "metadata": {}
        }
      ],
      "execution_count": 14,
      "metadata": {}
    },
    {
      "cell_type": "markdown",
      "source": [
        "Dispose of the `ezpq`. This will ensure all jobs are stopped and data is discarded."
      ],
      "metadata": {}
    },
    {
      "cell_type": "code",
      "source": [
        "Q.dispose()"
      ],
      "outputs": [],
      "execution_count": 15,
      "metadata": {}
    },
    {
      "cell_type": "markdown",
      "source": [
        "Now, inspect a single job result."
      ],
      "metadata": {}
    },
    {
      "cell_type": "code",
      "source": [
        "results[0]"
      ],
      "outputs": [
        {
          "output_type": "execute_result",
          "execution_count": 16,
          "data": {
            "text/plain": [
              "{'qid': '9030a545',\n",
              " 'id': 1,\n",
              " 'name': 1,\n",
              " 'priority': 100,\n",
              " 'lane': None,\n",
              " 'timeout': 0,\n",
              " 'function': 'sleep',\n",
              " 'args': [1],\n",
              " 'kwargs': None,\n",
              " 'submitted': datetime.datetime(2019, 3, 12, 23, 54, 52, 228484),\n",
              " 'started': datetime.datetime(2019, 3, 12, 23, 54, 52, 324976),\n",
              " 'ended': datetime.datetime(2019, 3, 12, 23, 54, 53, 332575),\n",
              " 'processed': datetime.datetime(2019, 3, 12, 23, 54, 53, 368588),\n",
              " 'exitcode': 0,\n",
              " 'cancelled': False,\n",
              " 'runtime': 1.007598876953125,\n",
              " 'output': None,\n",
              " 'exception': None,\n",
              " 'callback': None}"
            ]
          },
          "metadata": {}
        }
      ],
      "execution_count": 16,
      "metadata": {}
    },
    {
      "cell_type": "markdown",
      "source": [
        "Create a pandas dataframe for a grid view of the results."
      ],
      "metadata": {}
    },
    {
      "cell_type": "code",
      "source": [
        "df = pd.DataFrame(results)\n",
        "\ndf.head()"
      ],
      "outputs": [
        {
          "output_type": "execute_result",
          "execution_count": 17,
          "data": {
            "text/plain": [
              "  args callback  cancelled                      ended exception  exitcode  \\\n",
              "0  [1]     None      False 2019-03-12 23:54:53.332575      None         0   \n",
              "1  [1]     None      False 2019-03-12 23:54:53.336425      None         0   \n",
              "2  [1]     None      False 2019-03-12 23:54:53.341192      None         0   \n",
              "3  [1]     None      False 2019-03-12 23:54:53.345096      None         0   \n",
              "4  [1]     None      False 2019-03-12 23:54:53.350268      None         0   \n",
              "\n",
              "  function  id kwargs  lane  name output  priority                  processed  \\\n",
              "0    sleep   1   None  None     1   None       100 2019-03-12 23:54:53.368588   \n",
              "1    sleep   2   None  None     2   None       100 2019-03-12 23:54:53.369051   \n",
              "2    sleep   3   None  None     3   None       100 2019-03-12 23:54:53.369197   \n",
              "3    sleep   4   None  None     4   None       100 2019-03-12 23:54:53.369314   \n",
              "4    sleep   5   None  None     5   None       100 2019-03-12 23:54:53.454563   \n",
              "\n",
              "        qid   runtime                    started                  submitted  \\\n",
              "0  9030a545  1.007599 2019-03-12 23:54:52.324976 2019-03-12 23:54:52.228484   \n",
              "1  9030a545  1.007510 2019-03-12 23:54:52.328915 2019-03-12 23:54:52.228505   \n",
              "2  9030a545  1.007855 2019-03-12 23:54:52.333337 2019-03-12 23:54:52.228516   \n",
              "3  9030a545  1.007642 2019-03-12 23:54:52.337454 2019-03-12 23:54:52.228524   \n",
              "4  9030a545  1.008313 2019-03-12 23:54:52.341955 2019-03-12 23:54:52.228532   \n",
              "\n",
              "   timeout  \n",
              "0        0  \n",
              "1        0  \n",
              "2        0  \n",
              "3        0  \n",
              "4        0  "
            ],
            "text/html": [
              "<div>\n",
              "<style scoped>\n",
              "    .dataframe tbody tr th:only-of-type {\n",
              "        vertical-align: middle;\n",
              "    }\n",
              "\n",
              "    .dataframe tbody tr th {\n",
              "        vertical-align: top;\n",
              "    }\n",
              "\n",
              "    .dataframe thead th {\n",
              "        text-align: right;\n",
              "    }\n",
              "</style>\n",
              "<table border=\"1\" class=\"dataframe\">\n",
              "  <thead>\n",
              "    <tr style=\"text-align: right;\">\n",
              "      <th></th>\n",
              "      <th>args</th>\n",
              "      <th>callback</th>\n",
              "      <th>cancelled</th>\n",
              "      <th>ended</th>\n",
              "      <th>exception</th>\n",
              "      <th>exitcode</th>\n",
              "      <th>function</th>\n",
              "      <th>id</th>\n",
              "      <th>kwargs</th>\n",
              "      <th>lane</th>\n",
              "      <th>name</th>\n",
              "      <th>output</th>\n",
              "      <th>priority</th>\n",
              "      <th>processed</th>\n",
              "      <th>qid</th>\n",
              "      <th>runtime</th>\n",
              "      <th>started</th>\n",
              "      <th>submitted</th>\n",
              "      <th>timeout</th>\n",
              "    </tr>\n",
              "  </thead>\n",
              "  <tbody>\n",
              "    <tr>\n",
              "      <th>0</th>\n",
              "      <td>[1]</td>\n",
              "      <td>None</td>\n",
              "      <td>False</td>\n",
              "      <td>2019-03-12 23:54:53.332575</td>\n",
              "      <td>None</td>\n",
              "      <td>0</td>\n",
              "      <td>sleep</td>\n",
              "      <td>1</td>\n",
              "      <td>None</td>\n",
              "      <td>None</td>\n",
              "      <td>1</td>\n",
              "      <td>None</td>\n",
              "      <td>100</td>\n",
              "      <td>2019-03-12 23:54:53.368588</td>\n",
              "      <td>9030a545</td>\n",
              "      <td>1.007599</td>\n",
              "      <td>2019-03-12 23:54:52.324976</td>\n",
              "      <td>2019-03-12 23:54:52.228484</td>\n",
              "      <td>0</td>\n",
              "    </tr>\n",
              "    <tr>\n",
              "      <th>1</th>\n",
              "      <td>[1]</td>\n",
              "      <td>None</td>\n",
              "      <td>False</td>\n",
              "      <td>2019-03-12 23:54:53.336425</td>\n",
              "      <td>None</td>\n",
              "      <td>0</td>\n",
              "      <td>sleep</td>\n",
              "      <td>2</td>\n",
              "      <td>None</td>\n",
              "      <td>None</td>\n",
              "      <td>2</td>\n",
              "      <td>None</td>\n",
              "      <td>100</td>\n",
              "      <td>2019-03-12 23:54:53.369051</td>\n",
              "      <td>9030a545</td>\n",
              "      <td>1.007510</td>\n",
              "      <td>2019-03-12 23:54:52.328915</td>\n",
              "      <td>2019-03-12 23:54:52.228505</td>\n",
              "      <td>0</td>\n",
              "    </tr>\n",
              "    <tr>\n",
              "      <th>2</th>\n",
              "      <td>[1]</td>\n",
              "      <td>None</td>\n",
              "      <td>False</td>\n",
              "      <td>2019-03-12 23:54:53.341192</td>\n",
              "      <td>None</td>\n",
              "      <td>0</td>\n",
              "      <td>sleep</td>\n",
              "      <td>3</td>\n",
              "      <td>None</td>\n",
              "      <td>None</td>\n",
              "      <td>3</td>\n",
              "      <td>None</td>\n",
              "      <td>100</td>\n",
              "      <td>2019-03-12 23:54:53.369197</td>\n",
              "      <td>9030a545</td>\n",
              "      <td>1.007855</td>\n",
              "      <td>2019-03-12 23:54:52.333337</td>\n",
              "      <td>2019-03-12 23:54:52.228516</td>\n",
              "      <td>0</td>\n",
              "    </tr>\n",
              "    <tr>\n",
              "      <th>3</th>\n",
              "      <td>[1]</td>\n",
              "      <td>None</td>\n",
              "      <td>False</td>\n",
              "      <td>2019-03-12 23:54:53.345096</td>\n",
              "      <td>None</td>\n",
              "      <td>0</td>\n",
              "      <td>sleep</td>\n",
              "      <td>4</td>\n",
              "      <td>None</td>\n",
              "      <td>None</td>\n",
              "      <td>4</td>\n",
              "      <td>None</td>\n",
              "      <td>100</td>\n",
              "      <td>2019-03-12 23:54:53.369314</td>\n",
              "      <td>9030a545</td>\n",
              "      <td>1.007642</td>\n",
              "      <td>2019-03-12 23:54:52.337454</td>\n",
              "      <td>2019-03-12 23:54:52.228524</td>\n",
              "      <td>0</td>\n",
              "    </tr>\n",
              "    <tr>\n",
              "      <th>4</th>\n",
              "      <td>[1]</td>\n",
              "      <td>None</td>\n",
              "      <td>False</td>\n",
              "      <td>2019-03-12 23:54:53.350268</td>\n",
              "      <td>None</td>\n",
              "      <td>0</td>\n",
              "      <td>sleep</td>\n",
              "      <td>5</td>\n",
              "      <td>None</td>\n",
              "      <td>None</td>\n",
              "      <td>5</td>\n",
              "      <td>None</td>\n",
              "      <td>100</td>\n",
              "      <td>2019-03-12 23:54:53.454563</td>\n",
              "      <td>9030a545</td>\n",
              "      <td>1.008313</td>\n",
              "      <td>2019-03-12 23:54:52.341955</td>\n",
              "      <td>2019-03-12 23:54:52.228532</td>\n",
              "      <td>0</td>\n",
              "    </tr>\n",
              "  </tbody>\n",
              "</table>\n",
              "</div>"
            ]
          },
          "metadata": {}
        }
      ],
      "execution_count": 17,
      "metadata": {}
    },
    {
      "cell_type": "markdown",
      "source": [
        "Lastly, visualize the steps."
      ],
      "metadata": {}
    },
    {
      "cell_type": "code",
      "source": [
        "ezpq.Plot(results).build()"
      ],
      "outputs": [
        {
          "output_type": "display_data",
          "data": {
            "text/plain": [
              "<Figure size 640x480 with 1 Axes>"
            ],
            "image/png": "[encoded data removed]"
          },
          "metadata": {}
        },
        {
          "output_type": "execute_result",
          "execution_count": 18,
          "data": {
            "text/plain": [
              "<ggplot: (-9223372036540945639)>"
            ]
          },
          "metadata": {}
        }
      ],
      "execution_count": 18,
      "metadata": {}
    },
    {
      "cell_type": "markdown",
      "source": [
        "In the chart above, the colored lines overlap because the jobs were run in parallel. Contrast that with the following example using serial processing."
      ],
      "metadata": {}
    },
    {
      "cell_type": "markdown",
      "source": [
        "## Practical Examples"
      ],
      "metadata": {}
    },
    {
      "cell_type": "markdown",
      "source": [
        "Shared parameters; adjust as desired."
      ],
      "metadata": {}
    },
    {
      "cell_type": "code",
      "source": [
        "n_workers = 10 # number of workers to process the queue.\n",
        "n_inputs  = 50 # number of inputs to the queue.\n",
        "job_time  = 1  # number of seconds each input will 'sleep'"
      ],
      "outputs": [],
      "execution_count": 19,
      "metadata": {
        "inputHidden": false,
        "outputHidden": false
      }
    },
    {
      "cell_type": "markdown",
      "source": [
        "---"
      ],
      "metadata": {}
    },
    {
      "cell_type": "code",
      "source": [
        "with ezpq.Queue(n_workers=n_workers) as Q: # create an ezpq.Queue() with 10 workers.    \n",
        "    for i in range(n_inputs): # create 50 jobs, each sleeping for 1 second.\n",
        "        Q.put(function=time.sleep, args=job_time)\n",
        "    \n",
        "    Q.waitpb() # wait for all jobs to complete.\n",
        "    \n",
        "    results = Q.collect() # collect completed jobs from queue.\n",
        "    \n",
        "df = pd.DataFrame(results)\n",
        "\ndf.head()"
      ],
      "outputs": [
        {
          "output_type": "display_data",
          "data": {
            "text/plain": [
              "HBox(children=(IntProgress(value=0, max=50), HTML(value='')))"
            ],
            "application/vnd.jupyter.widget-view+json": {
              "version_major": 2,
              "version_minor": 0,
              "model_id": "88b0a8ca0cca4b14be29c36c6ebd7ed8"
            }
          },
          "metadata": {}
        },
        {
          "output_type": "stream",
          "name": "stdout",
          "text": [
            "\n"
          ]
        },
        {
          "output_type": "execute_result",
          "execution_count": 20,
          "data": {
            "text/plain": [
              "  args callback  cancelled                      ended exception  exitcode  \\\n",
              "0  [1]     None      False 2019-03-12 23:54:57.786251      None         0   \n",
              "1  [1]     None      False 2019-03-12 23:54:57.791527      None         0   \n",
              "2  [1]     None      False 2019-03-12 23:54:57.796455      None         0   \n",
              "3  [1]     None      False 2019-03-12 23:54:57.800084      None         0   \n",
              "4  [1]     None      False 2019-03-12 23:54:57.805892      None         0   \n",
              "\n",
              "  function  id kwargs  lane  name output  priority                  processed  \\\n",
              "0    sleep   1   None  None     1   None       100 2019-03-12 23:54:57.813994   \n",
              "1    sleep   2   None  None     2   None       100 2019-03-12 23:54:57.814404   \n",
              "2    sleep   3   None  None     3   None       100 2019-03-12 23:54:57.814531   \n",
              "3    sleep   4   None  None     4   None       100 2019-03-12 23:54:57.814645   \n",
              "4    sleep   5   None  None     5   None       100 2019-03-12 23:54:57.814780   \n",
              "\n",
              "        qid   runtime                    started                  submitted  \\\n",
              "0  163e44b7  1.007813 2019-03-12 23:54:56.778438 2019-03-12 23:54:56.670451   \n",
              "1  163e44b7  1.008554 2019-03-12 23:54:56.782973 2019-03-12 23:54:56.670491   \n",
              "2  163e44b7  1.008746 2019-03-12 23:54:56.787709 2019-03-12 23:54:56.670502   \n",
              "3  163e44b7  1.007728 2019-03-12 23:54:56.792356 2019-03-12 23:54:56.670517   \n",
              "4  163e44b7  1.008828 2019-03-12 23:54:56.797064 2019-03-12 23:54:56.670532   \n",
              "\n",
              "   timeout  \n",
              "0        0  \n",
              "1        0  \n",
              "2        0  \n",
              "3        0  \n",
              "4        0  "
            ],
            "text/html": [
              "<div>\n",
              "<style scoped>\n",
              "    .dataframe tbody tr th:only-of-type {\n",
              "        vertical-align: middle;\n",
              "    }\n",
              "\n",
              "    .dataframe tbody tr th {\n",
              "        vertical-align: top;\n",
              "    }\n",
              "\n",
              "    .dataframe thead th {\n",
              "        text-align: right;\n",
              "    }\n",
              "</style>\n",
              "<table border=\"1\" class=\"dataframe\">\n",
              "  <thead>\n",
              "    <tr style=\"text-align: right;\">\n",
              "      <th></th>\n",
              "      <th>args</th>\n",
              "      <th>callback</th>\n",
              "      <th>cancelled</th>\n",
              "      <th>ended</th>\n",
              "      <th>exception</th>\n",
              "      <th>exitcode</th>\n",
              "      <th>function</th>\n",
              "      <th>id</th>\n",
              "      <th>kwargs</th>\n",
              "      <th>lane</th>\n",
              "      <th>name</th>\n",
              "      <th>output</th>\n",
              "      <th>priority</th>\n",
              "      <th>processed</th>\n",
              "      <th>qid</th>\n",
              "      <th>runtime</th>\n",
              "      <th>started</th>\n",
              "      <th>submitted</th>\n",
              "      <th>timeout</th>\n",
              "    </tr>\n",
              "  </thead>\n",
              "  <tbody>\n",
              "    <tr>\n",
              "      <th>0</th>\n",
              "      <td>[1]</td>\n",
              "      <td>None</td>\n",
              "      <td>False</td>\n",
              "      <td>2019-03-12 23:54:57.786251</td>\n",
              "      <td>None</td>\n",
              "      <td>0</td>\n",
              "      <td>sleep</td>\n",
              "      <td>1</td>\n",
              "      <td>None</td>\n",
              "      <td>None</td>\n",
              "      <td>1</td>\n",
              "      <td>None</td>\n",
              "      <td>100</td>\n",
              "      <td>2019-03-12 23:54:57.813994</td>\n",
              "      <td>163e44b7</td>\n",
              "      <td>1.007813</td>\n",
              "      <td>2019-03-12 23:54:56.778438</td>\n",
              "      <td>2019-03-12 23:54:56.670451</td>\n",
              "      <td>0</td>\n",
              "    </tr>\n",
              "    <tr>\n",
              "      <th>1</th>\n",
              "      <td>[1]</td>\n",
              "      <td>None</td>\n",
              "      <td>False</td>\n",
              "      <td>2019-03-12 23:54:57.791527</td>\n",
              "      <td>None</td>\n",
              "      <td>0</td>\n",
              "      <td>sleep</td>\n",
              "      <td>2</td>\n",
              "      <td>None</td>\n",
              "      <td>None</td>\n",
              "      <td>2</td>\n",
              "      <td>None</td>\n",
              "      <td>100</td>\n",
              "      <td>2019-03-12 23:54:57.814404</td>\n",
              "      <td>163e44b7</td>\n",
              "      <td>1.008554</td>\n",
              "      <td>2019-03-12 23:54:56.782973</td>\n",
              "      <td>2019-03-12 23:54:56.670491</td>\n",
              "      <td>0</td>\n",
              "    </tr>\n",
              "    <tr>\n",
              "      <th>2</th>\n",
              "      <td>[1]</td>\n",
              "      <td>None</td>\n",
              "      <td>False</td>\n",
              "      <td>2019-03-12 23:54:57.796455</td>\n",
              "      <td>None</td>\n",
              "      <td>0</td>\n",
              "      <td>sleep</td>\n",
              "      <td>3</td>\n",
              "      <td>None</td>\n",
              "      <td>None</td>\n",
              "      <td>3</td>\n",
              "      <td>None</td>\n",
              "      <td>100</td>\n",
              "      <td>2019-03-12 23:54:57.814531</td>\n",
              "      <td>163e44b7</td>\n",
              "      <td>1.008746</td>\n",
              "      <td>2019-03-12 23:54:56.787709</td>\n",
              "      <td>2019-03-12 23:54:56.670502</td>\n",
              "      <td>0</td>\n",
              "    </tr>\n",
              "    <tr>\n",
              "      <th>3</th>\n",
              "      <td>[1]</td>\n",
              "      <td>None</td>\n",
              "      <td>False</td>\n",
              "      <td>2019-03-12 23:54:57.800084</td>\n",
              "      <td>None</td>\n",
              "      <td>0</td>\n",
              "      <td>sleep</td>\n",
              "      <td>4</td>\n",
              "      <td>None</td>\n",
              "      <td>None</td>\n",
              "      <td>4</td>\n",
              "      <td>None</td>\n",
              "      <td>100</td>\n",
              "      <td>2019-03-12 23:54:57.814645</td>\n",
              "      <td>163e44b7</td>\n",
              "      <td>1.007728</td>\n",
              "      <td>2019-03-12 23:54:56.792356</td>\n",
              "      <td>2019-03-12 23:54:56.670517</td>\n",
              "      <td>0</td>\n",
              "    </tr>\n",
              "    <tr>\n",
              "      <th>4</th>\n",
              "      <td>[1]</td>\n",
              "      <td>None</td>\n",
              "      <td>False</td>\n",
              "      <td>2019-03-12 23:54:57.805892</td>\n",
              "      <td>None</td>\n",
              "      <td>0</td>\n",
              "      <td>sleep</td>\n",
              "      <td>5</td>\n",
              "      <td>None</td>\n",
              "      <td>None</td>\n",
              "      <td>5</td>\n",
              "      <td>None</td>\n",
              "      <td>100</td>\n",
              "      <td>2019-03-12 23:54:57.814780</td>\n",
              "      <td>163e44b7</td>\n",
              "      <td>1.008828</td>\n",
              "      <td>2019-03-12 23:54:56.797064</td>\n",
              "      <td>2019-03-12 23:54:56.670532</td>\n",
              "      <td>0</td>\n",
              "    </tr>\n",
              "  </tbody>\n",
              "</table>\n",
              "</div>"
            ]
          },
          "metadata": {}
        }
      ],
      "execution_count": 20,
      "metadata": {
        "inputHidden": false,
        "outputHidden": false
      }
    },
    {
      "cell_type": "code",
      "source": [
        "title='{} inputs, {}s job time, {} workers (parallel).'.format(n_inputs, job_time, n_workers)\n",
        "\n",
        "plt = ezpq.Plot(results).build(title=title)\n",
        "\n",
        "plt.save('imgs/{}x{}x{}.png'.format(n_inputs, job_time, n_workers))\n",
        "plt"
      ],
      "outputs": [
        {
          "output_type": "stream",
          "name": "stderr",
          "text": [
            "/Users/donald/envs/mypy36/lib/python3.6/site-packages/plotnine/ggplot.py:706: UserWarning: Saving 6.4 x 4.8 in image.\n",
            "  from_inches(height, units), units))\n",
            "/Users/donald/envs/mypy36/lib/python3.6/site-packages/plotnine/ggplot.py:707: UserWarning: Filename: imgs/50x1x10.png\n",
            "  warn('Filename: {}'.format(filename))\n"
          ]
        },
        {
          "output_type": "display_data",
          "data": {
            "text/plain": [
              "<Figure size 640x480 with 1 Axes>"
            ],
            "image/png": "[encoded data removed]"
          },
          "metadata": {}
        },
        {
          "output_type": "execute_result",
          "execution_count": 21,
          "data": {
            "text/plain": [
              "<ggplot: (-9223372036538734325)>"
            ]
          },
          "metadata": {}
        }
      ],
      "execution_count": 21,
      "metadata": {
        "inputHidden": false,
        "outputHidden": false
      }
    },
    {
      "cell_type": "markdown",
      "source": [
        "## Job Priority"
      ],
      "metadata": {}
    },
    {
      "cell_type": "markdown",
      "source": [
        "Jobs are prioritized by (1) custom priority and (2) arrival time. By using a priority queue for both pending and completed jobs, you can be sure that higher priority jobs are executed and retrieved sooner.\n",
        "\nThe default priority value is 100. Lower values take higher priority."
      ],
      "metadata": {}
    },
    {
      "cell_type": "code",
      "source": [
        "with ezpq.Queue(n_workers=n_workers) as Q:\n",
        "\n",
        "    for i in range(n_inputs):\n",
        "        Q.put(function=time.sleep, args=job_time,\n",
        "              priority=int((i+1) % 10 != 0)+1) # prioritize numbers divisible by ten.\n",
        "\n",
        "    Q.waitpb()\n",
        "\n",
        "    results = Q.collect()\n",
        "\n",
        "title = '{} inputs, {}s job time, {} workers (prioritized).'.format(n_inputs, job_time, n_workers)\n",
        "\n",
        "plt = ezpq.Plot(results).build(title=title, color_by='priority')\n",
        "\n",
        "plt.save('imgs/100x1x10_priority.png')\n",
        "plt"
      ],
      "outputs": [
        {
          "output_type": "display_data",
          "data": {
            "text/plain": [
              "HBox(children=(IntProgress(value=0, max=50), HTML(value='')))"
            ],
            "application/vnd.jupyter.widget-view+json": {
              "version_major": 2,
              "version_minor": 0,
              "model_id": "b253d5779858467a8cbb325db0e9db4a"
            }
          },
          "metadata": {}
        },
        {
          "output_type": "stream",
          "name": "stdout",
          "text": [
            "\n"
          ]
        },
        {
          "output_type": "stream",
          "name": "stderr",
          "text": [
            "/Users/donald/envs/mypy36/lib/python3.6/site-packages/plotnine/ggplot.py:706: UserWarning: Saving 6.4 x 4.8 in image.\n",
            "  from_inches(height, units), units))\n",
            "/Users/donald/envs/mypy36/lib/python3.6/site-packages/plotnine/ggplot.py:707: UserWarning: Filename: imgs/100x1x10_priority.png\n",
            "  warn('Filename: {}'.format(filename))\n"
          ]
        },
        {
          "output_type": "display_data",
          "data": {
            "text/plain": [
              "<Figure size 640x480 with 1 Axes>"
            ],
            "image/png": "[encoded data removed]"
          },
          "metadata": {}
        },
        {
          "output_type": "execute_result",
          "execution_count": 22,
          "data": {
            "text/plain": [
              "<ggplot: (316147078)>"
            ]
          },
          "metadata": {}
        }
      ],
      "execution_count": 22,
      "metadata": {
        "inputHidden": false,
        "outputHidden": false
      }
    },
    {
      "cell_type": "markdown",
      "source": [
        "## Threads\n",
        "\n",
        "By default, `ezpq.Queue` uses `multiprocessing.Process` to spawn new jobs. However, you can use `threading.Thread` instead by specifying `job_runner=Thread` when creating the Queue. Some of the differences between processes and threads are explained [here](https://medium.com/@bfortuner/python-multithreading-vs-multiprocessing-73072ce5600b).\n",
        "\n",
        "> Note that, inherently, `Thread` loses the ability to enforce a timeout, to kill jobs, or to obtain exit codes.\n",
        "\n",
        "Aside from that, there's no difference in how you interact with ezpq.\n",
        "\nIn addition to using Threads, the example below varies the job time between 0-2 seconds."
      ],
      "metadata": {}
    },
    {
      "cell_type": "code",
      "source": [
        "from threading import Thread\n",
        "\n",
        "with ezpq.Queue(n_workers=n_workers, job_runner=Thread) as Q:\n",
        "\n",
        "    for i in range(n_inputs):\n",
        "        sleep_sec = random.randint(0, job_time*2000) / 1000 # sleep for random time between 0-2s (avg=1s).\n",
        "        \n",
        "        Q.put(function=time.sleep, args=sleep_sec)\n",
        "\n",
        "    Q.waitpb()\n",
        "\n",
        "    results = Q.collect()\n",
        "\n",
        "title = '{} inputs, 0-2s job time, {} workers (threads).'.format(n_inputs, job_time, n_workers)\n",
        "plt = ezpq.Plot(results).build(title=title)\n",
        "\n",
        "plt.save('imgs/100xNx10.png')\n",
        "plt"
      ],
      "outputs": [
        {
          "output_type": "display_data",
          "data": {
            "text/plain": [
              "HBox(children=(IntProgress(value=0, max=50), HTML(value='')))"
            ],
            "application/vnd.jupyter.widget-view+json": {
              "version_major": 2,
              "version_minor": 0,
              "model_id": "a0346d73f9394f4bb70f040a4b35d9e9"
            }
          },
          "metadata": {}
        },
        {
          "output_type": "stream",
          "name": "stdout",
          "text": [
            "\n"
          ]
        },
        {
          "output_type": "stream",
          "name": "stderr",
          "text": [
            "/Users/donald/envs/mypy36/lib/python3.6/site-packages/plotnine/ggplot.py:706: UserWarning: Saving 6.4 x 4.8 in image.\n",
            "  from_inches(height, units), units))\n",
            "/Users/donald/envs/mypy36/lib/python3.6/site-packages/plotnine/ggplot.py:707: UserWarning: Filename: imgs/100xNx10.png\n",
            "  warn('Filename: {}'.format(filename))\n"
          ]
        },
        {
          "output_type": "display_data",
          "data": {
            "text/plain": [
              "<Figure size 640x480 with 1 Axes>"
            ],
            "image/png": "[encoded data removed]"
          },
          "metadata": {}
        },
        {
          "output_type": "execute_result",
          "execution_count": 23,
          "data": {
            "text/plain": [
              "<ggplot: (317087780)>"
            ]
          },
          "metadata": {}
        }
      ],
      "execution_count": 23,
      "metadata": {
        "inputHidden": false,
        "outputHidden": false
      }
    },
    {
      "cell_type": "markdown",
      "source": [
        "## Timeout\n",
        "\n> Recall that you can only use timeout when using processes, not threads."
      ],
      "metadata": {}
    },
    {
      "cell_type": "code",
      "source": [
        "n_inputs = 50\n",
        "job_time = 1"
      ],
      "outputs": [],
      "execution_count": 24,
      "metadata": {
        "inputHidden": false,
        "outputHidden": false
      }
    },
    {
      "cell_type": "code",
      "source": [
        "with ezpq.Queue(n_workers=n_workers) as Q:\n",
        "\n",
        "    for i in range(n_inputs):\n",
        "        sleep_sec = random.randint(0, job_time*2000) / 1000 # sleep between 0s and 2s (avg=1s).\n",
        "\n",
        "        Q.put(function=time.sleep, args=sleep_sec,\n",
        "              timeout=job_time*1.8) # 1.8 < 2; timeout will occur on ~10% of jobs.\n",
        "\n",
        "    Q.waitpb()\n",
        "\n",
        "    results = Q.collect()\n",
        "    \n",
        "title = '{} inputs, 0-2s job time, {} workers (timeout=1.8s).'.format(n_inputs, job_time, n_workers)\n",
        "\n",
        "plt = ezpq.Plot(results).build(color_by='cancelled',\n",
        "                               color_pal=['blue', 'red'],\n",
        "                               title=title)\n",
        "\n",
        "plt.save('imgs/{}xNx{}_timeouts.png'.format(n_inputs, n_workers))\n",
        "plt"
      ],
      "outputs": [
        {
          "output_type": "display_data",
          "data": {
            "text/plain": [
              "HBox(children=(IntProgress(value=0, max=50), HTML(value='')))"
            ],
            "application/vnd.jupyter.widget-view+json": {
              "version_major": 2,
              "version_minor": 0,
              "model_id": "41eb98b8762841f7a0b16b2cadb4d807"
            }
          },
          "metadata": {}
        },
        {
          "output_type": "stream",
          "name": "stdout",
          "text": [
            "\n"
          ]
        },
        {
          "output_type": "stream",
          "name": "stderr",
          "text": [
            "/Users/donald/envs/mypy36/lib/python3.6/site-packages/plotnine/ggplot.py:706: UserWarning: Saving 6.4 x 4.8 in image.\n",
            "  from_inches(height, units), units))\n",
            "/Users/donald/envs/mypy36/lib/python3.6/site-packages/plotnine/ggplot.py:707: UserWarning: Filename: imgs/50xNx10_timeouts.png\n",
            "  warn('Filename: {}'.format(filename))\n"
          ]
        },
        {
          "output_type": "display_data",
          "data": {
            "text/plain": [
              "<Figure size 640x480 with 1 Axes>"
            ],
            "image/png": "[encoded data removed]"
          },
          "metadata": {}
        },
        {
          "output_type": "execute_result",
          "execution_count": 25,
          "data": {
            "text/plain": [
              "<ggplot: (-9223372036538218538)>"
            ]
          },
          "metadata": {}
        }
      ],
      "execution_count": 25,
      "metadata": {
        "inputHidden": false,
        "outputHidden": false
      }
    },
    {
      "cell_type": "markdown",
      "source": [
        "## Logging\n",
        "\n",
        "Writing to a log is as simple as adding `log_file='/path/to/file.csv'`. \n",
        "\nThe example below illustrates a simply real-world use case. The goal is to obtain the total count and size of files within various folders. One process will be spawned to enumerate each folder. By doing so in parallel, the entire operation only takes as long as the single-most long operation."
      ],
      "metadata": {}
    },
    {
      "cell_type": "markdown",
      "source": [
        "Define the function to enumerate the files."
      ],
      "metadata": {}
    },
    {
      "cell_type": "code",
      "source": [
        "import os, fnmatch\n",
        "def enum_files(path, pattern):\n",
        "    '''https://stackoverflow.com/a/1724723'''\n",
        "    n, size = 0, 0\n",
        "    for root, dirs, files in os.walk(path, followlinks=True):\n",
        "        for name in files:\n",
        "            if pattern is None or fnmatch.fnmatch(name, pattern):\n",
        "                n += 1\n",
        "                size += os.path.getsize( os.path.join(root, name) )\n",
        "                \n",
        "    return (n, size)\n",
        "\n",
        "root_dir = os.environ['HOME']\n",
        "\n",
        "include_dirs = [os.path.join(root_dir, x)\n",
        "                for x in ['bin', 'Desktop', 'Documents', 'Downloads', 'Music', 'Pictures']]"
      ],
      "outputs": [],
      "execution_count": 26,
      "metadata": {
        "inputHidden": false,
        "outputHidden": false
      }
    },
    {
      "cell_type": "code",
      "source": [
        "log_file = 'ezpq_log.csv'\n",
        "\n",
        "# first, remove existing log file.\n",
        "if os.path.exists(log_file):\n",
        "    os.unlink(log_file)"
      ],
      "outputs": [],
      "execution_count": 27,
      "metadata": {}
    },
    {
      "cell_type": "markdown",
      "source": [
        "Each result will be written to a CSV file and discarded. Afterward, we'll read the CSV back in and draw a plot.\n",
        "\nNotice there is no call to `get()` or `collect()`. Because `auto_remove=True`, jobs are discarded; there is no completed queue to pull from."
      ],
      "metadata": {}
    },
    {
      "cell_type": "code",
      "source": [
        "with ezpq.Queue(n_workers = len(include_dirs),\n",
        "                log_file=log_file, auto_remove=True) as Q:\n",
        "\n",
        "    for path in include_dirs:\n",
        "        Q.put(name=path,\n",
        "              function=enum_files,\n",
        "              kwargs={'path': path, 'pattern': '*'})\n",
        "\n    Q.waitpb()"
      ],
      "outputs": [
        {
          "output_type": "display_data",
          "data": {
            "text/plain": [
              "HBox(children=(IntProgress(value=0, max=6), HTML(value='')))"
            ],
            "application/vnd.jupyter.widget-view+json": {
              "version_major": 2,
              "version_minor": 0,
              "model_id": "60e13de27e9049fb8cde7c89c03cdba0"
            }
          },
          "metadata": {}
        },
        {
          "output_type": "stream",
          "name": "stderr",
          "text": [
            "Process 1:\n",
            "Traceback (most recent call last):\n",
            "  File \"/Library/Frameworks/Python.framework/Versions/3.6/lib/python3.6/multiprocessing/process.py\", line 258, in _bootstrap\n",
            "    self.run()\n",
            "  File \"/Library/Frameworks/Python.framework/Versions/3.6/lib/python3.6/multiprocessing/process.py\", line 93, in run\n",
            "    self._target(*self._args, **self._kwargs)\n",
            "  File \"../ezpq/Queue.py\", line 587, in _job_wrap\n",
            "    raise ex_obj\n",
            "  File \"../ezpq/Queue.py\", line 578, in _job_wrap\n",
            "    out = _job.function(*args, **kwargs)\n",
            "  File \"<ipython-input-26-ca195106171a>\", line 9, in enum_files\n",
            "    size += os.path.getsize( os.path.join(root, name) )\n",
            "  File \"/Library/Frameworks/Python.framework/Versions/3.6/lib/python3.6/genericpath.py\", line 50, in getsize\n",
            "    return os.stat(filename).st_size\n",
            "FileNotFoundError: [Errno 2] No such file or directory: '/Users/donald/bin/kudu/build/latest/bin/hive-home'\n"
          ]
        },
        {
          "output_type": "stream",
          "name": "stdout",
          "text": [
            "\n"
          ]
        }
      ],
      "execution_count": 28,
      "metadata": {
        "inputHidden": false,
        "outputHidden": false
      }
    },
    {
      "cell_type": "markdown",
      "source": [
        "Read the CSV file back in with pandas."
      ],
      "metadata": {}
    },
    {
      "cell_type": "code",
      "source": [
        "date_cols = ['submitted', 'started', 'ended', 'processed']\n",
        "\n",
        "results\n",
        "\n",
        "df = pd.read_csv(log_file, parse_dates=date_cols)\n",
        "\n",
        "os.unlink(log_file)\n",
        "\ndf.head()"
      ],
      "outputs": [
        {
          "output_type": "execute_result",
          "execution_count": 29,
          "data": {
            "text/plain": [
              "        qid  id                     name  priority  lane  timeout    function  \\\n",
              "0  2db4adcb   2    /Users/donald/Desktop       100   NaN        0  enum_files   \n",
              "1  2db4adcb   5      /Users/donald/Music       100   NaN        0  enum_files   \n",
              "2  2db4adcb   6   /Users/donald/Pictures       100   NaN        0  enum_files   \n",
              "3  2db4adcb   3  /Users/donald/Documents       100   NaN        0  enum_files   \n",
              "4  2db4adcb   4  /Users/donald/Downloads       100   NaN        0  enum_files   \n",
              "\n",
              "   args                                             kwargs  \\\n",
              "0   NaN  {'path': '/Users/donald/Desktop', 'pattern': '*'}   \n",
              "1   NaN    {'path': '/Users/donald/Music', 'pattern': '*'}   \n",
              "2   NaN  {'path': '/Users/donald/Pictures', 'pattern': ...   \n",
              "3   NaN  {'path': '/Users/donald/Documents', 'pattern':...   \n",
              "4   NaN  {'path': '/Users/donald/Downloads', 'pattern':...   \n",
              "\n",
              "                   submitted                    started  \\\n",
              "0 2019-03-12 23:55:52.432877 2019-03-12 23:55:52.542806   \n",
              "1 2019-03-12 23:55:52.432944 2019-03-12 23:55:52.561550   \n",
              "2 2019-03-12 23:55:52.432960 2019-03-12 23:55:52.567884   \n",
              "3 2019-03-12 23:55:52.432895 2019-03-12 23:55:52.548391   \n",
              "4 2019-03-12 23:55:52.432928 2019-03-12 23:55:52.555055   \n",
              "\n",
              "                       ended                  processed  exitcode  cancelled  \\\n",
              "0 2019-03-12 23:55:52.555101 2019-03-12 23:55:52.637417         0      False   \n",
              "1 2019-03-12 23:55:52.584082 2019-03-12 23:55:52.639257         0      False   \n",
              "2 2019-03-12 23:55:52.583016 2019-03-12 23:55:52.639970         0      False   \n",
              "3 2019-03-12 23:55:52.659204 2019-03-12 23:55:52.736533         0      False   \n",
              "4 2019-03-12 23:55:52.927651 2019-03-12 23:55:52.940752         0      False   \n",
              "\n",
              "    runtime               output exception  callback  \n",
              "0  0.012295         (8, 2223032)       NaN       NaN  \n",
              "1  0.022532        (57, 3311151)       NaN       NaN  \n",
              "2  0.015132            (4, 6338)       NaN       NaN  \n",
              "3  0.110813  (2037, 13147879277)       NaN       NaN  \n",
              "4  0.372596    (7541, 762292776)       NaN       NaN  "
            ],
            "text/html": [
              "<div>\n",
              "<style scoped>\n",
              "    .dataframe tbody tr th:only-of-type {\n",
              "        vertical-align: middle;\n",
              "    }\n",
              "\n",
              "    .dataframe tbody tr th {\n",
              "        vertical-align: top;\n",
              "    }\n",
              "\n",
              "    .dataframe thead th {\n",
              "        text-align: right;\n",
              "    }\n",
              "</style>\n",
              "<table border=\"1\" class=\"dataframe\">\n",
              "  <thead>\n",
              "    <tr style=\"text-align: right;\">\n",
              "      <th></th>\n",
              "      <th>qid</th>\n",
              "      <th>id</th>\n",
              "      <th>name</th>\n",
              "      <th>priority</th>\n",
              "      <th>lane</th>\n",
              "      <th>timeout</th>\n",
              "      <th>function</th>\n",
              "      <th>args</th>\n",
              "      <th>kwargs</th>\n",
              "      <th>submitted</th>\n",
              "      <th>started</th>\n",
              "      <th>ended</th>\n",
              "      <th>processed</th>\n",
              "      <th>exitcode</th>\n",
              "      <th>cancelled</th>\n",
              "      <th>runtime</th>\n",
              "      <th>output</th>\n",
              "      <th>exception</th>\n",
              "      <th>callback</th>\n",
              "    </tr>\n",
              "  </thead>\n",
              "  <tbody>\n",
              "    <tr>\n",
              "      <th>0</th>\n",
              "      <td>2db4adcb</td>\n",
              "      <td>2</td>\n",
              "      <td>/Users/donald/Desktop</td>\n",
              "      <td>100</td>\n",
              "      <td>NaN</td>\n",
              "      <td>0</td>\n",
              "      <td>enum_files</td>\n",
              "      <td>NaN</td>\n",
              "      <td>{'path': '/Users/donald/Desktop', 'pattern': '*'}</td>\n",
              "      <td>2019-03-12 23:55:52.432877</td>\n",
              "      <td>2019-03-12 23:55:52.542806</td>\n",
              "      <td>2019-03-12 23:55:52.555101</td>\n",
              "      <td>2019-03-12 23:55:52.637417</td>\n",
              "      <td>0</td>\n",
              "      <td>False</td>\n",
              "      <td>0.012295</td>\n",
              "      <td>(8, 2223032)</td>\n",
              "      <td>NaN</td>\n",
              "      <td>NaN</td>\n",
              "    </tr>\n",
              "    <tr>\n",
              "      <th>1</th>\n",
              "      <td>2db4adcb</td>\n",
              "      <td>5</td>\n",
              "      <td>/Users/donald/Music</td>\n",
              "      <td>100</td>\n",
              "      <td>NaN</td>\n",
              "      <td>0</td>\n",
              "      <td>enum_files</td>\n",
              "      <td>NaN</td>\n",
              "      <td>{'path': '/Users/donald/Music', 'pattern': '*'}</td>\n",
              "      <td>2019-03-12 23:55:52.432944</td>\n",
              "      <td>2019-03-12 23:55:52.561550</td>\n",
              "      <td>2019-03-12 23:55:52.584082</td>\n",
              "      <td>2019-03-12 23:55:52.639257</td>\n",
              "      <td>0</td>\n",
              "      <td>False</td>\n",
              "      <td>0.022532</td>\n",
              "      <td>(57, 3311151)</td>\n",
              "      <td>NaN</td>\n",
              "      <td>NaN</td>\n",
              "    </tr>\n",
              "    <tr>\n",
              "      <th>2</th>\n",
              "      <td>2db4adcb</td>\n",
              "      <td>6</td>\n",
              "      <td>/Users/donald/Pictures</td>\n",
              "      <td>100</td>\n",
              "      <td>NaN</td>\n",
              "      <td>0</td>\n",
              "      <td>enum_files</td>\n",
              "      <td>NaN</td>\n",
              "      <td>{'path': '/Users/donald/Pictures', 'pattern': ...</td>\n",
              "      <td>2019-03-12 23:55:52.432960</td>\n",
              "      <td>2019-03-12 23:55:52.567884</td>\n",
              "      <td>2019-03-12 23:55:52.583016</td>\n",
              "      <td>2019-03-12 23:55:52.639970</td>\n",
              "      <td>0</td>\n",
              "      <td>False</td>\n",
              "      <td>0.015132</td>\n",
              "      <td>(4, 6338)</td>\n",
              "      <td>NaN</td>\n",
              "      <td>NaN</td>\n",
              "    </tr>\n",
              "    <tr>\n",
              "      <th>3</th>\n",
              "      <td>2db4adcb</td>\n",
              "      <td>3</td>\n",
              "      <td>/Users/donald/Documents</td>\n",
              "      <td>100</td>\n",
              "      <td>NaN</td>\n",
              "      <td>0</td>\n",
              "      <td>enum_files</td>\n",
              "      <td>NaN</td>\n",
              "      <td>{'path': '/Users/donald/Documents', 'pattern':...</td>\n",
              "      <td>2019-03-12 23:55:52.432895</td>\n",
              "      <td>2019-03-12 23:55:52.548391</td>\n",
              "      <td>2019-03-12 23:55:52.659204</td>\n",
              "      <td>2019-03-12 23:55:52.736533</td>\n",
              "      <td>0</td>\n",
              "      <td>False</td>\n",
              "      <td>0.110813</td>\n",
              "      <td>(2037, 13147879277)</td>\n",
              "      <td>NaN</td>\n",
              "      <td>NaN</td>\n",
              "    </tr>\n",
              "    <tr>\n",
              "      <th>4</th>\n",
              "      <td>2db4adcb</td>\n",
              "      <td>4</td>\n",
              "      <td>/Users/donald/Downloads</td>\n",
              "      <td>100</td>\n",
              "      <td>NaN</td>\n",
              "      <td>0</td>\n",
              "      <td>enum_files</td>\n",
              "      <td>NaN</td>\n",
              "      <td>{'path': '/Users/donald/Downloads', 'pattern':...</td>\n",
              "      <td>2019-03-12 23:55:52.432928</td>\n",
              "      <td>2019-03-12 23:55:52.555055</td>\n",
              "      <td>2019-03-12 23:55:52.927651</td>\n",
              "      <td>2019-03-12 23:55:52.940752</td>\n",
              "      <td>0</td>\n",
              "      <td>False</td>\n",
              "      <td>0.372596</td>\n",
              "      <td>(7541, 762292776)</td>\n",
              "      <td>NaN</td>\n",
              "      <td>NaN</td>\n",
              "    </tr>\n",
              "  </tbody>\n",
              "</table>\n",
              "</div>"
            ]
          },
          "metadata": {}
        }
      ],
      "execution_count": 29,
      "metadata": {}
    },
    {
      "cell_type": "code",
      "source": [
        "# ezpq.Plot requires a dictionary of job data records.\n",
        "records = df.to_dict(orient='records')\n",
        "\n",
        "plt = ezpq.Plot(records).build(color_by='name', bar_width=5)\n",
        "\n",
        "# plt.save('...')\n",
        "plt"
      ],
      "outputs": [
        {
          "output_type": "display_data",
          "data": {
            "text/plain": [
              "<Figure size 640x480 with 1 Axes>"
            ],
            "image/png": "[encoded data removed]"
          },
          "metadata": {}
        },
        {
          "output_type": "execute_result",
          "execution_count": 30,
          "data": {
            "text/plain": [
              "<ggplot: (316146952)>"
            ]
          },
          "metadata": {}
        }
      ],
      "execution_count": 30,
      "metadata": {}
    },
    {
      "cell_type": "markdown",
      "source": [
        "## Callback\n",
        "\nIf instantiated with a callback, `ezpq.Queue` will pass a dictionary of job data as the single argument to the callback function. It does this synchronously, so the callback must not take too much time."
      ],
      "metadata": {}
    },
    {
      "cell_type": "code",
      "source": [
        "def slow_callback(x):\n",
        "    time.sleep(0.5)"
      ],
      "outputs": [],
      "execution_count": 31,
      "metadata": {
        "inputHidden": false,
        "outputHidden": false
      }
    },
    {
      "cell_type": "code",
      "source": [
        "with ezpq.Queue(n_workers=n_workers, callback=slow_callback, poll=1) as Q:\n",
        "    for _ in range(n_inputs):\n",
        "        Q.put(time.sleep, 1)\n",
        "    Q.waitpb()\n",
        "    results = Q.collect()"
      ],
      "outputs": [
        {
          "output_type": "display_data",
          "data": {
            "text/plain": [
              "HBox(children=(IntProgress(value=0, max=50), HTML(value='')))"
            ],
            "application/vnd.jupyter.widget-view+json": {
              "version_major": 2,
              "version_minor": 0,
              "model_id": "42eddf20694643e4882d46c520208800"
            }
          },
          "metadata": {}
        },
        {
          "output_type": "stream",
          "name": "stdout",
          "text": [
            "\n"
          ]
        }
      ],
      "execution_count": 32,
      "metadata": {
        "inputHidden": false,
        "outputHidden": false
      }
    },
    {
      "cell_type": "code",
      "source": [
        "ezpq.Plot(results).build(show_legend=False)"
      ],
      "outputs": [
        {
          "output_type": "display_data",
          "data": {
            "text/plain": [
              "<Figure size 640x480 with 1 Axes>"
            ],
            "image/png": "[encoded data removed]"
          },
          "metadata": {}
        },
        {
          "output_type": "execute_result",
          "execution_count": 33,
          "data": {
            "text/plain": [
              "<ggplot: (316210331)>"
            ]
          },
          "metadata": {}
        }
      ],
      "execution_count": 33,
      "metadata": {
        "inputHidden": false,
        "outputHidden": false
      }
    },
    {
      "cell_type": "markdown",
      "source": [
        "## Error Handling"
      ],
      "metadata": {}
    },
    {
      "cell_type": "code",
      "source": [
        "def reciprocal(x):\n",
        "    time.sleep(1)\n",
        "    return 1/x\n",
        "\n",
        "with ezpq.Queue(n_workers=5, job_runner=threading.Thread) as Q:\n",
        "    for _ in range(20):\n",
        "        Q.put(reciprocal, random.randint(0, 5), suppress_errors=True)\n",
        "    Q.wait()\n",
        "    output = Q.collect()"
      ],
      "outputs": [],
      "execution_count": 34,
      "metadata": {}
    },
    {
      "cell_type": "code",
      "source": [
        "[x for x in output if x['exception'] is not None]"
      ],
      "outputs": [
        {
          "output_type": "execute_result",
          "execution_count": 35,
          "data": {
            "text/plain": [
              "[{'qid': '0cb0d2fb',\n",
              "  'id': 9,\n",
              "  'name': 9,\n",
              "  'priority': 100,\n",
              "  'lane': None,\n",
              "  'timeout': 0,\n",
              "  'function': 'reciprocal',\n",
              "  'args': [0],\n",
              "  'kwargs': None,\n",
              "  'submitted': datetime.datetime(2019, 3, 12, 23, 56, 34, 672407),\n",
              "  'started': datetime.datetime(2019, 3, 12, 23, 56, 35, 799073),\n",
              "  'ended': datetime.datetime(2019, 3, 12, 23, 56, 36, 800570),\n",
              "  'processed': datetime.datetime(2019, 3, 12, 23, 56, 36, 830566),\n",
              "  'exitcode': -1,\n",
              "  'cancelled': False,\n",
              "  'runtime': 1.0014970302581787,\n",
              "  'output': None,\n",
              "  'exception': 'Traceback (most recent call last):\\n  File \"../ezpq/Queue.py\", line 578, in _job_wrap\\n    out = _job.function(*args, **kwargs)\\n  File \"<ipython-input-34-1f5b7afc1e87>\", line 3, in reciprocal\\n    return 1/x\\nZeroDivisionError: division by zero\\n',\n",
              "  'callback': None},\n",
              " {'qid': '0cb0d2fb',\n",
              "  'id': 20,\n",
              "  'name': 20,\n",
              "  'priority': 100,\n",
              "  'lane': None,\n",
              "  'timeout': 0,\n",
              "  'function': 'reciprocal',\n",
              "  'args': [0],\n",
              "  'kwargs': None,\n",
              "  'submitted': datetime.datetime(2019, 3, 12, 23, 56, 34, 672626),\n",
              "  'started': datetime.datetime(2019, 3, 12, 23, 56, 37, 858694),\n",
              "  'ended': datetime.datetime(2019, 3, 12, 23, 56, 38, 862628),\n",
              "  'processed': datetime.datetime(2019, 3, 12, 23, 56, 38, 883271),\n",
              "  'exitcode': -1,\n",
              "  'cancelled': False,\n",
              "  'runtime': 1.0039341449737549,\n",
              "  'output': None,\n",
              "  'exception': 'Traceback (most recent call last):\\n  File \"../ezpq/Queue.py\", line 578, in _job_wrap\\n    out = _job.function(*args, **kwargs)\\n  File \"<ipython-input-34-1f5b7afc1e87>\", line 3, in reciprocal\\n    return 1/x\\nZeroDivisionError: division by zero\\n',\n",
              "  'callback': None}]"
            ]
          },
          "metadata": {}
        }
      ],
      "execution_count": 35,
      "metadata": {}
    },
    {
      "cell_type": "code",
      "source": [
        "# for x in output:\n",
        "#     if x['exception'] is not None:\n",
        "#         x['exitcode'] = 1\n",
        "#     else:\n",
        "#         x['exitcode'] = 0"
      ],
      "outputs": [],
      "execution_count": 36,
      "metadata": {}
    },
    {
      "cell_type": "code",
      "source": [
        "ezpq.Plot(output).build(color_by='exitcode', color_pal=['red', 'green'])"
      ],
      "outputs": [
        {
          "output_type": "display_data",
          "data": {
            "text/plain": [
              "<Figure size 640x480 with 1 Axes>"
            ],
            "image/png": "[encoded data removed]"
          },
          "metadata": {}
        },
        {
          "output_type": "execute_result",
          "execution_count": 37,
          "data": {
            "text/plain": [
              "<ggplot: (-9223372036538212622)>"
            ]
          },
          "metadata": {}
        }
      ],
      "execution_count": 37,
      "metadata": {}
    },
    {
      "cell_type": "markdown",
      "source": [
        "## Shared Objects"
      ],
      "metadata": {}
    },
    {
      "cell_type": "code",
      "source": [
        "def fibonacci(shared):\n",
        "    shared_clone = tuple(shared)\n",
        "    shared[0] = shared[1]\n",
        "    shared[1] = sum(shared_clone)\n",
        "    return shared[1]"
      ],
      "outputs": [],
      "execution_count": 38,
      "metadata": {}
    },
    {
      "cell_type": "code",
      "source": [
        "import multiprocessing as mp\n",
        "mgr = mp.Manager()\n",
        "shared_list = mgr.list([0,1])\n",
        "\n",
        "with ezpq.Queue(n_workers=10) as Q:\n",
        "    for _ in range(20):\n",
        "        Q.put(fibonacci, args=shared_list)\n",
        "    Q.wait()\n",
        "    output = Q.collect()\n",
        "\n",
        "mgr.shutdown()\n",
        "    \n",
        "[x['output'] for x in output]"
      ],
      "outputs": [
        {
          "output_type": "execute_result",
          "execution_count": 39,
          "data": {
            "text/plain": [
              "[1,\n",
              " 2,\n",
              " 3,\n",
              " 5,\n",
              " 8,\n",
              " 13,\n",
              " 21,\n",
              " 34,\n",
              " 55,\n",
              " 89,\n",
              " 144,\n",
              " 233,\n",
              " 377,\n",
              " 610,\n",
              " 987,\n",
              " 1597,\n",
              " 2584,\n",
              " 4181,\n",
              " 6765,\n",
              " 10946]"
            ]
          },
          "metadata": {}
        }
      ],
      "execution_count": 39,
      "metadata": {}
    },
    {
      "cell_type": "markdown",
      "source": [
        "# New in v0.2.0"
      ],
      "metadata": {}
    },
    {
      "cell_type": "markdown",
      "source": [
        "## `tqdm` Integration"
      ],
      "metadata": {}
    },
    {
      "cell_type": "markdown",
      "source": [
        "Add `show_progress=True` to `ezpq.Queue()`; this works for `map()` and the `@decorator`"
      ],
      "metadata": {}
    },
    {
      "cell_type": "code",
      "source": [
        "with ezpq.Queue(5, show_progress=True) as Q:\n",
        "    output = Q.map(time.sleep, range(5))"
      ],
      "outputs": [],
      "execution_count": 40,
      "metadata": {}
    },
    {
      "cell_type": "code",
      "source": [
        "@ezpq.Queue(n_workers=5, show_progress=True)\n",
        "def time_sleep(x):\n",
        "    time.sleep(x)\n",
        "\noutput = time_sleep(range(5))"
      ],
      "outputs": [
        {
          "output_type": "display_data",
          "data": {
            "text/plain": [
              "HBox(children=(IntProgress(value=0, max=5), HTML(value='')))"
            ],
            "application/vnd.jupyter.widget-view+json": {
              "version_major": 2,
              "version_minor": 0,
              "model_id": "cd81600d87fa4ed6aab9a529d6479101"
            }
          },
          "metadata": {}
        },
        {
          "output_type": "stream",
          "name": "stdout",
          "text": [
            "\n"
          ]
        }
      ],
      "execution_count": 41,
      "metadata": {}
    },
    {
      "cell_type": "markdown",
      "source": [
        "Or add `show_progress=True` to `ezpq.map()`"
      ],
      "metadata": {}
    },
    {
      "cell_type": "code",
      "source": [
        "with ezpq.Queue(5) as Q:\n",
        "    output = Q.map(time.sleep, range(5), show_progress=True)"
      ],
      "outputs": [
        {
          "output_type": "display_data",
          "data": {
            "text/plain": [
              "HBox(children=(IntProgress(value=0, max=5), HTML(value='')))"
            ],
            "application/vnd.jupyter.widget-view+json": {
              "version_major": 2,
              "version_minor": 0,
              "model_id": "b30a962d637c4201802ad0eacaa1fc05"
            }
          },
          "metadata": {}
        },
        {
          "output_type": "stream",
          "name": "stdout",
          "text": [
            "\n"
          ]
        }
      ],
      "execution_count": 42,
      "metadata": {}
    },
    {
      "cell_type": "markdown",
      "source": [
        "Or add `show_progress=True` to `ezpq.Queue.wait()`"
      ],
      "metadata": {}
    },
    {
      "cell_type": "code",
      "source": [
        "with ezpq.Queue(5) as Q:\n",
        "    for i in range(5):\n",
        "        Q.put(time.sleep, i)\n",
        "    Q.wait(show_progress=True)\n",
        "    output = Q.collect()"
      ],
      "outputs": [
        {
          "output_type": "display_data",
          "data": {
            "text/plain": [
              "HBox(children=(IntProgress(value=0, max=5), HTML(value='')))"
            ],
            "application/vnd.jupyter.widget-view+json": {
              "version_major": 2,
              "version_minor": 0,
              "model_id": "5a40789060c74495b10e6d26da9d6e1a"
            }
          },
          "metadata": {}
        },
        {
          "output_type": "stream",
          "name": "stdout",
          "text": [
            "\n"
          ]
        }
      ],
      "execution_count": 43,
      "metadata": {}
    },
    {
      "cell_type": "markdown",
      "source": [
        "Or just call `ezpq.Queue.waitpb()` in place of `ezpq.Queue.wait()`."
      ],
      "metadata": {}
    },
    {
      "cell_type": "code",
      "source": [
        "from random import random"
      ],
      "outputs": [],
      "execution_count": 44,
      "metadata": {}
    },
    {
      "cell_type": "code",
      "source": [
        "with ezpq.Queue(5) as Q:\n",
        "    for i in range(50):\n",
        "        Q.put(time.sleep, random())\n",
        "    Q.waitpb()\n",
        "    output = Q.collect()"
      ],
      "outputs": [
        {
          "output_type": "display_data",
          "data": {
            "text/plain": [
              "HBox(children=(IntProgress(value=0, max=50), HTML(value='')))"
            ],
            "application/vnd.jupyter.widget-view+json": {
              "version_major": 2,
              "version_minor": 0,
              "model_id": "1c9a2e6991c34205acc58566cb6f0733"
            }
          },
          "metadata": {}
        },
        {
          "output_type": "stream",
          "name": "stdout",
          "text": [
            "\n"
          ]
        }
      ],
      "execution_count": 45,
      "metadata": {}
    },
    {
      "cell_type": "markdown",
      "source": [
        " "
      ],
      "metadata": {}
    },
    {
      "cell_type": "markdown",
      "source": [
        " "
      ],
      "metadata": {}
    },
    {
      "cell_type": "markdown",
      "source": [
        "## map"
      ],
      "metadata": {}
    },
    {
      "cell_type": "code",
      "source": [
        "def my_pow(x, k):\n",
        "    return '{}^{} = {}'.format(x, k, x**k)\n",
        "\n\n",
        "with ezpq.Queue(10) as Q:\n",
        "    # raise all elements of `iterable` to power 2.\n",
        "    output = Q.map(my_pow, iterable=range(100), args=2)\n",
        "    \n",
        "[x['output'] for x in output[:10]]"
      ],
      "outputs": [
        {
          "output_type": "execute_result",
          "execution_count": 46,
          "data": {
            "text/plain": [
              "['0^2 = 0',\n",
              " '1^2 = 1',\n",
              " '2^2 = 4',\n",
              " '3^2 = 9',\n",
              " '4^2 = 16',\n",
              " '5^2 = 25',\n",
              " '6^2 = 36',\n",
              " '7^2 = 49',\n",
              " '8^2 = 64',\n",
              " '9^2 = 81']"
            ]
          },
          "metadata": {}
        }
      ],
      "execution_count": 46,
      "metadata": {
        "scrolled": true
      }
    },
    {
      "cell_type": "markdown",
      "source": [
        "## starmap\n",
        "\niterate over a list of lists."
      ],
      "metadata": {}
    },
    {
      "cell_type": "code",
      "source": [
        "# list of lists to iterate over.\n",
        "args_list = [( x, x%4 ) # (x, k)\n",
        "            for x in range(100)]\n",
        "\nargs_list[:10]"
      ],
      "outputs": [
        {
          "output_type": "execute_result",
          "execution_count": 47,
          "data": {
            "text/plain": [
              "[(0, 0),\n",
              " (1, 1),\n",
              " (2, 2),\n",
              " (3, 3),\n",
              " (4, 0),\n",
              " (5, 1),\n",
              " (6, 2),\n",
              " (7, 3),\n",
              " (8, 0),\n",
              " (9, 1)]"
            ]
          },
          "metadata": {}
        }
      ],
      "execution_count": 47,
      "metadata": {
        "collapsed": false,
        "outputHidden": false,
        "inputHidden": false
      }
    },
    {
      "cell_type": "code",
      "source": [
        "with ezpq.Queue(10) as Q:\n",
        "    output = Q.starmap(my_pow, iterable=args_list)\n",
        "    \n",
        "[x['output'] for x in output[:10]]"
      ],
      "outputs": [
        {
          "output_type": "execute_result",
          "execution_count": 48,
          "data": {
            "text/plain": [
              "['0^0 = 1',\n",
              " '1^1 = 1',\n",
              " '2^2 = 4',\n",
              " '3^3 = 27',\n",
              " '4^0 = 1',\n",
              " '5^1 = 5',\n",
              " '6^2 = 36',\n",
              " '7^3 = 343',\n",
              " '8^0 = 1',\n",
              " '9^1 = 9']"
            ]
          },
          "metadata": {}
        }
      ],
      "execution_count": 48,
      "metadata": {
        "collapsed": false,
        "outputHidden": false,
        "inputHidden": false
      }
    },
    {
      "cell_type": "markdown",
      "source": [
        "## starmapkw\n",
        "\n`starmap`, but with a list of dicts."
      ],
      "metadata": {}
    },
    {
      "cell_type": "code",
      "source": [
        "# list of dicts to iterate over.\n",
        "kwargs_list = [{ 'x':x, 'k':x%4 } # (x, k)\n",
        "                for x in range(100)]\n",
        "\nkwargs_list[:10]"
      ],
      "outputs": [
        {
          "output_type": "execute_result",
          "execution_count": 49,
          "data": {
            "text/plain": [
              "[{'x': 0, 'k': 0},\n",
              " {'x': 1, 'k': 1},\n",
              " {'x': 2, 'k': 2},\n",
              " {'x': 3, 'k': 3},\n",
              " {'x': 4, 'k': 0},\n",
              " {'x': 5, 'k': 1},\n",
              " {'x': 6, 'k': 2},\n",
              " {'x': 7, 'k': 3},\n",
              " {'x': 8, 'k': 0},\n",
              " {'x': 9, 'k': 1}]"
            ]
          },
          "metadata": {}
        }
      ],
      "execution_count": 49,
      "metadata": {
        "collapsed": false,
        "outputHidden": false,
        "inputHidden": false
      }
    },
    {
      "cell_type": "code",
      "source": [
        "with ezpq.Queue(10) as Q:\n",
        "    output = Q.starmapkw(my_pow, iterable=kwargs_list)\n",
        "\n[x['output'] for x in output[:10]]"
      ],
      "outputs": [
        {
          "output_type": "execute_result",
          "execution_count": 50,
          "data": {
            "text/plain": [
              "['0^0 = 1',\n",
              " '1^1 = 1',\n",
              " '2^2 = 4',\n",
              " '3^3 = 27',\n",
              " '4^0 = 1',\n",
              " '5^1 = 5',\n",
              " '6^2 = 36',\n",
              " '7^3 = 343',\n",
              " '8^0 = 1',\n",
              " '9^1 = 9']"
            ]
          },
          "metadata": {}
        }
      ],
      "execution_count": 50,
      "metadata": {
        "collapsed": false,
        "outputHidden": false,
        "inputHidden": false
      }
    },
    {
      "cell_type": "markdown",
      "source": [
        " "
      ],
      "metadata": {}
    },
    {
      "cell_type": "markdown",
      "source": [
        "## Synchronous Lanes"
      ],
      "metadata": {}
    },
    {
      "cell_type": "code",
      "source": [
        "jobs = {\n",
        "    'Lane 1': [1,2,3],\n",
        "    'Lane 2': [4,5,6],\n",
        "    'Lane 3': [7,8,9],\n",
        "    'Lane 4': [10,11,12],\n",
        "    'Lane 5': [13,14,15],\n",
        "    'Lane 6': [16,17,18]\n",
        "}"
      ],
      "outputs": [],
      "execution_count": 51,
      "metadata": {}
    },
    {
      "cell_type": "code",
      "source": [
        "with ezpq.Queue(n_workers=3) as Q:\n",
        "    for lane in jobs.keys():\n",
        "        for job in jobs[lane]:\n",
        "            Q.put(time.sleep, args=1,\n",
        "                  lane=lane, name='Job '+str(job))\n",
        "    Q.waitpb()\n",
        "    output = Q.collect()"
      ],
      "outputs": [
        {
          "output_type": "display_data",
          "data": {
            "text/plain": [
              "HBox(children=(IntProgress(value=0, max=18), HTML(value='')))"
            ],
            "application/vnd.jupyter.widget-view+json": {
              "version_major": 2,
              "version_minor": 0,
              "model_id": "062e5be2c86940c1b84bafedffaac745"
            }
          },
          "metadata": {}
        },
        {
          "output_type": "stream",
          "name": "stdout",
          "text": [
            "\n"
          ]
        }
      ],
      "execution_count": 52,
      "metadata": {}
    },
    {
      "cell_type": "code",
      "source": [
        "ezpq.Plot(output).build(color_by='lane',\n",
        "                        color_pal=['blue', 'red', 'green',\n",
        "                                   'purple', 'orange', 'brown'])"
      ],
      "outputs": [
        {
          "output_type": "display_data",
          "data": {
            "text/plain": [
              "<Figure size 640x480 with 1 Axes>"
            ],
            "image/png": "[encoded data removed]"
          },
          "metadata": {}
        },
        {
          "output_type": "execute_result",
          "execution_count": 53,
          "data": {
            "text/plain": [
              "<ggplot: (316835206)>"
            ]
          },
          "metadata": {}
        }
      ],
      "execution_count": 53,
      "metadata": {}
    },
    {
      "cell_type": "markdown",
      "source": [
        " "
      ],
      "metadata": {}
    },
    {
      "cell_type": "markdown",
      "source": [
        " "
      ],
      "metadata": {}
    },
    {
      "cell_type": "markdown",
      "source": [
        " "
      ],
      "metadata": {}
    },
    {
      "cell_type": "markdown",
      "source": [
        " "
      ],
      "metadata": {}
    },
    {
      "cell_type": "markdown",
      "source": [
        " "
      ],
      "metadata": {}
    },
    {
      "cell_type": "markdown",
      "source": [
        " "
      ],
      "metadata": {}
    },
    {
      "cell_type": "markdown",
      "source": [
        " "
      ],
      "metadata": {}
    },
    {
      "cell_type": "markdown",
      "source": [
        " "
      ],
      "metadata": {}
    },
    {
      "cell_type": "markdown",
      "source": [
        " "
      ],
      "metadata": {}
    },
    {
      "cell_type": "markdown",
      "source": [
        " "
      ],
      "metadata": {}
    },
    {
      "cell_type": "markdown",
      "source": [
        " "
      ],
      "metadata": {}
    },
    {
      "cell_type": "markdown",
      "source": [
        " "
      ],
      "metadata": {}
    },
    {
      "cell_type": "markdown",
      "source": [
        " "
      ],
      "metadata": {}
    },
    {
      "cell_type": "markdown",
      "source": [
        " "
      ],
      "metadata": {}
    },
    {
      "cell_type": "markdown",
      "source": [
        "Set the lane based on an expression."
      ],
      "metadata": {}
    },
    {
      "cell_type": "code",
      "source": [
        "with ezpq.Queue(5) as Q:\n",
        "    for i in range(20):\n",
        "        Q.put(time.sleep, random(),\n",
        "              lane = i % 5)\n",
        "        \n",
        "    Q.waitpb()\n",
        "    output = Q.collect()\n",
        "    \n",
        "ezpq.Plot(output).build(color_by='lane', theme='dark')"
      ],
      "outputs": [
        {
          "output_type": "display_data",
          "data": {
            "text/plain": [
              "HBox(children=(IntProgress(value=0, max=20), HTML(value='')))"
            ],
            "application/vnd.jupyter.widget-view+json": {
              "version_major": 2,
              "version_minor": 0,
              "model_id": "aa04c73090ab446da549715c23327b07"
            }
          },
          "metadata": {}
        },
        {
          "output_type": "stream",
          "name": "stdout",
          "text": [
            "\n"
          ]
        },
        {
          "output_type": "display_data",
          "data": {
            "text/plain": [
              "<Figure size 640x480 with 1 Axes>"
            ],
            "image/png": "[encoded data removed]"
          },
          "metadata": {}
        },
        {
          "output_type": "execute_result",
          "execution_count": 54,
          "data": {
            "text/plain": [
              "<ggplot: (317614691)>"
            ]
          },
          "metadata": {}
        }
      ],
      "execution_count": 54,
      "metadata": {}
    },
    {
      "cell_type": "markdown",
      "source": [
        " "
      ],
      "metadata": {}
    },
    {
      "cell_type": "markdown",
      "source": [
        " "
      ],
      "metadata": {}
    },
    {
      "cell_type": "markdown",
      "source": [
        " "
      ],
      "metadata": {}
    },
    {
      "cell_type": "markdown",
      "source": [
        " "
      ],
      "metadata": {}
    },
    {
      "cell_type": "markdown",
      "source": [
        " "
      ],
      "metadata": {}
    },
    {
      "cell_type": "markdown",
      "source": [
        " "
      ],
      "metadata": {}
    },
    {
      "cell_type": "markdown",
      "source": [
        " "
      ],
      "metadata": {}
    },
    {
      "cell_type": "markdown",
      "source": [
        " "
      ],
      "metadata": {}
    },
    {
      "cell_type": "markdown",
      "source": [
        " "
      ],
      "metadata": {}
    },
    {
      "cell_type": "markdown",
      "source": [
        " "
      ],
      "metadata": {}
    },
    {
      "cell_type": "markdown",
      "source": [
        " "
      ],
      "metadata": {}
    },
    {
      "cell_type": "markdown",
      "source": [
        " "
      ],
      "metadata": {}
    },
    {
      "cell_type": "markdown",
      "source": [
        " "
      ],
      "metadata": {}
    },
    {
      "cell_type": "markdown",
      "source": [
        " "
      ],
      "metadata": {}
    },
    {
      "cell_type": "markdown",
      "source": [
        " "
      ],
      "metadata": {}
    },
    {
      "cell_type": "markdown",
      "source": [
        " "
      ],
      "metadata": {}
    },
    {
      "cell_type": "markdown",
      "source": [
        " "
      ],
      "metadata": {}
    },
    {
      "cell_type": "markdown",
      "source": [
        " "
      ],
      "metadata": {}
    },
    {
      "cell_type": "markdown",
      "source": [
        " "
      ],
      "metadata": {}
    },
    {
      "cell_type": "markdown",
      "source": [
        " "
      ],
      "metadata": {}
    },
    {
      "cell_type": "markdown",
      "source": [
        " "
      ],
      "metadata": {}
    },
    {
      "cell_type": "markdown",
      "source": [
        " "
      ],
      "metadata": {}
    },
    {
      "cell_type": "markdown",
      "source": [
        "## Plot Facetting"
      ],
      "metadata": {}
    },
    {
      "cell_type": "code",
      "source": [
        "all_output = list()\n",
        "\n",
        "for qid in [1, 2, 3]:\n",
        "    with ezpq.Queue(5, qid='queue_' + str(qid)) as Q:\n",
        "        for i in range(20):\n",
        "            lane = i % 5\n",
        "            Q.put(time.sleep, args=1,\n",
        "                  lane=lane, name='Job '+str(job))\n",
        "        Q.waitpb()\n",
        "        all_output.extend( Q.collect() )"
      ],
      "outputs": [
        {
          "output_type": "display_data",
          "data": {
            "text/plain": [
              "HBox(children=(IntProgress(value=0, max=20), HTML(value='')))"
            ],
            "application/vnd.jupyter.widget-view+json": {
              "version_major": 2,
              "version_minor": 0,
              "model_id": "0ef8fe4c9f9a4a53b45d4a56166bb9ea"
            }
          },
          "metadata": {}
        },
        {
          "output_type": "stream",
          "name": "stdout",
          "text": [
            "\n"
          ]
        },
        {
          "output_type": "display_data",
          "data": {
            "text/plain": [
              "HBox(children=(IntProgress(value=0, max=20), HTML(value='')))"
            ],
            "application/vnd.jupyter.widget-view+json": {
              "version_major": 2,
              "version_minor": 0,
              "model_id": "020ac7a17bbb441eacc238278285007d"
            }
          },
          "metadata": {}
        },
        {
          "output_type": "stream",
          "name": "stdout",
          "text": [
            "\n"
          ]
        },
        {
          "output_type": "display_data",
          "data": {
            "text/plain": [
              "HBox(children=(IntProgress(value=0, max=20), HTML(value='')))"
            ],
            "application/vnd.jupyter.widget-view+json": {
              "version_major": 2,
              "version_minor": 0,
              "model_id": "99151c04267f47bf9d179566af90ab4e"
            }
          },
          "metadata": {}
        },
        {
          "output_type": "stream",
          "name": "stdout",
          "text": [
            "\n"
          ]
        }
      ],
      "execution_count": 55,
      "metadata": {}
    },
    {
      "cell_type": "code",
      "source": [
        "ezpq.Plot(all_output).build(facet_by='qid',\n",
        "                            color_by='lane',\n",
        "                            color_pal=['blue', 'orange', 'green',\n",
        "                                       'red', 'purple'])"
      ],
      "outputs": [
        {
          "output_type": "display_data",
          "data": {
            "text/plain": [
              "<Figure size 640x480 with 3 Axes>"
            ],
            "image/png": "[encoded data removed]"
          },
          "metadata": {}
        },
        {
          "output_type": "execute_result",
          "execution_count": 56,
          "data": {
            "text/plain": [
              "<ggplot: (317927600)>"
            ]
          },
          "metadata": {}
        }
      ],
      "execution_count": 56,
      "metadata": {}
    },
    {
      "cell_type": "markdown",
      "source": [
        "## Plot Themes & Colors"
      ],
      "metadata": {}
    },
    {
      "cell_type": "code",
      "source": [
        "ezpq.Plot(all_output).build(facet_by='qid', theme='dark',\n",
        "                            color_by='lane',\n",
        "                            color_pal=['cyan', 'orange', 'lime',\n",
        "                                       'red', 'yellow'])"
      ],
      "outputs": [
        {
          "output_type": "display_data",
          "data": {
            "text/plain": [
              "<Figure size 640x480 with 3 Axes>"
            ],
            "image/png": "[encoded data removed]"
          },
          "metadata": {}
        },
        {
          "output_type": "execute_result",
          "execution_count": 57,
          "data": {
            "text/plain": [
              "<ggplot: (-9223372036538619269)>"
            ]
          },
          "metadata": {}
        }
      ],
      "execution_count": 57,
      "metadata": {}
    }
  ],
  "metadata": {
    "kernel_info": {
      "name": "mypy36"
    },
    "kernelspec": {
      "name": "mypy36",
      "language": "python",
      "display_name": "mypy36"
    },
    "language_info": {
      "name": "python",
      "version": "3.6.6",
      "mimetype": "text/x-python",
      "codemirror_mode": {
        "name": "ipython",
        "version": 3
      },
      "pygments_lexer": "ipython3",
      "nbconvert_exporter": "python",
      "file_extension": ".py"
    },
    "nteract": {
      "version": "0.12.3"
    }
  },
  "nbformat": 4,
  "nbformat_minor": 4
}