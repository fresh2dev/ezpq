{
  "cells": [
    {
      "cell_type": "markdown",
      "source": [
        "# `ezpq` Examples"
      ],
      "metadata": {}
    },
    {
      "cell_type": "code",
      "source": [
        "%matplotlib inline"
      ],
      "outputs": [],
      "execution_count": 1,
      "metadata": {
        "collapsed": false,
        "outputHidden": false,
        "inputHidden": false
      }
    },
    {
      "cell_type": "code",
      "source": [
        "import ezpq"
      ],
      "outputs": [],
      "execution_count": 2,
      "metadata": {}
    },
    {
      "cell_type": "code",
      "source": [
        "import os\n",
        "import time\n",
        "import random\n",
        "import logging as log\n",
        "logger = log.getLogger()\n",
        "logger.setLevel(log.INFO)\n",
        "# logger.setLevel(log.DEBUG) # uncomment to view verbose output"
      ],
      "outputs": [],
      "execution_count": 3,
      "metadata": {
        "collapsed": false,
        "inputHidden": false,
        "outputHidden": false
      }
    },
    {
      "cell_type": "code",
      "source": [
        "import pandas as pd\n",
        "from datetime import datetime"
      ],
      "outputs": [],
      "execution_count": 4,
      "metadata": {}
    },
    {
      "cell_type": "code",
      "source": [
        "# Context manager to time functions\n",
        "class MyTimer():\n",
        "    '''https://www.blog.pythonlibrary.org/2016/05/24/python-101-an-intro-to-benchmarking-your-code/'''\n",
        "    def __init__(self):\n",
        "        self.start = time.time()\n",
        "\n",
        "    def __enter__(self):\n",
        "        return self\n",
        "\n",
        "    def __exit__(self, exc_type, exc_val, exc_tb):\n",
        "        end = time.time()\n",
        "        runtime = round(end - self.start, 3)\n",
        "        msg = 'Runtime: {time}'\n",
        "        print(msg.format(time=runtime))"
      ],
      "outputs": [],
      "execution_count": 5,
      "metadata": {
        "collapsed": false,
        "outputHidden": false,
        "inputHidden": false
      }
    },
    {
      "cell_type": "markdown",
      "source": [
        "## Elementary example\n",
        "\nI'll start with a step-by-step example to illustrate the basic operations. The code below is what we want to optimize. It simply loops 10 times, sleeping 1 second each time, for a total of 10 seconds."
      ],
      "metadata": {}
    },
    {
      "cell_type": "markdown",
      "source": [
        "```python\n",
        "for _ in range(10):\n",
        "    time.sleep(1)\n",
        "```"
      ],
      "metadata": {
        "collapsed": false,
        "outputHidden": false,
        "inputHidden": false
      }
    },
    {
      "cell_type": "markdown",
      "source": [
        "Create the Queue with *n* workers."
      ],
      "metadata": {}
    },
    {
      "cell_type": "code",
      "source": [
        "Q = ezpq.Queue(n_workers=5)"
      ],
      "outputs": [],
      "execution_count": 6,
      "metadata": {}
    },
    {
      "cell_type": "markdown",
      "source": [
        "Put jobs in the Queue."
      ],
      "metadata": {}
    },
    {
      "cell_type": "code",
      "source": [
        "for _ in range(10):\n",
        "    Q.put(time.sleep, 1)"
      ],
      "outputs": [],
      "execution_count": 7,
      "metadata": {}
    },
    {
      "cell_type": "markdown",
      "source": [
        "size() will count all jobs in the waiting, working, and completed queues."
      ],
      "metadata": {}
    },
    {
      "cell_type": "code",
      "source": [
        "Q.size()"
      ],
      "outputs": [
        {
          "output_type": "execute_result",
          "execution_count": 8,
          "data": {
            "text/plain": [
              "10"
            ]
          },
          "metadata": {}
        }
      ],
      "execution_count": 8,
      "metadata": {}
    },
    {
      "cell_type": "markdown",
      "source": [
        "Create a list to store job data (runtime and output)."
      ],
      "metadata": {}
    },
    {
      "cell_type": "code",
      "source": [
        "results = list()"
      ],
      "outputs": [],
      "execution_count": 9,
      "metadata": {}
    },
    {
      "cell_type": "markdown",
      "source": [
        "`get()` is used to pop the highest priority job from the *completed* queue. The result must be stored or it will be lost.\n",
        "\nWhen `poll` > 0 and no output is available, the operation will wait for the next job to finish."
      ],
      "metadata": {}
    },
    {
      "cell_type": "code",
      "source": [
        "done = Q.get(poll=0.05) # get() returns a dict\n",
        "\nresults.append(done) # append dictionary to results list."
      ],
      "outputs": [],
      "execution_count": 10,
      "metadata": {}
    },
    {
      "cell_type": "markdown",
      "source": [
        "Count remaining jobs after the operation above."
      ],
      "metadata": {}
    },
    {
      "cell_type": "code",
      "source": [
        "Q.size()"
      ],
      "outputs": [
        {
          "output_type": "execute_result",
          "execution_count": 11,
          "data": {
            "text/plain": [
              "8"
            ]
          },
          "metadata": {}
        }
      ],
      "execution_count": 11,
      "metadata": {}
    },
    {
      "cell_type": "markdown",
      "source": [
        "`collect()` is used to repeatedly `get()` all completed jobs.\n",
        "\n",
        "`collect()` does not support the `poll` parameter;\n",
        "\nInstead, wait for all running and queued jobs to complete with `wait()` before calling `collect()`."
      ],
      "metadata": {}
    },
    {
      "cell_type": "code",
      "source": [
        "Q.wait()\n",
        "\n",
        "done_list = Q.collect() # collect() returns a list\n",
        "\nresults.extend(done_list) # extend result list "
      ],
      "outputs": [],
      "execution_count": 12,
      "metadata": {}
    },
    {
      "cell_type": "markdown",
      "source": [
        "Verify no jobs remain."
      ],
      "metadata": {}
    },
    {
      "cell_type": "code",
      "source": [
        "Q.size()"
      ],
      "outputs": [
        {
          "output_type": "execute_result",
          "execution_count": 13,
          "data": {
            "text/plain": [
              "0"
            ]
          },
          "metadata": {}
        }
      ],
      "execution_count": 13,
      "metadata": {}
    },
    {
      "cell_type": "markdown",
      "source": [
        "Dispose of the `ezpq`. This will ensure all jobs are stopped and data is discarded."
      ],
      "metadata": {}
    },
    {
      "cell_type": "code",
      "source": [
        "Q.dispose()"
      ],
      "outputs": [],
      "execution_count": 14,
      "metadata": {}
    },
    {
      "cell_type": "markdown",
      "source": [
        "Now, inspect a single job result."
      ],
      "metadata": {}
    },
    {
      "cell_type": "code",
      "source": [
        "results[0]"
      ],
      "outputs": [
        {
          "output_type": "execute_result",
          "execution_count": 15,
          "data": {
            "text/plain": [
              "{'id': 1,\n",
              " 'name': 1,\n",
              " 'priority': 100,\n",
              " 'timeout': 0,\n",
              " 'function': 'sleep',\n",
              " 'args': 1,\n",
              " 'kwargs': None,\n",
              " 'submitted': datetime.datetime(2018, 12, 14, 1, 21, 38, 115568),\n",
              " 'started': datetime.datetime(2018, 12, 14, 1, 21, 38, 119053),\n",
              " 'ended': datetime.datetime(2018, 12, 14, 1, 21, 39, 127767),\n",
              " 'processed': datetime.datetime(2018, 12, 14, 1, 21, 39, 230335),\n",
              " 'exitcode': 0,\n",
              " 'cancelled': False,\n",
              " 'runtime': 1.008713960647583,\n",
              " 'output': None,\n",
              " 'callback': None}"
            ]
          },
          "metadata": {}
        }
      ],
      "execution_count": 15,
      "metadata": {}
    },
    {
      "cell_type": "markdown",
      "source": [
        "Create a pandas dataframe for a grid view of the results."
      ],
      "metadata": {}
    },
    {
      "cell_type": "code",
      "source": [
        "df = pd.DataFrame(results)\n",
        "\ndf.head()"
      ],
      "outputs": [
        {
          "output_type": "execute_result",
          "execution_count": 16,
          "data": {
            "text/plain": [
              "   args callback  cancelled                      ended  exitcode function  id  \\\n",
              "0     1     None      False 2018-12-14 01:21:39.127767         0    sleep   1   \n",
              "1     1     None      False 2018-12-14 01:21:39.131715         0    sleep   2   \n",
              "2     1     None      False 2018-12-14 01:21:39.137062         0    sleep   3   \n",
              "3     1     None      False 2018-12-14 01:21:39.141779         0    sleep   4   \n",
              "4     1     None      False 2018-12-14 01:21:39.146661         0    sleep   5   \n",
              "\n",
              "  kwargs  name output  priority                  processed   runtime  \\\n",
              "0   None     1   None       100 2018-12-14 01:21:39.230335  1.008714   \n",
              "1   None     2   None       100 2018-12-14 01:21:39.230498  1.007055   \n",
              "2   None     3   None       100 2018-12-14 01:21:39.230640  1.007642   \n",
              "3   None     4   None       100 2018-12-14 01:21:39.230781  1.007788   \n",
              "4   None     5   None       100 2018-12-14 01:21:39.230986  1.008201   \n",
              "\n",
              "                     started                  submitted  timeout  \n",
              "0 2018-12-14 01:21:38.119053 2018-12-14 01:21:38.115568        0  \n",
              "1 2018-12-14 01:21:38.124660 2018-12-14 01:21:38.119448        0  \n",
              "2 2018-12-14 01:21:38.129420 2018-12-14 01:21:38.125118        0  \n",
              "3 2018-12-14 01:21:38.133991 2018-12-14 01:21:38.129805        0  \n",
              "4 2018-12-14 01:21:38.138460 2018-12-14 01:21:38.134381        0  "
            ],
            "text/html": [
              "<div>\n",
              "<style scoped>\n",
              "    .dataframe tbody tr th:only-of-type {\n",
              "        vertical-align: middle;\n",
              "    }\n",
              "\n",
              "    .dataframe tbody tr th {\n",
              "        vertical-align: top;\n",
              "    }\n",
              "\n",
              "    .dataframe thead th {\n",
              "        text-align: right;\n",
              "    }\n",
              "</style>\n",
              "<table border=\"1\" class=\"dataframe\">\n",
              "  <thead>\n",
              "    <tr style=\"text-align: right;\">\n",
              "      <th></th>\n",
              "      <th>args</th>\n",
              "      <th>callback</th>\n",
              "      <th>cancelled</th>\n",
              "      <th>ended</th>\n",
              "      <th>exitcode</th>\n",
              "      <th>function</th>\n",
              "      <th>id</th>\n",
              "      <th>kwargs</th>\n",
              "      <th>name</th>\n",
              "      <th>output</th>\n",
              "      <th>priority</th>\n",
              "      <th>processed</th>\n",
              "      <th>runtime</th>\n",
              "      <th>started</th>\n",
              "      <th>submitted</th>\n",
              "      <th>timeout</th>\n",
              "    </tr>\n",
              "  </thead>\n",
              "  <tbody>\n",
              "    <tr>\n",
              "      <th>0</th>\n",
              "      <td>1</td>\n",
              "      <td>None</td>\n",
              "      <td>False</td>\n",
              "      <td>2018-12-14 01:21:39.127767</td>\n",
              "      <td>0</td>\n",
              "      <td>sleep</td>\n",
              "      <td>1</td>\n",
              "      <td>None</td>\n",
              "      <td>1</td>\n",
              "      <td>None</td>\n",
              "      <td>100</td>\n",
              "      <td>2018-12-14 01:21:39.230335</td>\n",
              "      <td>1.008714</td>\n",
              "      <td>2018-12-14 01:21:38.119053</td>\n",
              "      <td>2018-12-14 01:21:38.115568</td>\n",
              "      <td>0</td>\n",
              "    </tr>\n",
              "    <tr>\n",
              "      <th>1</th>\n",
              "      <td>1</td>\n",
              "      <td>None</td>\n",
              "      <td>False</td>\n",
              "      <td>2018-12-14 01:21:39.131715</td>\n",
              "      <td>0</td>\n",
              "      <td>sleep</td>\n",
              "      <td>2</td>\n",
              "      <td>None</td>\n",
              "      <td>2</td>\n",
              "      <td>None</td>\n",
              "      <td>100</td>\n",
              "      <td>2018-12-14 01:21:39.230498</td>\n",
              "      <td>1.007055</td>\n",
              "      <td>2018-12-14 01:21:38.124660</td>\n",
              "      <td>2018-12-14 01:21:38.119448</td>\n",
              "      <td>0</td>\n",
              "    </tr>\n",
              "    <tr>\n",
              "      <th>2</th>\n",
              "      <td>1</td>\n",
              "      <td>None</td>\n",
              "      <td>False</td>\n",
              "      <td>2018-12-14 01:21:39.137062</td>\n",
              "      <td>0</td>\n",
              "      <td>sleep</td>\n",
              "      <td>3</td>\n",
              "      <td>None</td>\n",
              "      <td>3</td>\n",
              "      <td>None</td>\n",
              "      <td>100</td>\n",
              "      <td>2018-12-14 01:21:39.230640</td>\n",
              "      <td>1.007642</td>\n",
              "      <td>2018-12-14 01:21:38.129420</td>\n",
              "      <td>2018-12-14 01:21:38.125118</td>\n",
              "      <td>0</td>\n",
              "    </tr>\n",
              "    <tr>\n",
              "      <th>3</th>\n",
              "      <td>1</td>\n",
              "      <td>None</td>\n",
              "      <td>False</td>\n",
              "      <td>2018-12-14 01:21:39.141779</td>\n",
              "      <td>0</td>\n",
              "      <td>sleep</td>\n",
              "      <td>4</td>\n",
              "      <td>None</td>\n",
              "      <td>4</td>\n",
              "      <td>None</td>\n",
              "      <td>100</td>\n",
              "      <td>2018-12-14 01:21:39.230781</td>\n",
              "      <td>1.007788</td>\n",
              "      <td>2018-12-14 01:21:38.133991</td>\n",
              "      <td>2018-12-14 01:21:38.129805</td>\n",
              "      <td>0</td>\n",
              "    </tr>\n",
              "    <tr>\n",
              "      <th>4</th>\n",
              "      <td>1</td>\n",
              "      <td>None</td>\n",
              "      <td>False</td>\n",
              "      <td>2018-12-14 01:21:39.146661</td>\n",
              "      <td>0</td>\n",
              "      <td>sleep</td>\n",
              "      <td>5</td>\n",
              "      <td>None</td>\n",
              "      <td>5</td>\n",
              "      <td>None</td>\n",
              "      <td>100</td>\n",
              "      <td>2018-12-14 01:21:39.230986</td>\n",
              "      <td>1.008201</td>\n",
              "      <td>2018-12-14 01:21:38.138460</td>\n",
              "      <td>2018-12-14 01:21:38.134381</td>\n",
              "      <td>0</td>\n",
              "    </tr>\n",
              "  </tbody>\n",
              "</table>\n",
              "</div>"
            ]
          },
          "metadata": {}
        }
      ],
      "execution_count": 16,
      "metadata": {}
    },
    {
      "cell_type": "markdown",
      "source": [
        "Lastly, visualize the steps."
      ],
      "metadata": {}
    },
    {
      "cell_type": "code",
      "source": [
        "ezpq.Plot(results).build()"
      ],
      "outputs": [
        {
          "output_type": "display_data",
          "data": {
            "text/plain": [
              "<Figure size 640x480 with 1 Axes>"
            ],
            "image/png": "[encoded data removed]"
          },
          "metadata": {}
        },
        {
          "output_type": "execute_result",
          "execution_count": 17,
          "data": {
            "text/plain": [
              "<ggplot: (305242120)>"
            ]
          },
          "metadata": {}
        }
      ],
      "execution_count": 17,
      "metadata": {}
    },
    {
      "cell_type": "markdown",
      "source": [
        "In the chart above, the colored lines overlap because the jobs were run in parallel. Contrast that with the following example using serial processing."
      ],
      "metadata": {}
    },
    {
      "cell_type": "markdown",
      "source": [
        "## Serial processing\n",
        "\nBelow, the code is much more concise. However, the `ezpq.Queue` has only 1 worker. This is equivalent to having no concurrency at all, and instead performing each operation after another."
      ],
      "metadata": {}
    },
    {
      "cell_type": "code",
      "source": [
        "with ezpq.Queue(n_workers=1) as Q: # create an ezpq.Queue() with 1 workers.    \n",
        "    for i in range(3): # create 3 jobs, each sleeping for 1 second.\n",
        "        Q.put(function=time.sleep, args=1)\n",
        "    \n",
        "    Q.wait() # wait for all jobs to complete.\n",
        "    \n",
        "    results = Q.collect() # collect completed jobs from queue.\n",
        "    \n",
        "df = pd.DataFrame(results)\n",
        "\ndf.head()"
      ],
      "outputs": [
        {
          "output_type": "execute_result",
          "execution_count": 18,
          "data": {
            "text/plain": [
              "   args callback  cancelled                      ended  exitcode function  id  \\\n",
              "0     1     None      False 2018-12-14 01:21:43.490321         0    sleep   1   \n",
              "1     1     None      False 2018-12-14 01:21:44.523924         0    sleep   2   \n",
              "2     1     None      False 2018-12-14 01:21:45.559968         0    sleep   3   \n",
              "\n",
              "  kwargs  name output  priority                  processed   runtime  \\\n",
              "0   None     1   None       100 2018-12-14 01:21:43.510847  1.007372   \n",
              "1   None     2   None       100 2018-12-14 01:21:44.548645  1.008899   \n",
              "2   None     3   None       100 2018-12-14 01:21:45.586352  1.008192   \n",
              "\n",
              "                     started                  submitted  timeout  \n",
              "0 2018-12-14 01:21:42.482949 2018-12-14 01:21:42.480392        0  \n",
              "1 2018-12-14 01:21:43.515025 2018-12-14 01:21:42.483390        0  \n",
              "2 2018-12-14 01:21:44.551776 2018-12-14 01:21:42.483526        0  "
            ],
            "text/html": [
              "<div>\n",
              "<style scoped>\n",
              "    .dataframe tbody tr th:only-of-type {\n",
              "        vertical-align: middle;\n",
              "    }\n",
              "\n",
              "    .dataframe tbody tr th {\n",
              "        vertical-align: top;\n",
              "    }\n",
              "\n",
              "    .dataframe thead th {\n",
              "        text-align: right;\n",
              "    }\n",
              "</style>\n",
              "<table border=\"1\" class=\"dataframe\">\n",
              "  <thead>\n",
              "    <tr style=\"text-align: right;\">\n",
              "      <th></th>\n",
              "      <th>args</th>\n",
              "      <th>callback</th>\n",
              "      <th>cancelled</th>\n",
              "      <th>ended</th>\n",
              "      <th>exitcode</th>\n",
              "      <th>function</th>\n",
              "      <th>id</th>\n",
              "      <th>kwargs</th>\n",
              "      <th>name</th>\n",
              "      <th>output</th>\n",
              "      <th>priority</th>\n",
              "      <th>processed</th>\n",
              "      <th>runtime</th>\n",
              "      <th>started</th>\n",
              "      <th>submitted</th>\n",
              "      <th>timeout</th>\n",
              "    </tr>\n",
              "  </thead>\n",
              "  <tbody>\n",
              "    <tr>\n",
              "      <th>0</th>\n",
              "      <td>1</td>\n",
              "      <td>None</td>\n",
              "      <td>False</td>\n",
              "      <td>2018-12-14 01:21:43.490321</td>\n",
              "      <td>0</td>\n",
              "      <td>sleep</td>\n",
              "      <td>1</td>\n",
              "      <td>None</td>\n",
              "      <td>1</td>\n",
              "      <td>None</td>\n",
              "      <td>100</td>\n",
              "      <td>2018-12-14 01:21:43.510847</td>\n",
              "      <td>1.007372</td>\n",
              "      <td>2018-12-14 01:21:42.482949</td>\n",
              "      <td>2018-12-14 01:21:42.480392</td>\n",
              "      <td>0</td>\n",
              "    </tr>\n",
              "    <tr>\n",
              "      <th>1</th>\n",
              "      <td>1</td>\n",
              "      <td>None</td>\n",
              "      <td>False</td>\n",
              "      <td>2018-12-14 01:21:44.523924</td>\n",
              "      <td>0</td>\n",
              "      <td>sleep</td>\n",
              "      <td>2</td>\n",
              "      <td>None</td>\n",
              "      <td>2</td>\n",
              "      <td>None</td>\n",
              "      <td>100</td>\n",
              "      <td>2018-12-14 01:21:44.548645</td>\n",
              "      <td>1.008899</td>\n",
              "      <td>2018-12-14 01:21:43.515025</td>\n",
              "      <td>2018-12-14 01:21:42.483390</td>\n",
              "      <td>0</td>\n",
              "    </tr>\n",
              "    <tr>\n",
              "      <th>2</th>\n",
              "      <td>1</td>\n",
              "      <td>None</td>\n",
              "      <td>False</td>\n",
              "      <td>2018-12-14 01:21:45.559968</td>\n",
              "      <td>0</td>\n",
              "      <td>sleep</td>\n",
              "      <td>3</td>\n",
              "      <td>None</td>\n",
              "      <td>3</td>\n",
              "      <td>None</td>\n",
              "      <td>100</td>\n",
              "      <td>2018-12-14 01:21:45.586352</td>\n",
              "      <td>1.008192</td>\n",
              "      <td>2018-12-14 01:21:44.551776</td>\n",
              "      <td>2018-12-14 01:21:42.483526</td>\n",
              "      <td>0</td>\n",
              "    </tr>\n",
              "  </tbody>\n",
              "</table>\n",
              "</div>"
            ]
          },
          "metadata": {}
        }
      ],
      "execution_count": 18,
      "metadata": {}
    },
    {
      "cell_type": "code",
      "source": [
        "# visualize the steps.\n",
        "ezpq.Plot(results).build()"
      ],
      "outputs": [
        {
          "output_type": "display_data",
          "data": {
            "text/plain": [
              "<Figure size 640x480 with 1 Axes>"
            ],
            "image/png": "[encoded data removed]"
          },
          "metadata": {}
        },
        {
          "output_type": "execute_result",
          "execution_count": 19,
          "data": {
            "text/plain": [
              "<ggplot: (291551194)>"
            ]
          },
          "metadata": {}
        }
      ],
      "execution_count": 19,
      "metadata": {}
    },
    {
      "cell_type": "markdown",
      "source": [
        "## More examples"
      ],
      "metadata": {}
    },
    {
      "cell_type": "markdown",
      "source": [
        "Shared parameters; adjust as desired."
      ],
      "metadata": {}
    },
    {
      "cell_type": "code",
      "source": [
        "n_workers = 10 # number of workers to process the queue.\n",
        "n_inputs  = 50 # number of inputs to the queue.\n",
        "job_time  = 1  # number of seconds each input will 'sleep'"
      ],
      "outputs": [],
      "execution_count": 20,
      "metadata": {
        "collapsed": false,
        "inputHidden": false,
        "outputHidden": false
      }
    },
    {
      "cell_type": "markdown",
      "source": [
        "---"
      ],
      "metadata": {}
    },
    {
      "cell_type": "code",
      "source": [
        "with ezpq.Queue(n_workers=n_workers) as Q: # create an ezpq.Queue() with 10 workers.    \n",
        "    for i in range(n_inputs): # create 50 jobs, each sleeping for 1 second.\n",
        "        Q.put(function=time.sleep, args=job_time)\n",
        "    \n",
        "    Q.wait() # wait for all jobs to complete.\n",
        "    \n",
        "    results = Q.collect() # collect completed jobs from queue.\n",
        "    \n",
        "df = pd.DataFrame(results)\n",
        "\ndf.head()"
      ],
      "outputs": [
        {
          "output_type": "execute_result",
          "execution_count": 21,
          "data": {
            "text/plain": [
              "   args callback  cancelled                      ended  exitcode function  id  \\\n",
              "0     1     None      False 2018-12-14 01:21:47.275355         0    sleep   1   \n",
              "1     1     None      False 2018-12-14 01:21:47.278906         0    sleep   2   \n",
              "2     1     None      False 2018-12-14 01:21:47.285168         0    sleep   3   \n",
              "3     1     None      False 2018-12-14 01:21:47.290123         0    sleep   4   \n",
              "4     1     None      False 2018-12-14 01:21:47.295000         0    sleep   5   \n",
              "\n",
              "  kwargs  name output  priority                  processed   runtime  \\\n",
              "0   None     1   None       100 2018-12-14 01:21:47.300847  1.008816   \n",
              "1   None     2   None       100 2018-12-14 01:21:47.301042  1.007733   \n",
              "2   None     3   None       100 2018-12-14 01:21:47.301279  1.009126   \n",
              "3   None     4   None       100 2018-12-14 01:21:47.301468  1.008680   \n",
              "4   None     5   None       100 2018-12-14 01:21:47.301622  1.008244   \n",
              "\n",
              "                     started                  submitted  timeout  \n",
              "0 2018-12-14 01:21:46.266539 2018-12-14 01:21:46.263539        0  \n",
              "1 2018-12-14 01:21:46.271173 2018-12-14 01:21:46.266918        0  \n",
              "2 2018-12-14 01:21:46.276042 2018-12-14 01:21:46.271623        0  \n",
              "3 2018-12-14 01:21:46.281443 2018-12-14 01:21:46.276459        0  \n",
              "4 2018-12-14 01:21:46.286756 2018-12-14 01:21:46.281916        0  "
            ],
            "text/html": [
              "<div>\n",
              "<style scoped>\n",
              "    .dataframe tbody tr th:only-of-type {\n",
              "        vertical-align: middle;\n",
              "    }\n",
              "\n",
              "    .dataframe tbody tr th {\n",
              "        vertical-align: top;\n",
              "    }\n",
              "\n",
              "    .dataframe thead th {\n",
              "        text-align: right;\n",
              "    }\n",
              "</style>\n",
              "<table border=\"1\" class=\"dataframe\">\n",
              "  <thead>\n",
              "    <tr style=\"text-align: right;\">\n",
              "      <th></th>\n",
              "      <th>args</th>\n",
              "      <th>callback</th>\n",
              "      <th>cancelled</th>\n",
              "      <th>ended</th>\n",
              "      <th>exitcode</th>\n",
              "      <th>function</th>\n",
              "      <th>id</th>\n",
              "      <th>kwargs</th>\n",
              "      <th>name</th>\n",
              "      <th>output</th>\n",
              "      <th>priority</th>\n",
              "      <th>processed</th>\n",
              "      <th>runtime</th>\n",
              "      <th>started</th>\n",
              "      <th>submitted</th>\n",
              "      <th>timeout</th>\n",
              "    </tr>\n",
              "  </thead>\n",
              "  <tbody>\n",
              "    <tr>\n",
              "      <th>0</th>\n",
              "      <td>1</td>\n",
              "      <td>None</td>\n",
              "      <td>False</td>\n",
              "      <td>2018-12-14 01:21:47.275355</td>\n",
              "      <td>0</td>\n",
              "      <td>sleep</td>\n",
              "      <td>1</td>\n",
              "      <td>None</td>\n",
              "      <td>1</td>\n",
              "      <td>None</td>\n",
              "      <td>100</td>\n",
              "      <td>2018-12-14 01:21:47.300847</td>\n",
              "      <td>1.008816</td>\n",
              "      <td>2018-12-14 01:21:46.266539</td>\n",
              "      <td>2018-12-14 01:21:46.263539</td>\n",
              "      <td>0</td>\n",
              "    </tr>\n",
              "    <tr>\n",
              "      <th>1</th>\n",
              "      <td>1</td>\n",
              "      <td>None</td>\n",
              "      <td>False</td>\n",
              "      <td>2018-12-14 01:21:47.278906</td>\n",
              "      <td>0</td>\n",
              "      <td>sleep</td>\n",
              "      <td>2</td>\n",
              "      <td>None</td>\n",
              "      <td>2</td>\n",
              "      <td>None</td>\n",
              "      <td>100</td>\n",
              "      <td>2018-12-14 01:21:47.301042</td>\n",
              "      <td>1.007733</td>\n",
              "      <td>2018-12-14 01:21:46.271173</td>\n",
              "      <td>2018-12-14 01:21:46.266918</td>\n",
              "      <td>0</td>\n",
              "    </tr>\n",
              "    <tr>\n",
              "      <th>2</th>\n",
              "      <td>1</td>\n",
              "      <td>None</td>\n",
              "      <td>False</td>\n",
              "      <td>2018-12-14 01:21:47.285168</td>\n",
              "      <td>0</td>\n",
              "      <td>sleep</td>\n",
              "      <td>3</td>\n",
              "      <td>None</td>\n",
              "      <td>3</td>\n",
              "      <td>None</td>\n",
              "      <td>100</td>\n",
              "      <td>2018-12-14 01:21:47.301279</td>\n",
              "      <td>1.009126</td>\n",
              "      <td>2018-12-14 01:21:46.276042</td>\n",
              "      <td>2018-12-14 01:21:46.271623</td>\n",
              "      <td>0</td>\n",
              "    </tr>\n",
              "    <tr>\n",
              "      <th>3</th>\n",
              "      <td>1</td>\n",
              "      <td>None</td>\n",
              "      <td>False</td>\n",
              "      <td>2018-12-14 01:21:47.290123</td>\n",
              "      <td>0</td>\n",
              "      <td>sleep</td>\n",
              "      <td>4</td>\n",
              "      <td>None</td>\n",
              "      <td>4</td>\n",
              "      <td>None</td>\n",
              "      <td>100</td>\n",
              "      <td>2018-12-14 01:21:47.301468</td>\n",
              "      <td>1.008680</td>\n",
              "      <td>2018-12-14 01:21:46.281443</td>\n",
              "      <td>2018-12-14 01:21:46.276459</td>\n",
              "      <td>0</td>\n",
              "    </tr>\n",
              "    <tr>\n",
              "      <th>4</th>\n",
              "      <td>1</td>\n",
              "      <td>None</td>\n",
              "      <td>False</td>\n",
              "      <td>2018-12-14 01:21:47.295000</td>\n",
              "      <td>0</td>\n",
              "      <td>sleep</td>\n",
              "      <td>5</td>\n",
              "      <td>None</td>\n",
              "      <td>5</td>\n",
              "      <td>None</td>\n",
              "      <td>100</td>\n",
              "      <td>2018-12-14 01:21:47.301622</td>\n",
              "      <td>1.008244</td>\n",
              "      <td>2018-12-14 01:21:46.286756</td>\n",
              "      <td>2018-12-14 01:21:46.281916</td>\n",
              "      <td>0</td>\n",
              "    </tr>\n",
              "  </tbody>\n",
              "</table>\n",
              "</div>"
            ]
          },
          "metadata": {}
        }
      ],
      "execution_count": 21,
      "metadata": {
        "collapsed": false,
        "inputHidden": false,
        "outputHidden": false
      }
    },
    {
      "cell_type": "code",
      "source": [
        "title='{} inputs, {}s job time, {} workers (parallel).'.format(n_inputs, job_time, n_workers)\n",
        "\n",
        "plt = ezpq.Plot(results, title=title).build()\n",
        "\n",
        "plt.save('imgs/{}x{}x{}.png'.format(n_inputs, job_time, n_workers))\n",
        "plt"
      ],
      "outputs": [
        {
          "output_type": "stream",
          "name": "stderr",
          "text": [
            "/Users/donald/envs/mypy36/lib/python3.6/site-packages/plotnine/ggplot.py:706: UserWarning: Saving 6.4 x 4.8 in image.\n",
            "  from_inches(height, units), units))\n",
            "/Users/donald/envs/mypy36/lib/python3.6/site-packages/plotnine/ggplot.py:707: UserWarning: Filename: imgs/50x1x10.png\n",
            "  warn('Filename: {}'.format(filename))\n"
          ]
        },
        {
          "output_type": "display_data",
          "data": {
            "text/plain": [
              "<Figure size 640x480 with 1 Axes>"
            ],
            "image/png": "[encoded data removed]"
          },
          "metadata": {}
        },
        {
          "output_type": "execute_result",
          "execution_count": 22,
          "data": {
            "text/plain": [
              "<ggplot: (-9223372036547189304)>"
            ]
          },
          "metadata": {}
        }
      ],
      "execution_count": 22,
      "metadata": {
        "collapsed": false,
        "inputHidden": false,
        "outputHidden": false
      }
    },
    {
      "cell_type": "markdown",
      "source": [
        "## Job Priority"
      ],
      "metadata": {}
    },
    {
      "cell_type": "markdown",
      "source": [
        "Jobs are prioritized by (1) custom priority and (2) arrival time. By using a priority queue for both pending and completed jobs, you can be sure that higher priority jobs are executed and retrieved sooner.\n",
        "\nThe default priority value is 100. Lower values take higher priority."
      ],
      "metadata": {}
    },
    {
      "cell_type": "code",
      "source": [
        "with ezpq.Queue(n_workers=n_workers) as Q:\n",
        "\n",
        "    for i in range(n_inputs):\n",
        "        Q.put(function=time.sleep, args=job_time,\n",
        "              priority=int((i+1) % 10 != 0)+1) # prioritize numbers divisible by ten.\n",
        "\n",
        "    Q.wait()\n",
        "\n",
        "    results = Q.collect()\n",
        "\n",
        "title = '{} inputs, {}s job time, {} workers (prioritized).'.format(n_inputs, job_time, n_workers)\n",
        "\n",
        "plt = ezpq.Plot(results, title=title, color_by='priority').build()\n",
        "\n",
        "plt.save('imgs/100x1x10_priority.png')\n",
        "plt"
      ],
      "outputs": [
        {
          "output_type": "stream",
          "name": "stderr",
          "text": [
            "/Users/donald/envs/mypy36/lib/python3.6/site-packages/plotnine/ggplot.py:706: UserWarning: Saving 6.4 x 4.8 in image.\n",
            "  from_inches(height, units), units))\n",
            "/Users/donald/envs/mypy36/lib/python3.6/site-packages/plotnine/ggplot.py:707: UserWarning: Filename: imgs/100x1x10_priority.png\n",
            "  warn('Filename: {}'.format(filename))\n"
          ]
        },
        {
          "output_type": "display_data",
          "data": {
            "text/plain": [
              "<Figure size 640x480 with 1 Axes>"
            ],
            "image/png": "[encoded data removed]"
          },
          "metadata": {}
        },
        {
          "output_type": "execute_result",
          "execution_count": 23,
          "data": {
            "text/plain": [
              "<ggplot: (-9223372036546690037)>"
            ]
          },
          "metadata": {}
        }
      ],
      "execution_count": 23,
      "metadata": {
        "collapsed": false,
        "inputHidden": false,
        "outputHidden": false
      }
    },
    {
      "cell_type": "markdown",
      "source": [
        "Notice how some lower priority 2 jobs are processed before the higher priority 1 jobs. That is because those priority 2 jobs arrived when there were no priority 1 jobs, so they were started and completed first."
      ],
      "metadata": {}
    },
    {
      "cell_type": "code",
      "source": [
        "with ezpq.Queue(n_workers=n_workers, auto_start=False) as Q: # suppress auto_start (not required).\n",
        "\n",
        "    for i in range(n_inputs):\n",
        "        \n",
        "        Q.put(function=time.sleep, args=job_time,\n",
        "              priority=int(bool((i+1) % 10 != 0))+1) # prioritize numbers divisible by ten.\n",
        "        \n",
        "    Q.start() # start *after* adding all jobs to queue.\n",
        "\n",
        "    Q.wait()\n",
        "\n",
        "    results = Q.collect()\n",
        "\n",
        "title = '{} inputs, {}s job time, {} workers (prioritized).'.format(n_inputs, job_time, n_workers)\n",
        "plt = ezpq.Plot(results, title=title, color_by='priority').build()\n",
        "\n",
        "plt.save('imgs/100x1x10_priority.png')\n",
        "plt"
      ],
      "outputs": [
        {
          "output_type": "stream",
          "name": "stderr",
          "text": [
            "/Users/donald/envs/mypy36/lib/python3.6/site-packages/plotnine/ggplot.py:706: UserWarning: Saving 6.4 x 4.8 in image.\n",
            "  from_inches(height, units), units))\n",
            "/Users/donald/envs/mypy36/lib/python3.6/site-packages/plotnine/ggplot.py:707: UserWarning: Filename: imgs/100x1x10_priority.png\n",
            "  warn('Filename: {}'.format(filename))\n"
          ]
        },
        {
          "output_type": "display_data",
          "data": {
            "text/plain": [
              "<Figure size 640x480 with 1 Axes>"
            ],
            "image/png": "[encoded data removed]"
          },
          "metadata": {}
        },
        {
          "output_type": "execute_result",
          "execution_count": 24,
          "data": {
            "text/plain": [
              "<ggplot: (-9223372036547322750)>"
            ]
          },
          "metadata": {}
        }
      ],
      "execution_count": 24,
      "metadata": {
        "collapsed": false,
        "inputHidden": false,
        "outputHidden": false
      }
    },
    {
      "cell_type": "markdown",
      "source": [
        "## Threads\n",
        "\n",
        "By default, `ezpq.Queue` uses `multiprocessing.Process` to spawn new jobs. However, you can use `threading.Thread` instead by specifying `job_runner=Thread` when creating the Queue. Some of the differences between processes and threads are explained [here](https://medium.com/@bfortuner/python-multithreading-vs-multiprocessing-73072ce5600b).\n",
        "\n",
        "> Note that, inherently, `Thread` loses the ability to enforce a timeout, to kill jobs, or to obtain exit codes.\n",
        "\n",
        "Aside from that, there's no difference in how you interact with ezpq.\n",
        "\nIn addition to using Threads, the example below varies the job time between 0-2 seconds."
      ],
      "metadata": {}
    },
    {
      "cell_type": "code",
      "source": [
        "from threading import Thread\n",
        "\n",
        "with ezpq.Queue(n_workers=n_workers, job_runner=Thread) as Q:\n",
        "\n",
        "    for i in range(n_inputs):\n",
        "        sleep_sec = random.randint(0, job_time*2000) / 1000 # sleep for random time between 0-2s (avg=1s).\n",
        "        \n",
        "        Q.put(function=time.sleep, args=sleep_sec)\n",
        "\n",
        "    Q.wait()\n",
        "\n",
        "    results = Q.collect()\n",
        "\n",
        "title = '{} inputs, 0-2s job time, {} workers (threads).'.format(n_inputs, job_time, n_workers)\n",
        "plt = ezpq.Plot(results, title=title).build()\n",
        "\n",
        "plt.save('imgs/100xNx10.png')\n",
        "plt"
      ],
      "outputs": [
        {
          "output_type": "stream",
          "name": "stderr",
          "text": [
            "/Users/donald/envs/mypy36/lib/python3.6/site-packages/plotnine/ggplot.py:706: UserWarning: Saving 6.4 x 4.8 in image.\n",
            "  from_inches(height, units), units))\n",
            "/Users/donald/envs/mypy36/lib/python3.6/site-packages/plotnine/ggplot.py:707: UserWarning: Filename: imgs/100xNx10.png\n",
            "  warn('Filename: {}'.format(filename))\n"
          ]
        },
        {
          "output_type": "display_data",
          "data": {
            "text/plain": [
              "<Figure size 640x480 with 1 Axes>"
            ],
            "image/png": "[encoded data removed]"
          },
          "metadata": {}
        },
        {
          "output_type": "execute_result",
          "execution_count": 25,
          "data": {
            "text/plain": [
              "<ggplot: (309041237)>"
            ]
          },
          "metadata": {}
        }
      ],
      "execution_count": 25,
      "metadata": {
        "collapsed": false,
        "inputHidden": false,
        "outputHidden": false
      }
    },
    {
      "cell_type": "markdown",
      "source": [
        "## Timeout\n",
        "\n> Recall that you can only use timeout when using processes, not threads."
      ],
      "metadata": {}
    },
    {
      "cell_type": "code",
      "source": [
        "n_inputs = 50\n",
        "job_time = 1"
      ],
      "outputs": [],
      "execution_count": 26,
      "metadata": {
        "collapsed": false,
        "outputHidden": false,
        "inputHidden": false
      }
    },
    {
      "cell_type": "code",
      "source": [
        "with ezpq.Queue(n_workers=n_workers) as Q:\n",
        "\n",
        "    for i in range(n_inputs):\n",
        "        sleep_sec = random.randint(0, job_time*2000) / 1000 # sleep between 0s and 2s (avg=1s).\n",
        "\n",
        "        Q.put(function=time.sleep, args=sleep_sec,\n",
        "              timeout=job_time*1.8) # 1.8 < 2; timeout will occur on ~10% of jobs.\n",
        "\n",
        "    Q.wait()\n",
        "\n",
        "    results = Q.collect()\n",
        "    \n",
        "title = '{} inputs, 0-2s job time, {} workers (timeout=1.8s).'.format(n_inputs, job_time, n_workers)\n",
        "\n",
        "plt = ezpq.Plot(results, color_by='cancelled', title=title).build()\n",
        "\n",
        "plt.save('imgs/{}xNx{}_timeouts.png'.format(n_inputs, n_workers))\n",
        "plt"
      ],
      "outputs": [
        {
          "output_type": "stream",
          "name": "stderr",
          "text": [
            "/Users/donald/envs/mypy36/lib/python3.6/site-packages/plotnine/ggplot.py:706: UserWarning: Saving 6.4 x 4.8 in image.\n",
            "  from_inches(height, units), units))\n",
            "/Users/donald/envs/mypy36/lib/python3.6/site-packages/plotnine/ggplot.py:707: UserWarning: Filename: imgs/50xNx10_timeouts.png\n",
            "  warn('Filename: {}'.format(filename))\n"
          ]
        },
        {
          "output_type": "display_data",
          "data": {
            "text/plain": [
              "<Figure size 640x480 with 1 Axes>"
            ],
            "image/png": "[encoded data removed]"
          },
          "metadata": {}
        },
        {
          "output_type": "execute_result",
          "execution_count": 27,
          "data": {
            "text/plain": [
              "<ggplot: (308544064)>"
            ]
          },
          "metadata": {}
        }
      ],
      "execution_count": 27,
      "metadata": {
        "collapsed": false,
        "inputHidden": false,
        "outputHidden": false
      }
    },
    {
      "cell_type": "markdown",
      "source": [
        "## Logging\n",
        "\n",
        "Writing to a log is as simple as adding `log_file='/path/to/file.csv'`. \n",
        "\nThe example below illustrates a simply real-world use case. The goal is to obtain the total count and size of files within various folders. One process will be spawned to enumerate each folder. By doing so in parallel, the entire operation only takes as long as the single-most long operation."
      ],
      "metadata": {}
    },
    {
      "cell_type": "markdown",
      "source": [
        "Define the function to enumerate the files."
      ],
      "metadata": {}
    },
    {
      "cell_type": "code",
      "source": [
        "import os, fnmatch\n",
        "def enum_files(path, pattern):\n",
        "    '''https://stackoverflow.com/a/1724723'''\n",
        "    n, size = 0, 0\n",
        "    for root, dirs, files in os.walk(path, followlinks=True):\n",
        "        for name in files:\n",
        "            if pattern is None or fnmatch.fnmatch(name, pattern):\n",
        "                n += 1\n",
        "                size += os.path.getsize( os.path.join(root, name) )\n",
        "                \n",
        "    return (n, size)\n",
        "\n",
        "root_dir = os.environ['HOME']\n",
        "\n",
        "include_dirs = [os.path.join(root_dir, x)\n",
        "                for x in ['bin', 'Desktop', 'Documents', 'Downloads', 'Music', 'Pictures']]"
      ],
      "outputs": [],
      "execution_count": 39,
      "metadata": {
        "collapsed": false,
        "inputHidden": false,
        "outputHidden": false
      }
    },
    {
      "cell_type": "code",
      "source": [
        "log_file = 'ezpq_log.csv'\n",
        "\n",
        "# first, remove existing log file.\n",
        "if os.path.exists(log_file):\n",
        "    os.unlink(log_file)"
      ],
      "outputs": [],
      "execution_count": 40,
      "metadata": {}
    },
    {
      "cell_type": "markdown",
      "source": [
        "Each result will be written to a CSV file and discarded. Afterward, we'll read the CSV back in and draw a plot.\n",
        "\nNotice there is no call to `get()` or `collect()`. Because `auto_remove=True`, jobs are discarded; there is no completed queue to pull from."
      ],
      "metadata": {}
    },
    {
      "cell_type": "code",
      "source": [
        "with ezpq.Queue(n_workers = len(include_dirs),\n",
        "                log_file=log_file, auto_remove=True) as Q:\n",
        "\n",
        "    for path in include_dirs:\n",
        "        Q.put(name=path,\n",
        "              function=enum_files,\n",
        "              kwargs={'path': path, 'pattern': '*'})\n",
        "\n    Q.wait()"
      ],
      "outputs": [],
      "execution_count": 41,
      "metadata": {
        "collapsed": false,
        "inputHidden": false,
        "outputHidden": false
      }
    },
    {
      "cell_type": "markdown",
      "source": [
        "Read the CSV file back in with pandas."
      ],
      "metadata": {}
    },
    {
      "cell_type": "code",
      "source": [
        "date_cols = ['submitted', 'started', 'ended', 'processed']\n",
        "\n",
        "results\n",
        "\n",
        "df = pd.read_csv(log_file, parse_dates=date_cols)\n",
        "\ndf.head()"
      ],
      "outputs": [
        {
          "output_type": "execute_result",
          "execution_count": 42,
          "data": {
            "text/plain": [
              "   id                     name  priority  timeout    function  args  \\\n",
              "0   2    /Users/donald/Desktop       100        0  enum_files   NaN   \n",
              "1   5      /Users/donald/Music       100        0  enum_files   NaN   \n",
              "2   1        /Users/donald/bin       100        0  enum_files   NaN   \n",
              "3   4  /Users/donald/Downloads       100        0  enum_files   NaN   \n",
              "4   3  /Users/donald/Documents       100        0  enum_files   NaN   \n",
              "\n",
              "                                              kwargs  \\\n",
              "0  {'path': '/Users/donald/Desktop', 'pattern': '*'}   \n",
              "1    {'path': '/Users/donald/Music', 'pattern': '*'}   \n",
              "2      {'path': '/Users/donald/bin', 'pattern': '*'}   \n",
              "3  {'path': '/Users/donald/Downloads', 'pattern':...   \n",
              "4  {'path': '/Users/donald/Documents', 'pattern':...   \n",
              "\n",
              "                   submitted                    started  \\\n",
              "0 2018-12-14 01:35:12.438547 2018-12-14 01:35:12.443337   \n",
              "1 2018-12-14 01:35:12.454567 2018-12-14 01:35:12.460151   \n",
              "2 2018-12-14 01:35:12.434811 2018-12-14 01:35:12.438180   \n",
              "3 2018-12-14 01:35:12.448823 2018-12-14 01:35:12.454176   \n",
              "4 2018-12-14 01:35:12.443739 2018-12-14 01:35:12.448398   \n",
              "\n",
              "                       ended                  processed  exitcode  cancelled  \\\n",
              "0 2018-12-14 01:35:12.453491 2018-12-14 01:35:12.539101         0      False   \n",
              "1 2018-12-14 01:35:12.475792 2018-12-14 01:35:12.541006         0      False   \n",
              "2 2018-12-14 01:35:12.576317 2018-12-14 01:35:12.639028         0      False   \n",
              "3 2018-12-14 01:35:13.614857 2018-12-14 01:35:13.656294         0      False   \n",
              "4 2018-12-14 01:35:14.153907 2018-12-14 01:35:14.161876         0      False   \n",
              "\n",
              "    runtime                                             output  callback  \n",
              "0  0.010154                                    (13, 220849528)       NaN  \n",
              "1  0.015641                                      (57, 3311076)       NaN  \n",
              "2  0.138137  [Errno 2] No such file or directory: '/Users/d...       NaN  \n",
              "3  1.160681                                (38037, 6356471918)       NaN  \n",
              "4  1.705509                               (62508, 15648953778)       NaN  "
            ],
            "text/html": [
              "<div>\n",
              "<style scoped>\n",
              "    .dataframe tbody tr th:only-of-type {\n",
              "        vertical-align: middle;\n",
              "    }\n",
              "\n",
              "    .dataframe tbody tr th {\n",
              "        vertical-align: top;\n",
              "    }\n",
              "\n",
              "    .dataframe thead th {\n",
              "        text-align: right;\n",
              "    }\n",
              "</style>\n",
              "<table border=\"1\" class=\"dataframe\">\n",
              "  <thead>\n",
              "    <tr style=\"text-align: right;\">\n",
              "      <th></th>\n",
              "      <th>id</th>\n",
              "      <th>name</th>\n",
              "      <th>priority</th>\n",
              "      <th>timeout</th>\n",
              "      <th>function</th>\n",
              "      <th>args</th>\n",
              "      <th>kwargs</th>\n",
              "      <th>submitted</th>\n",
              "      <th>started</th>\n",
              "      <th>ended</th>\n",
              "      <th>processed</th>\n",
              "      <th>exitcode</th>\n",
              "      <th>cancelled</th>\n",
              "      <th>runtime</th>\n",
              "      <th>output</th>\n",
              "      <th>callback</th>\n",
              "    </tr>\n",
              "  </thead>\n",
              "  <tbody>\n",
              "    <tr>\n",
              "      <th>0</th>\n",
              "      <td>2</td>\n",
              "      <td>/Users/donald/Desktop</td>\n",
              "      <td>100</td>\n",
              "      <td>0</td>\n",
              "      <td>enum_files</td>\n",
              "      <td>NaN</td>\n",
              "      <td>{'path': '/Users/donald/Desktop', 'pattern': '*'}</td>\n",
              "      <td>2018-12-14 01:35:12.438547</td>\n",
              "      <td>2018-12-14 01:35:12.443337</td>\n",
              "      <td>2018-12-14 01:35:12.453491</td>\n",
              "      <td>2018-12-14 01:35:12.539101</td>\n",
              "      <td>0</td>\n",
              "      <td>False</td>\n",
              "      <td>0.010154</td>\n",
              "      <td>(13, 220849528)</td>\n",
              "      <td>NaN</td>\n",
              "    </tr>\n",
              "    <tr>\n",
              "      <th>1</th>\n",
              "      <td>5</td>\n",
              "      <td>/Users/donald/Music</td>\n",
              "      <td>100</td>\n",
              "      <td>0</td>\n",
              "      <td>enum_files</td>\n",
              "      <td>NaN</td>\n",
              "      <td>{'path': '/Users/donald/Music', 'pattern': '*'}</td>\n",
              "      <td>2018-12-14 01:35:12.454567</td>\n",
              "      <td>2018-12-14 01:35:12.460151</td>\n",
              "      <td>2018-12-14 01:35:12.475792</td>\n",
              "      <td>2018-12-14 01:35:12.541006</td>\n",
              "      <td>0</td>\n",
              "      <td>False</td>\n",
              "      <td>0.015641</td>\n",
              "      <td>(57, 3311076)</td>\n",
              "      <td>NaN</td>\n",
              "    </tr>\n",
              "    <tr>\n",
              "      <th>2</th>\n",
              "      <td>1</td>\n",
              "      <td>/Users/donald/bin</td>\n",
              "      <td>100</td>\n",
              "      <td>0</td>\n",
              "      <td>enum_files</td>\n",
              "      <td>NaN</td>\n",
              "      <td>{'path': '/Users/donald/bin', 'pattern': '*'}</td>\n",
              "      <td>2018-12-14 01:35:12.434811</td>\n",
              "      <td>2018-12-14 01:35:12.438180</td>\n",
              "      <td>2018-12-14 01:35:12.576317</td>\n",
              "      <td>2018-12-14 01:35:12.639028</td>\n",
              "      <td>0</td>\n",
              "      <td>False</td>\n",
              "      <td>0.138137</td>\n",
              "      <td>[Errno 2] No such file or directory: '/Users/d...</td>\n",
              "      <td>NaN</td>\n",
              "    </tr>\n",
              "    <tr>\n",
              "      <th>3</th>\n",
              "      <td>4</td>\n",
              "      <td>/Users/donald/Downloads</td>\n",
              "      <td>100</td>\n",
              "      <td>0</td>\n",
              "      <td>enum_files</td>\n",
              "      <td>NaN</td>\n",
              "      <td>{'path': '/Users/donald/Downloads', 'pattern':...</td>\n",
              "      <td>2018-12-14 01:35:12.448823</td>\n",
              "      <td>2018-12-14 01:35:12.454176</td>\n",
              "      <td>2018-12-14 01:35:13.614857</td>\n",
              "      <td>2018-12-14 01:35:13.656294</td>\n",
              "      <td>0</td>\n",
              "      <td>False</td>\n",
              "      <td>1.160681</td>\n",
              "      <td>(38037, 6356471918)</td>\n",
              "      <td>NaN</td>\n",
              "    </tr>\n",
              "    <tr>\n",
              "      <th>4</th>\n",
              "      <td>3</td>\n",
              "      <td>/Users/donald/Documents</td>\n",
              "      <td>100</td>\n",
              "      <td>0</td>\n",
              "      <td>enum_files</td>\n",
              "      <td>NaN</td>\n",
              "      <td>{'path': '/Users/donald/Documents', 'pattern':...</td>\n",
              "      <td>2018-12-14 01:35:12.443739</td>\n",
              "      <td>2018-12-14 01:35:12.448398</td>\n",
              "      <td>2018-12-14 01:35:14.153907</td>\n",
              "      <td>2018-12-14 01:35:14.161876</td>\n",
              "      <td>0</td>\n",
              "      <td>False</td>\n",
              "      <td>1.705509</td>\n",
              "      <td>(62508, 15648953778)</td>\n",
              "      <td>NaN</td>\n",
              "    </tr>\n",
              "  </tbody>\n",
              "</table>\n",
              "</div>"
            ]
          },
          "metadata": {}
        }
      ],
      "execution_count": 42,
      "metadata": {}
    },
    {
      "cell_type": "code",
      "source": [
        "# ezpq.Plot requires a dictionary of job data records.\n",
        "records = df.to_dict(orient='records')\n",
        "\n",
        "plt = ezpq.Plot(records, color_by='name', bar_width=5).build()\n",
        "\n",
        "# plt.save('...')\n",
        "plt"
      ],
      "outputs": [
        {
          "output_type": "display_data",
          "data": {
            "text/plain": [
              "<Figure size 640x480 with 1 Axes>"
            ],
            "image/png": "[encoded data removed]"
          },
          "metadata": {}
        },
        {
          "output_type": "execute_result",
          "execution_count": 38,
          "data": {
            "text/plain": [
              "<ggplot: (308740307)>"
            ]
          },
          "metadata": {}
        }
      ],
      "execution_count": 38,
      "metadata": {}
    },
    {
      "cell_type": "markdown",
      "source": [
        "## Callback\n",
        "\nIf instantiated with a callback, `ezpq.Queue` will pass a dictionary of job data as the single argument to the callback function. It does this synchronously, so the callback must not take too much time. I may make the callback asynchronous in the future."
      ],
      "metadata": {}
    },
    {
      "cell_type": "code",
      "source": [
        "def slow_callback(x):\n",
        "    time.sleep(0.5)"
      ],
      "outputs": [],
      "execution_count": 54,
      "metadata": {
        "collapsed": false,
        "outputHidden": false,
        "inputHidden": false
      }
    },
    {
      "cell_type": "code",
      "source": [
        "with ezpq.Queue(n_workers=n_workers, callback=slow_callback, poll=0.5) as Q:\n",
        "    for _ in range(n_inputs):\n",
        "        Q.put(time.sleep, 1)\n",
        "    Q.wait()\n",
        "    results = Q.collect()"
      ],
      "outputs": [
        {
          "output_type": "stream",
          "name": "stderr",
          "text": [
            "WARNING:root:Pulse already running. If you see this repeatedly, consider increasing the value of \"poll\", or removing a slow callback.\n",
            "WARNING:root:Pulse already running. If you see this repeatedly, consider increasing the value of \"poll\", or removing a slow callback.\n",
            "WARNING:root:Pulse already running. If you see this repeatedly, consider increasing the value of \"poll\", or removing a slow callback.\n",
            "WARNING:root:Pulse already running. If you see this repeatedly, consider increasing the value of \"poll\", or removing a slow callback.\n",
            "WARNING:root:Pulse already running. If you see this repeatedly, consider increasing the value of \"poll\", or removing a slow callback.\n",
            "WARNING:root:Pulse already running. If you see this repeatedly, consider increasing the value of \"poll\", or removing a slow callback.\n",
            "WARNING:root:Pulse already running. If you see this repeatedly, consider increasing the value of \"poll\", or removing a slow callback.\n",
            "WARNING:root:Pulse already running. If you see this repeatedly, consider increasing the value of \"poll\", or removing a slow callback.\n",
            "WARNING:root:Pulse already running. If you see this repeatedly, consider increasing the value of \"poll\", or removing a slow callback.\n",
            "WARNING:root:Pulse already running. If you see this repeatedly, consider increasing the value of \"poll\", or removing a slow callback.\n",
            "WARNING:root:Pulse already running. If you see this repeatedly, consider increasing the value of \"poll\", or removing a slow callback.\n",
            "WARNING:root:Pulse already running. If you see this repeatedly, consider increasing the value of \"poll\", or removing a slow callback.\n",
            "WARNING:root:Pulse already running. If you see this repeatedly, consider increasing the value of \"poll\", or removing a slow callback.\n",
            "WARNING:root:Pulse already running. If you see this repeatedly, consider increasing the value of \"poll\", or removing a slow callback.\n",
            "WARNING:root:Pulse already running. If you see this repeatedly, consider increasing the value of \"poll\", or removing a slow callback.\n",
            "WARNING:root:Pulse already running. If you see this repeatedly, consider increasing the value of \"poll\", or removing a slow callback.\n",
            "WARNING:root:Pulse already running. If you see this repeatedly, consider increasing the value of \"poll\", or removing a slow callback.\n",
            "WARNING:root:Pulse already running. If you see this repeatedly, consider increasing the value of \"poll\", or removing a slow callback.\n",
            "WARNING:root:Pulse already running. If you see this repeatedly, consider increasing the value of \"poll\", or removing a slow callback.\n",
            "WARNING:root:Pulse already running. If you see this repeatedly, consider increasing the value of \"poll\", or removing a slow callback.\n",
            "WARNING:root:Pulse already running. If you see this repeatedly, consider increasing the value of \"poll\", or removing a slow callback.\n",
            "WARNING:root:Pulse already running. If you see this repeatedly, consider increasing the value of \"poll\", or removing a slow callback.\n",
            "WARNING:root:Pulse already running. If you see this repeatedly, consider increasing the value of \"poll\", or removing a slow callback.\n",
            "WARNING:root:Pulse already running. If you see this repeatedly, consider increasing the value of \"poll\", or removing a slow callback.\n",
            "WARNING:root:Pulse already running. If you see this repeatedly, consider increasing the value of \"poll\", or removing a slow callback.\n",
            "WARNING:root:Pulse already running. If you see this repeatedly, consider increasing the value of \"poll\", or removing a slow callback.\n",
            "WARNING:root:Pulse already running. If you see this repeatedly, consider increasing the value of \"poll\", or removing a slow callback.\n",
            "WARNING:root:Pulse already running. If you see this repeatedly, consider increasing the value of \"poll\", or removing a slow callback.\n",
            "WARNING:root:Pulse already running. If you see this repeatedly, consider increasing the value of \"poll\", or removing a slow callback.\n",
            "WARNING:root:Pulse already running. If you see this repeatedly, consider increasing the value of \"poll\", or removing a slow callback.\n",
            "WARNING:root:Pulse already running. If you see this repeatedly, consider increasing the value of \"poll\", or removing a slow callback.\n",
            "WARNING:root:Pulse already running. If you see this repeatedly, consider increasing the value of \"poll\", or removing a slow callback.\n",
            "WARNING:root:Pulse already running. If you see this repeatedly, consider increasing the value of \"poll\", or removing a slow callback.\n",
            "WARNING:root:Pulse already running. If you see this repeatedly, consider increasing the value of \"poll\", or removing a slow callback.\n",
            "WARNING:root:Pulse already running. If you see this repeatedly, consider increasing the value of \"poll\", or removing a slow callback.\n",
            "WARNING:root:Pulse already running. If you see this repeatedly, consider increasing the value of \"poll\", or removing a slow callback.\n",
            "WARNING:root:Pulse already running. If you see this repeatedly, consider increasing the value of \"poll\", or removing a slow callback.\n",
            "WARNING:root:Pulse already running. If you see this repeatedly, consider increasing the value of \"poll\", or removing a slow callback.\n",
            "WARNING:root:Pulse already running. If you see this repeatedly, consider increasing the value of \"poll\", or removing a slow callback.\n",
            "WARNING:root:Pulse already running. If you see this repeatedly, consider increasing the value of \"poll\", or removing a slow callback.\n",
            "WARNING:root:Pulse already running. If you see this repeatedly, consider increasing the value of \"poll\", or removing a slow callback.\n",
            "WARNING:root:Pulse already running. If you see this repeatedly, consider increasing the value of \"poll\", or removing a slow callback.\n",
            "WARNING:root:Pulse already running. If you see this repeatedly, consider increasing the value of \"poll\", or removing a slow callback.\n",
            "WARNING:root:Pulse already running. If you see this repeatedly, consider increasing the value of \"poll\", or removing a slow callback.\n",
            "WARNING:root:Pulse already running. If you see this repeatedly, consider increasing the value of \"poll\", or removing a slow callback.\n",
            "WARNING:root:Pulse already running. If you see this repeatedly, consider increasing the value of \"poll\", or removing a slow callback.\n",
            "WARNING:root:Pulse already running. If you see this repeatedly, consider increasing the value of \"poll\", or removing a slow callback.\n",
            "WARNING:root:Pulse already running. If you see this repeatedly, consider increasing the value of \"poll\", or removing a slow callback.\n",
            "WARNING:root:Pulse already running. If you see this repeatedly, consider increasing the value of \"poll\", or removing a slow callback.\n"
          ]
        }
      ],
      "execution_count": 55,
      "metadata": {
        "collapsed": false,
        "outputHidden": false,
        "inputHidden": false
      }
    },
    {
      "cell_type": "code",
      "source": [
        "ezpq.Plot(results).build()"
      ],
      "outputs": [
        {
          "output_type": "display_data",
          "data": {
            "text/plain": [
              "<Figure size 640x480 with 1 Axes>"
            ],
            "image/png": "[encoded data removed]"
          },
          "metadata": {}
        },
        {
          "output_type": "execute_result",
          "execution_count": 56,
          "data": {
            "text/plain": [
              "<ggplot: (-9223372036546741984)>"
            ]
          },
          "metadata": {}
        }
      ],
      "execution_count": 56,
      "metadata": {
        "collapsed": false,
        "outputHidden": false,
        "inputHidden": false
      }
    }
  ],
  "metadata": {
    "kernel_info": {
      "name": "mypy36"
    },
    "kernelspec": {
      "name": "mypy36",
      "language": "python",
      "display_name": "mypy36"
    },
    "language_info": {
      "name": "python",
      "version": "3.6.6",
      "mimetype": "text/x-python",
      "codemirror_mode": {
        "name": "ipython",
        "version": 3
      },
      "pygments_lexer": "ipython3",
      "nbconvert_exporter": "python",
      "file_extension": ".py"
    },
    "nteract": {
      "version": "0.12.3"
    }
  },
  "nbformat": 4,
  "nbformat_minor": 4
}